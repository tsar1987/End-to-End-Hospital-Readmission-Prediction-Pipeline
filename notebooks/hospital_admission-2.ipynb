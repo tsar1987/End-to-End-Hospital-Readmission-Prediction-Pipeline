{
 "cells": [
  {
   "cell_type": "markdown",
   "id": "ee91117f-270f-4dbe-84af-9cd94517ad1d",
   "metadata": {},
   "source": [
    "# load packages"
   ]
  },
  {
   "cell_type": "code",
   "execution_count": 1,
   "id": "4e541c85-eae5-4f8c-82fb-2a1009fef79f",
   "metadata": {},
   "outputs": [],
   "source": [
    "import numpy as np\n",
    "import pandas as pd\n",
    "import matplotlib.pyplot as plt\n",
    "import seaborn as sns"
   ]
  },
  {
   "cell_type": "code",
   "execution_count": 2,
   "id": "b2609cf5-5ac1-4912-ab03-7aeab4a764ef",
   "metadata": {},
   "outputs": [],
   "source": [
    "pd.set_option('display.max_columns', None)"
   ]
  },
  {
   "cell_type": "code",
   "execution_count": 3,
   "id": "dc823711-6882-4c60-8089-fae703ad5356",
   "metadata": {},
   "outputs": [],
   "source": [
    "from pyspark.sql import SparkSession\n",
    "from pyspark.sql.functions import when, col, count, lit, substring"
   ]
  },
  {
   "cell_type": "code",
   "execution_count": 4,
   "id": "1d6b6723-b8bf-436f-b79b-a0012b347324",
   "metadata": {},
   "outputs": [],
   "source": [
    "# create a spark session\n",
    "spark = SparkSession.builder.appName(\"HospitalReadmissionEDA\").getOrCreate()"
   ]
  },
  {
   "cell_type": "markdown",
   "id": "df36154a-854a-499b-9769-f1701739e7d2",
   "metadata": {},
   "source": [
    "# load data"
   ]
  },
  {
   "cell_type": "code",
   "execution_count": 5,
   "id": "f10adb93-28d5-4181-ac76-f34445a6607a",
   "metadata": {},
   "outputs": [
    {
     "name": "stdout",
     "output_type": "stream",
     "text": [
      "Number of rows: 101766\n",
      "Number of columns: 50\n",
      "+------------+-----------+---------------+------+-------+------+-----------------+------------------------+-------------------+----------------+----------+--------------------+------------------+--------------+---------------+-----------------+----------------+----------------+------+------+------+----------------+-------------+---------+---------+-----------+-----------+--------------+-----------+-------------+---------+---------+-----------+------------+-------------+--------+--------+------------+----------+-------+-----------+-------+-------------------+-------------------+------------------------+-----------------------+----------------------+------+-----------+----------+\n",
      "|encounter_id|patient_nbr|           race|gender|    age|weight|admission_type_id|discharge_disposition_id|admission_source_id|time_in_hospital|payer_code|   medical_specialty|num_lab_procedures|num_procedures|num_medications|number_outpatient|number_emergency|number_inpatient|diag_1|diag_2|diag_3|number_diagnoses|max_glu_serum|A1Cresult|metformin|repaglinide|nateglinide|chlorpropamide|glimepiride|acetohexamide|glipizide|glyburide|tolbutamide|pioglitazone|rosiglitazone|acarbose|miglitol|troglitazone|tolazamide|examide|citoglipton|insulin|glyburide-metformin|glipizide-metformin|glimepiride-pioglitazone|metformin-rosiglitazone|metformin-pioglitazone|change|diabetesMed|readmitted|\n",
      "+------------+-----------+---------------+------+-------+------+-----------------+------------------------+-------------------+----------------+----------+--------------------+------------------+--------------+---------------+-----------------+----------------+----------------+------+------+------+----------------+-------------+---------+---------+-----------+-----------+--------------+-----------+-------------+---------+---------+-----------+------------+-------------+--------+--------+------------+----------+-------+-----------+-------+-------------------+-------------------+------------------------+-----------------------+----------------------+------+-----------+----------+\n",
      "|     2278392|    8222157|      Caucasian|Female| [0-10)|     ?|                6|                      25|                  1|               1|         ?|Pediatrics-Endocr...|                41|             0|              1|                0|               0|               0|250.83|     ?|     ?|               1|         None|     None|       No|         No|         No|            No|         No|           No|       No|       No|         No|          No|           No|      No|      No|          No|        No|     No|         No|     No|                 No|                 No|                      No|                     No|                    No|    No|         No|        NO|\n",
      "|      149190|   55629189|      Caucasian|Female|[10-20)|     ?|                1|                       1|                  7|               3|         ?|                   ?|                59|             0|             18|                0|               0|               0|   276|250.01|   255|               9|         None|     None|       No|         No|         No|            No|         No|           No|       No|       No|         No|          No|           No|      No|      No|          No|        No|     No|         No|     Up|                 No|                 No|                      No|                     No|                    No|    Ch|        Yes|       >30|\n",
      "|       64410|   86047875|AfricanAmerican|Female|[20-30)|     ?|                1|                       1|                  7|               2|         ?|                   ?|                11|             5|             13|                2|               0|               1|   648|   250|   V27|               6|         None|     None|       No|         No|         No|            No|         No|           No|   Steady|       No|         No|          No|           No|      No|      No|          No|        No|     No|         No|     No|                 No|                 No|                      No|                     No|                    No|    No|        Yes|        NO|\n",
      "|      500364|   82442376|      Caucasian|  Male|[30-40)|     ?|                1|                       1|                  7|               2|         ?|                   ?|                44|             1|             16|                0|               0|               0|     8|250.43|   403|               7|         None|     None|       No|         No|         No|            No|         No|           No|       No|       No|         No|          No|           No|      No|      No|          No|        No|     No|         No|     Up|                 No|                 No|                      No|                     No|                    No|    Ch|        Yes|        NO|\n",
      "|       16680|   42519267|      Caucasian|  Male|[40-50)|     ?|                1|                       1|                  7|               1|         ?|                   ?|                51|             0|              8|                0|               0|               0|   197|   157|   250|               5|         None|     None|       No|         No|         No|            No|         No|           No|   Steady|       No|         No|          No|           No|      No|      No|          No|        No|     No|         No| Steady|                 No|                 No|                      No|                     No|                    No|    Ch|        Yes|        NO|\n",
      "+------------+-----------+---------------+------+-------+------+-----------------+------------------------+-------------------+----------------+----------+--------------------+------------------+--------------+---------------+-----------------+----------------+----------------+------+------+------+----------------+-------------+---------+---------+-----------+-----------+--------------+-----------+-------------+---------+---------+-----------+------------+-------------+--------+--------+------------+----------+-------+-----------+-------+-------------------+-------------------+------------------------+-----------------------+----------------------+------+-----------+----------+\n",
      "only showing top 5 rows\n"
     ]
    }
   ],
   "source": [
    "# Load the Data into a Spark DataFrame\n",
    "data_path = '../data/diabetic_data.csv'\n",
    "df_spark = spark.read.csv(data_path, header=True)\n",
    "\n",
    "# Initial Inspection with PySpark\n",
    "print(f\"Number of rows: {df_spark.count()}\")\n",
    "print(f\"Number of columns: {len(df_spark.columns)}\")\n",
    "\n",
    "# Show the first 5 rows\n",
    "df_spark.show(5)"
   ]
  },
  {
   "cell_type": "code",
   "execution_count": 6,
   "id": "ae10a72c",
   "metadata": {},
   "outputs": [
    {
     "name": "stdout",
     "output_type": "stream",
     "text": [
      "root\n",
      " |-- encounter_id: string (nullable = true)\n",
      " |-- patient_nbr: string (nullable = true)\n",
      " |-- race: string (nullable = true)\n",
      " |-- gender: string (nullable = true)\n",
      " |-- age: string (nullable = true)\n",
      " |-- weight: string (nullable = true)\n",
      " |-- admission_type_id: string (nullable = true)\n",
      " |-- discharge_disposition_id: string (nullable = true)\n",
      " |-- admission_source_id: string (nullable = true)\n",
      " |-- time_in_hospital: string (nullable = true)\n",
      " |-- payer_code: string (nullable = true)\n",
      " |-- medical_specialty: string (nullable = true)\n",
      " |-- num_lab_procedures: string (nullable = true)\n",
      " |-- num_procedures: string (nullable = true)\n",
      " |-- num_medications: string (nullable = true)\n",
      " |-- number_outpatient: string (nullable = true)\n",
      " |-- number_emergency: string (nullable = true)\n",
      " |-- number_inpatient: string (nullable = true)\n",
      " |-- diag_1: string (nullable = true)\n",
      " |-- diag_2: string (nullable = true)\n",
      " |-- diag_3: string (nullable = true)\n",
      " |-- number_diagnoses: string (nullable = true)\n",
      " |-- max_glu_serum: string (nullable = true)\n",
      " |-- A1Cresult: string (nullable = true)\n",
      " |-- metformin: string (nullable = true)\n",
      " |-- repaglinide: string (nullable = true)\n",
      " |-- nateglinide: string (nullable = true)\n",
      " |-- chlorpropamide: string (nullable = true)\n",
      " |-- glimepiride: string (nullable = true)\n",
      " |-- acetohexamide: string (nullable = true)\n",
      " |-- glipizide: string (nullable = true)\n",
      " |-- glyburide: string (nullable = true)\n",
      " |-- tolbutamide: string (nullable = true)\n",
      " |-- pioglitazone: string (nullable = true)\n",
      " |-- rosiglitazone: string (nullable = true)\n",
      " |-- acarbose: string (nullable = true)\n",
      " |-- miglitol: string (nullable = true)\n",
      " |-- troglitazone: string (nullable = true)\n",
      " |-- tolazamide: string (nullable = true)\n",
      " |-- examide: string (nullable = true)\n",
      " |-- citoglipton: string (nullable = true)\n",
      " |-- insulin: string (nullable = true)\n",
      " |-- glyburide-metformin: string (nullable = true)\n",
      " |-- glipizide-metformin: string (nullable = true)\n",
      " |-- glimepiride-pioglitazone: string (nullable = true)\n",
      " |-- metformin-rosiglitazone: string (nullable = true)\n",
      " |-- metformin-pioglitazone: string (nullable = true)\n",
      " |-- change: string (nullable = true)\n",
      " |-- diabetesMed: string (nullable = true)\n",
      " |-- readmitted: string (nullable = true)\n",
      "\n"
     ]
    }
   ],
   "source": [
    "df_spark.printSchema()"
   ]
  },
  {
   "cell_type": "markdown",
   "id": "4b5d4e40-dc94-4e42-9e9c-f81c3cf279a0",
   "metadata": {},
   "source": [
    "# clean data"
   ]
  },
  {
   "cell_type": "code",
   "execution_count": null,
   "id": "8c5fddb0-971a-4484-bce9-ff832e986755",
   "metadata": {},
   "outputs": [],
   "source": [
    "# create a list of all column names\n",
    "all_columns = df_spark.columns"
   ]
  },
  {
   "cell_type": "code",
   "execution_count": null,
   "id": "59e19c4c-91fd-42ba-8172-134f183e8fcf",
   "metadata": {},
   "outputs": [
    {
     "name": "stdout",
     "output_type": "stream",
     "text": [
      "Replaced '?' with null values.\n"
     ]
    }
   ],
   "source": [
    "# loop through each column to replace? with null\n",
    "df_cleaned = df_spark \n",
    "for column in all_columns:\n",
    "    df_cleaned = df_cleaned.withColumn(column, \n",
    "                                      when(col(column) == \"?\", None).otherwise(col(column))\n",
    "                                      )\n",
    "print(\"Replaced '?' with null values.\")"
   ]
  },
  {
   "cell_type": "code",
   "execution_count": null,
   "id": "73bd3a44-1149-4a67-9ad4-2ed574f22770",
   "metadata": {},
   "outputs": [
    {
     "name": "stdout",
     "output_type": "stream",
     "text": [
      "+------------+-----------+---------------+------+--------+------+-----------------+------------------------+-------------------+----------------+----------+--------------------+------------------+--------------+---------------+-----------------+----------------+----------------+------+------+------+----------------+-------------+---------+---------+-----------+-----------+--------------+-----------+-------------+---------+---------+-----------+------------+-------------+--------+--------+------------+----------+-------+-----------+-------+-------------------+-------------------+------------------------+-----------------------+----------------------+------+-----------+----------+\n",
      "|encounter_id|patient_nbr|           race|gender|     age|weight|admission_type_id|discharge_disposition_id|admission_source_id|time_in_hospital|payer_code|   medical_specialty|num_lab_procedures|num_procedures|num_medications|number_outpatient|number_emergency|number_inpatient|diag_1|diag_2|diag_3|number_diagnoses|max_glu_serum|A1Cresult|metformin|repaglinide|nateglinide|chlorpropamide|glimepiride|acetohexamide|glipizide|glyburide|tolbutamide|pioglitazone|rosiglitazone|acarbose|miglitol|troglitazone|tolazamide|examide|citoglipton|insulin|glyburide-metformin|glipizide-metformin|glimepiride-pioglitazone|metformin-rosiglitazone|metformin-pioglitazone|change|diabetesMed|readmitted|\n",
      "+------------+-----------+---------------+------+--------+------+-----------------+------------------------+-------------------+----------------+----------+--------------------+------------------+--------------+---------------+-----------------+----------------+----------------+------+------+------+----------------+-------------+---------+---------+-----------+-----------+--------------+-----------+-------------+---------+---------+-----------+------------+-------------+--------+--------+------------+----------+-------+-----------+-------+-------------------+-------------------+------------------------+-----------------------+----------------------+------+-----------+----------+\n",
      "|     2278392|    8222157|      Caucasian|Female|  [0-10)|  NULL|                6|                      25|                  1|               1|      NULL|Pediatrics-Endocr...|                41|             0|              1|                0|               0|               0|250.83|  NULL|  NULL|               1|         None|     None|       No|         No|         No|            No|         No|           No|       No|       No|         No|          No|           No|      No|      No|          No|        No|     No|         No|     No|                 No|                 No|                      No|                     No|                    No|    No|         No|        NO|\n",
      "|      149190|   55629189|      Caucasian|Female| [10-20)|  NULL|                1|                       1|                  7|               3|      NULL|                NULL|                59|             0|             18|                0|               0|               0|   276|250.01|   255|               9|         None|     None|       No|         No|         No|            No|         No|           No|       No|       No|         No|          No|           No|      No|      No|          No|        No|     No|         No|     Up|                 No|                 No|                      No|                     No|                    No|    Ch|        Yes|       >30|\n",
      "|       64410|   86047875|AfricanAmerican|Female| [20-30)|  NULL|                1|                       1|                  7|               2|      NULL|                NULL|                11|             5|             13|                2|               0|               1|   648|   250|   V27|               6|         None|     None|       No|         No|         No|            No|         No|           No|   Steady|       No|         No|          No|           No|      No|      No|          No|        No|     No|         No|     No|                 No|                 No|                      No|                     No|                    No|    No|        Yes|        NO|\n",
      "|      500364|   82442376|      Caucasian|  Male| [30-40)|  NULL|                1|                       1|                  7|               2|      NULL|                NULL|                44|             1|             16|                0|               0|               0|     8|250.43|   403|               7|         None|     None|       No|         No|         No|            No|         No|           No|       No|       No|         No|          No|           No|      No|      No|          No|        No|     No|         No|     Up|                 No|                 No|                      No|                     No|                    No|    Ch|        Yes|        NO|\n",
      "|       16680|   42519267|      Caucasian|  Male| [40-50)|  NULL|                1|                       1|                  7|               1|      NULL|                NULL|                51|             0|              8|                0|               0|               0|   197|   157|   250|               5|         None|     None|       No|         No|         No|            No|         No|           No|   Steady|       No|         No|          No|           No|      No|      No|          No|        No|     No|         No| Steady|                 No|                 No|                      No|                     No|                    No|    Ch|        Yes|        NO|\n",
      "|       35754|   82637451|      Caucasian|  Male| [50-60)|  NULL|                2|                       1|                  2|               3|      NULL|                NULL|                31|             6|             16|                0|               0|               0|   414|   411|   250|               9|         None|     None|       No|         No|         No|            No|         No|           No|       No|       No|         No|          No|           No|      No|      No|          No|        No|     No|         No| Steady|                 No|                 No|                      No|                     No|                    No|    No|        Yes|       >30|\n",
      "|       55842|   84259809|      Caucasian|  Male| [60-70)|  NULL|                3|                       1|                  2|               4|      NULL|                NULL|                70|             1|             21|                0|               0|               0|   414|   411|   V45|               7|         None|     None|   Steady|         No|         No|            No|     Steady|           No|       No|       No|         No|          No|           No|      No|      No|          No|        No|     No|         No| Steady|                 No|                 No|                      No|                     No|                    No|    Ch|        Yes|        NO|\n",
      "|       63768|  114882984|      Caucasian|  Male| [70-80)|  NULL|                1|                       1|                  7|               5|      NULL|                NULL|                73|             0|             12|                0|               0|               0|   428|   492|   250|               8|         None|     None|       No|         No|         No|            No|         No|           No|       No|   Steady|         No|          No|           No|      No|      No|          No|        No|     No|         No|     No|                 No|                 No|                      No|                     No|                    No|    No|        Yes|       >30|\n",
      "|       12522|   48330783|      Caucasian|Female| [80-90)|  NULL|                2|                       1|                  4|              13|      NULL|                NULL|                68|             2|             28|                0|               0|               0|   398|   427|    38|               8|         None|     None|       No|         No|         No|            No|         No|           No|   Steady|       No|         No|          No|           No|      No|      No|          No|        No|     No|         No| Steady|                 No|                 No|                      No|                     No|                    No|    Ch|        Yes|        NO|\n",
      "|       15738|   63555939|      Caucasian|Female|[90-100)|  NULL|                3|                       3|                  4|              12|      NULL|    InternalMedicine|                33|             3|             18|                0|               0|               0|   434|   198|   486|               8|         None|     None|       No|         No|         No|            No|         No|           No|       No|       No|         No|          No|       Steady|      No|      No|          No|        No|     No|         No| Steady|                 No|                 No|                      No|                     No|                    No|    Ch|        Yes|        NO|\n",
      "|       28236|   89869032|AfricanAmerican|Female| [40-50)|  NULL|                1|                       1|                  7|               9|      NULL|                NULL|                47|             2|             17|                0|               0|               0| 250.7|   403|   996|               9|         None|     None|       No|         No|         No|            No|         No|           No|       No|       No|         No|          No|           No|      No|      No|          No|        No|     No|         No| Steady|                 No|                 No|                      No|                     No|                    No|    No|        Yes|       >30|\n",
      "|       36900|   77391171|AfricanAmerican|  Male| [60-70)|  NULL|                2|                       1|                  4|               7|      NULL|                NULL|                62|             0|             11|                0|               0|               0|   157|   288|   197|               7|         None|     None|       No|         No|         No|            No|         No|           No|       No|       Up|         No|          No|           No|      No|      No|          No|        No|     No|         No| Steady|                 No|                 No|                      No|                     No|                    No|    Ch|        Yes|       <30|\n",
      "|       40926|   85504905|      Caucasian|Female| [40-50)|  NULL|                1|                       3|                  7|               7|      NULL|Family/GeneralPra...|                60|             0|             15|                0|               1|               0|   428|250.43| 250.6|               8|         None|     None|   Steady|         Up|         No|            No|         No|           No|       No|       No|         No|          No|           No|      No|      No|          No|        No|     No|         No|   Down|                 No|                 No|                      No|                     No|                    No|    Ch|        Yes|       <30|\n",
      "|       42570|   77586282|      Caucasian|  Male| [80-90)|  NULL|                1|                       6|                  7|              10|      NULL|Family/GeneralPra...|                55|             1|             31|                0|               0|               0|   428|   411|   427|               8|         None|     None|       No|         No|         No|            No|         No|           No|       No|       No|         No|          No|           No|      No|      No|          No|        No|     No|         No| Steady|                 No|                 No|                      No|                     No|                    No|    No|        Yes|        NO|\n",
      "|       62256|   49726791|AfricanAmerican|Female| [60-70)|  NULL|                3|                       1|                  2|               1|      NULL|                NULL|                49|             5|              2|                0|               0|               0|   518|   998|   627|               8|         None|     None|       No|         No|         No|            No|         No|           No|       No|       No|         No|          No|           No|      No|      No|          No|        No|     No|         No| Steady|                 No|                 No|                      No|                     No|                    No|    No|        Yes|       >30|\n",
      "|       73578|   86328819|AfricanAmerican|  Male| [60-70)|  NULL|                1|                       3|                  7|              12|      NULL|                NULL|                75|             5|             13|                0|               0|               0|   999|   507|   996|               9|         None|     None|       No|         No|         No|            No|         No|           No|       No|       No|         No|          No|           No|      No|      No|          No|        No|     No|         No|     Up|                 No|                 No|                      No|                     No|                    No|    Ch|        Yes|        NO|\n",
      "|       77076|   92519352|AfricanAmerican|  Male| [50-60)|  NULL|                1|                       1|                  7|               4|      NULL|                NULL|                45|             4|             17|                0|               0|               0|   410|   411|   414|               8|         None|     None|       No|         No|         No|            No|         No|           No|   Steady|       No|         No|          No|           No|      No|      No|          No|        No|     No|         No| Steady|                 No|                 No|                      No|                     No|                    No|    Ch|        Yes|       <30|\n",
      "|       84222|  108662661|      Caucasian|Female| [50-60)|  NULL|                1|                       1|                  7|               3|      NULL|          Cardiology|                29|             0|             11|                0|               0|               0|   682|   174|   250|               3|         None|     None|       No|         No|         No|            No|         No|           No|       No|   Steady|         No|          No|           No|      No|      No|          No|        No|     No|         No|     No|                 No|                 No|                      No|                     No|                    No|    No|        Yes|        NO|\n",
      "|       89682|  107389323|AfricanAmerican|  Male| [70-80)|  NULL|                1|                       1|                  7|               5|      NULL|                NULL|                35|             5|             23|                0|               0|               0|   402|   425|   416|               9|         None|     None|       No|         No|         No|            No|         No|           No|       No|       No|         No|          No|           No|      No|      No|          No|        No|     No|         No| Steady|                 No|                 No|                      No|                     No|                    No|    No|        Yes|       >30|\n",
      "|      148530|   69422211|           NULL|  Male| [70-80)|  NULL|                3|                       6|                  2|               6|      NULL|                NULL|                42|             2|             23|                0|               0|               0|   737|   427|   714|               8|         None|     None|       No|         No|         No|            No|         No|           No|       No|     Down|         No|          No|           No|      No|      No|          No|        No|     No|         No| Steady|                 No|                 No|                      No|                     No|                    No|    Ch|        Yes|        NO|\n",
      "+------------+-----------+---------------+------+--------+------+-----------------+------------------------+-------------------+----------------+----------+--------------------+------------------+--------------+---------------+-----------------+----------------+----------------+------+------+------+----------------+-------------+---------+---------+-----------+-----------+--------------+-----------+-------------+---------+---------+-----------+------------+-------------+--------+--------+------------+----------+-------+-----------+-------+-------------------+-------------------+------------------------+-----------------------+----------------------+------+-----------+----------+\n",
      "only showing top 20 rows\n"
     ]
    }
   ],
   "source": [
    "df_cleaned.show()"
   ]
  },
  {
   "cell_type": "code",
   "execution_count": null,
   "id": "cb393aad-62f9-41f2-8a67-57d271c683f0",
   "metadata": {},
   "outputs": [
    {
     "data": {
      "text/plain": [
       "101766"
      ]
     },
     "execution_count": 9,
     "metadata": {},
     "output_type": "execute_result"
    }
   ],
   "source": [
    "# get total number of rows\n",
    "total_rows = df_cleaned.count()\n",
    "total_rows"
   ]
  },
  {
   "cell_type": "code",
   "execution_count": null,
   "id": "fe60bbc6-9ed7-4416-9720-2db12209ee3e",
   "metadata": {},
   "outputs": [
    {
     "data": {
      "application/vnd.microsoft.datawrangler.viewer.v0+json": {
       "columns": [
        {
         "name": "index",
         "rawType": "int64",
         "type": "integer"
        },
        {
         "name": "encounter_id",
         "rawType": "float64",
         "type": "float"
        },
        {
         "name": "patient_nbr",
         "rawType": "float64",
         "type": "float"
        },
        {
         "name": "race",
         "rawType": "float64",
         "type": "float"
        },
        {
         "name": "gender",
         "rawType": "float64",
         "type": "float"
        },
        {
         "name": "age",
         "rawType": "float64",
         "type": "float"
        },
        {
         "name": "weight",
         "rawType": "float64",
         "type": "float"
        },
        {
         "name": "admission_type_id",
         "rawType": "float64",
         "type": "float"
        },
        {
         "name": "discharge_disposition_id",
         "rawType": "float64",
         "type": "float"
        },
        {
         "name": "admission_source_id",
         "rawType": "float64",
         "type": "float"
        },
        {
         "name": "time_in_hospital",
         "rawType": "float64",
         "type": "float"
        },
        {
         "name": "payer_code",
         "rawType": "float64",
         "type": "float"
        },
        {
         "name": "medical_specialty",
         "rawType": "float64",
         "type": "float"
        },
        {
         "name": "num_lab_procedures",
         "rawType": "float64",
         "type": "float"
        },
        {
         "name": "num_procedures",
         "rawType": "float64",
         "type": "float"
        },
        {
         "name": "num_medications",
         "rawType": "float64",
         "type": "float"
        },
        {
         "name": "number_outpatient",
         "rawType": "float64",
         "type": "float"
        },
        {
         "name": "number_emergency",
         "rawType": "float64",
         "type": "float"
        },
        {
         "name": "number_inpatient",
         "rawType": "float64",
         "type": "float"
        },
        {
         "name": "diag_1",
         "rawType": "float64",
         "type": "float"
        },
        {
         "name": "diag_2",
         "rawType": "float64",
         "type": "float"
        },
        {
         "name": "diag_3",
         "rawType": "float64",
         "type": "float"
        },
        {
         "name": "number_diagnoses",
         "rawType": "float64",
         "type": "float"
        },
        {
         "name": "max_glu_serum",
         "rawType": "float64",
         "type": "float"
        },
        {
         "name": "A1Cresult",
         "rawType": "float64",
         "type": "float"
        },
        {
         "name": "metformin",
         "rawType": "float64",
         "type": "float"
        },
        {
         "name": "repaglinide",
         "rawType": "float64",
         "type": "float"
        },
        {
         "name": "nateglinide",
         "rawType": "float64",
         "type": "float"
        },
        {
         "name": "chlorpropamide",
         "rawType": "float64",
         "type": "float"
        },
        {
         "name": "glimepiride",
         "rawType": "float64",
         "type": "float"
        },
        {
         "name": "acetohexamide",
         "rawType": "float64",
         "type": "float"
        },
        {
         "name": "glipizide",
         "rawType": "float64",
         "type": "float"
        },
        {
         "name": "glyburide",
         "rawType": "float64",
         "type": "float"
        },
        {
         "name": "tolbutamide",
         "rawType": "float64",
         "type": "float"
        },
        {
         "name": "pioglitazone",
         "rawType": "float64",
         "type": "float"
        },
        {
         "name": "rosiglitazone",
         "rawType": "float64",
         "type": "float"
        },
        {
         "name": "acarbose",
         "rawType": "float64",
         "type": "float"
        },
        {
         "name": "miglitol",
         "rawType": "float64",
         "type": "float"
        },
        {
         "name": "troglitazone",
         "rawType": "float64",
         "type": "float"
        },
        {
         "name": "tolazamide",
         "rawType": "float64",
         "type": "float"
        },
        {
         "name": "examide",
         "rawType": "float64",
         "type": "float"
        },
        {
         "name": "citoglipton",
         "rawType": "float64",
         "type": "float"
        },
        {
         "name": "insulin",
         "rawType": "float64",
         "type": "float"
        },
        {
         "name": "glyburide-metformin",
         "rawType": "float64",
         "type": "float"
        },
        {
         "name": "glipizide-metformin",
         "rawType": "float64",
         "type": "float"
        },
        {
         "name": "glimepiride-pioglitazone",
         "rawType": "float64",
         "type": "float"
        },
        {
         "name": "metformin-rosiglitazone",
         "rawType": "float64",
         "type": "float"
        },
        {
         "name": "metformin-pioglitazone",
         "rawType": "float64",
         "type": "float"
        },
        {
         "name": "change",
         "rawType": "float64",
         "type": "float"
        },
        {
         "name": "diabetesMed",
         "rawType": "float64",
         "type": "float"
        },
        {
         "name": "readmitted",
         "rawType": "float64",
         "type": "float"
        }
       ],
       "ref": "daf36317-cea1-498f-905b-b7f451a11a18",
       "rows": [
        [
         "0",
         "0.0",
         "0.0",
         "2.2335554114340743",
         "0.0",
         "0.0",
         "96.85847925633315",
         "0.0",
         "0.0",
         "0.0",
         "0.0",
         "39.5574160328597",
         "49.08220820313268",
         "0.0",
         "0.0",
         "0.0",
         "0.0",
         "0.0",
         "0.0",
         "0.02063557573256294",
         "0.3517874339170253",
         "1.398305917497003",
         "0.0",
         "0.0",
         "0.0",
         "0.0",
         "0.0",
         "0.0",
         "0.0",
         "0.0",
         "0.0",
         "0.0",
         "0.0",
         "0.0",
         "0.0",
         "0.0",
         "0.0",
         "0.0",
         "0.0",
         "0.0",
         "0.0",
         "0.0",
         "0.0",
         "0.0",
         "0.0",
         "0.0",
         "0.0",
         "0.0",
         "0.0",
         "0.0",
         "0.0"
        ]
       ],
       "shape": {
        "columns": 50,
        "rows": 1
       }
      },
      "text/html": [
       "<div>\n",
       "<style scoped>\n",
       "    .dataframe tbody tr th:only-of-type {\n",
       "        vertical-align: middle;\n",
       "    }\n",
       "\n",
       "    .dataframe tbody tr th {\n",
       "        vertical-align: top;\n",
       "    }\n",
       "\n",
       "    .dataframe thead th {\n",
       "        text-align: right;\n",
       "    }\n",
       "</style>\n",
       "<table border=\"1\" class=\"dataframe\">\n",
       "  <thead>\n",
       "    <tr style=\"text-align: right;\">\n",
       "      <th></th>\n",
       "      <th>encounter_id</th>\n",
       "      <th>patient_nbr</th>\n",
       "      <th>race</th>\n",
       "      <th>gender</th>\n",
       "      <th>age</th>\n",
       "      <th>weight</th>\n",
       "      <th>admission_type_id</th>\n",
       "      <th>discharge_disposition_id</th>\n",
       "      <th>admission_source_id</th>\n",
       "      <th>time_in_hospital</th>\n",
       "      <th>payer_code</th>\n",
       "      <th>medical_specialty</th>\n",
       "      <th>num_lab_procedures</th>\n",
       "      <th>num_procedures</th>\n",
       "      <th>num_medications</th>\n",
       "      <th>number_outpatient</th>\n",
       "      <th>number_emergency</th>\n",
       "      <th>number_inpatient</th>\n",
       "      <th>diag_1</th>\n",
       "      <th>diag_2</th>\n",
       "      <th>diag_3</th>\n",
       "      <th>number_diagnoses</th>\n",
       "      <th>max_glu_serum</th>\n",
       "      <th>A1Cresult</th>\n",
       "      <th>metformin</th>\n",
       "      <th>repaglinide</th>\n",
       "      <th>nateglinide</th>\n",
       "      <th>chlorpropamide</th>\n",
       "      <th>glimepiride</th>\n",
       "      <th>acetohexamide</th>\n",
       "      <th>glipizide</th>\n",
       "      <th>glyburide</th>\n",
       "      <th>tolbutamide</th>\n",
       "      <th>pioglitazone</th>\n",
       "      <th>rosiglitazone</th>\n",
       "      <th>acarbose</th>\n",
       "      <th>miglitol</th>\n",
       "      <th>troglitazone</th>\n",
       "      <th>tolazamide</th>\n",
       "      <th>examide</th>\n",
       "      <th>citoglipton</th>\n",
       "      <th>insulin</th>\n",
       "      <th>glyburide-metformin</th>\n",
       "      <th>glipizide-metformin</th>\n",
       "      <th>glimepiride-pioglitazone</th>\n",
       "      <th>metformin-rosiglitazone</th>\n",
       "      <th>metformin-pioglitazone</th>\n",
       "      <th>change</th>\n",
       "      <th>diabetesMed</th>\n",
       "      <th>readmitted</th>\n",
       "    </tr>\n",
       "  </thead>\n",
       "  <tbody>\n",
       "    <tr>\n",
       "      <th>0</th>\n",
       "      <td>0.0</td>\n",
       "      <td>0.0</td>\n",
       "      <td>2.233555</td>\n",
       "      <td>0.0</td>\n",
       "      <td>0.0</td>\n",
       "      <td>96.858479</td>\n",
       "      <td>0.0</td>\n",
       "      <td>0.0</td>\n",
       "      <td>0.0</td>\n",
       "      <td>0.0</td>\n",
       "      <td>39.557416</td>\n",
       "      <td>49.082208</td>\n",
       "      <td>0.0</td>\n",
       "      <td>0.0</td>\n",
       "      <td>0.0</td>\n",
       "      <td>0.0</td>\n",
       "      <td>0.0</td>\n",
       "      <td>0.0</td>\n",
       "      <td>0.020636</td>\n",
       "      <td>0.351787</td>\n",
       "      <td>1.398306</td>\n",
       "      <td>0.0</td>\n",
       "      <td>0.0</td>\n",
       "      <td>0.0</td>\n",
       "      <td>0.0</td>\n",
       "      <td>0.0</td>\n",
       "      <td>0.0</td>\n",
       "      <td>0.0</td>\n",
       "      <td>0.0</td>\n",
       "      <td>0.0</td>\n",
       "      <td>0.0</td>\n",
       "      <td>0.0</td>\n",
       "      <td>0.0</td>\n",
       "      <td>0.0</td>\n",
       "      <td>0.0</td>\n",
       "      <td>0.0</td>\n",
       "      <td>0.0</td>\n",
       "      <td>0.0</td>\n",
       "      <td>0.0</td>\n",
       "      <td>0.0</td>\n",
       "      <td>0.0</td>\n",
       "      <td>0.0</td>\n",
       "      <td>0.0</td>\n",
       "      <td>0.0</td>\n",
       "      <td>0.0</td>\n",
       "      <td>0.0</td>\n",
       "      <td>0.0</td>\n",
       "      <td>0.0</td>\n",
       "      <td>0.0</td>\n",
       "      <td>0.0</td>\n",
       "    </tr>\n",
       "  </tbody>\n",
       "</table>\n",
       "</div>"
      ],
      "text/plain": [
       "   encounter_id  patient_nbr      race  gender  age     weight  \\\n",
       "0           0.0          0.0  2.233555     0.0  0.0  96.858479   \n",
       "\n",
       "   admission_type_id  discharge_disposition_id  admission_source_id  \\\n",
       "0                0.0                       0.0                  0.0   \n",
       "\n",
       "   time_in_hospital  payer_code  medical_specialty  num_lab_procedures  \\\n",
       "0               0.0   39.557416          49.082208                 0.0   \n",
       "\n",
       "   num_procedures  num_medications  number_outpatient  number_emergency  \\\n",
       "0             0.0              0.0                0.0               0.0   \n",
       "\n",
       "   number_inpatient    diag_1    diag_2    diag_3  number_diagnoses  \\\n",
       "0               0.0  0.020636  0.351787  1.398306               0.0   \n",
       "\n",
       "   max_glu_serum  A1Cresult  metformin  repaglinide  nateglinide  \\\n",
       "0            0.0        0.0        0.0          0.0          0.0   \n",
       "\n",
       "   chlorpropamide  glimepiride  acetohexamide  glipizide  glyburide  \\\n",
       "0             0.0          0.0            0.0        0.0        0.0   \n",
       "\n",
       "   tolbutamide  pioglitazone  rosiglitazone  acarbose  miglitol  troglitazone  \\\n",
       "0          0.0           0.0            0.0       0.0       0.0           0.0   \n",
       "\n",
       "   tolazamide  examide  citoglipton  insulin  glyburide-metformin  \\\n",
       "0         0.0      0.0          0.0      0.0                  0.0   \n",
       "\n",
       "   glipizide-metformin  glimepiride-pioglitazone  metformin-rosiglitazone  \\\n",
       "0                  0.0                       0.0                      0.0   \n",
       "\n",
       "   metformin-pioglitazone  change  diabetesMed  readmitted  \n",
       "0                     0.0     0.0          0.0         0.0  "
      ]
     },
     "execution_count": 10,
     "metadata": {},
     "output_type": "execute_result"
    }
   ],
   "source": [
    "# calculate missing values count and percentage for each column\n",
    "missing = df_cleaned.select([(count(when(col(c).isNull(), c))/total_rows*100).alias(c) for c in all_columns])\n",
    "missing.toPandas()"
   ]
  },
  {
   "cell_type": "code",
   "execution_count": null,
   "id": "073281b3-986b-4441-ab49-072db353a805",
   "metadata": {},
   "outputs": [
    {
     "name": "stdout",
     "output_type": "stream",
     "text": [
      "Original number of columns: 50\n",
      "Number of columns after dropping: 45\n"
     ]
    }
   ],
   "source": [
    "# List of columns to drop\n",
    "cols_to_drop = [\n",
    "    'weight',              # 96.9% missing\n",
    "    'payer_code',          # 39.6% missing\n",
    "    'medical_specialty',   # 49.1% missing\n",
    "    'encounter_id',        # Identifier\n",
    "    'patient_nbr',         # Identifier\n",
    "]\n",
    "\n",
    "# Drop the columns\n",
    "df_reduced = df_cleaned.drop(*cols_to_drop)\n",
    "\n",
    "# Verify the change\n",
    "print(f\"Original number of columns: {len(df_cleaned.columns)}\")\n",
    "print(f\"Number of columns after dropping: {len(df_reduced.columns)}\")"
   ]
  },
  {
   "cell_type": "markdown",
   "id": "d67232d2-0f9e-460c-81c4-cc0f66bd9103",
   "metadata": {},
   "source": [
    "# check target variable"
   ]
  },
  {
   "cell_type": "code",
   "execution_count": null,
   "id": "520ee168-6636-4d2c-8c87-a5fbac448497",
   "metadata": {},
   "outputs": [
    {
     "name": "stdout",
     "output_type": "stream",
     "text": [
      "+----------+\n",
      "|readmitted|\n",
      "+----------+\n",
      "|       >30|\n",
      "|        NO|\n",
      "|       <30|\n",
      "+----------+\n",
      "\n"
     ]
    }
   ],
   "source": [
    "df_reduced.select('readmitted').distinct().show()"
   ]
  },
  {
   "cell_type": "code",
   "execution_count": null,
   "id": "1e0713d4-4250-4bdf-8922-e1df5b652b81",
   "metadata": {},
   "outputs": [],
   "source": [
    "# We map three strings to three numbers.\n",
    "df_reduced_with_target = df_reduced.withColumn('label',\n",
    "    when(col('readmitted') == 'NO', 0.0)\n",
    "    .when(col('readmitted') == '<30', 1.0)\n",
    "    .when(col('readmitted') == '>30', 1.0)\n",
    "    .otherwise(None) # Should not happen, but good practice\n",
    ").na.drop(subset=[\"label\"]).drop('readmitted')\n",
    "\n",
    "df_reduced_with_target = df_reduced_with_target.withColumn(\"label\", col(\"label\").cast(\"double\"))"
   ]
  },
  {
   "cell_type": "markdown",
   "id": "69d4cdc1-c660-4793-ab25-377a2ffdfe68",
   "metadata": {},
   "source": [
    "# categorize diag_1"
   ]
  },
  {
   "cell_type": "code",
   "execution_count": null,
   "id": "954a5eb3-62a5-4a1f-965d-f7433d360c9f",
   "metadata": {},
   "outputs": [
    {
     "name": "stdout",
     "output_type": "stream",
     "text": [
      "+------+-----+\n",
      "|diag_1|count|\n",
      "+------+-----+\n",
      "|   296|  896|\n",
      "|   451|   40|\n",
      "|   853|   18|\n",
      "|   800|    6|\n",
      "|250.01|   61|\n",
      "|   447|   63|\n",
      "|   591|   19|\n",
      "|     7|    2|\n",
      "|   574|  965|\n",
      "|   475|   14|\n",
      "|   718|   17|\n",
      "|   307|   25|\n",
      "|   577| 1057|\n",
      "|   581|   19|\n",
      "|   205|   27|\n",
      "|   747|    7|\n",
      "|   334|    2|\n",
      "|   462|   11|\n",
      "|   711|   66|\n",
      "|   647|    5|\n",
      "+------+-----+\n",
      "only showing top 20 rows\n",
      "+------+-----+\n",
      "|diag_2|count|\n",
      "+------+-----+\n",
      "|   296|  165|\n",
      "|   691|    3|\n",
      "|   451|   32|\n",
      "|   V72|   13|\n",
      "|   919|    3|\n",
      "|250.01| 1523|\n",
      "|   447|   26|\n",
      "|   591|  233|\n",
      "|   574|  346|\n",
      "|   718|   12|\n",
      "|   577|  401|\n",
      "|   581|   80|\n",
      "|   205|   58|\n",
      "|  E858|    4|\n",
      "|   462|   16|\n",
      "|   272|  420|\n",
      "|   711|   43|\n",
      "|   470|    3|\n",
      "|   647|    5|\n",
      "|  E870|    3|\n",
      "+------+-----+\n",
      "only showing top 20 rows\n",
      "+------+-----+\n",
      "|diag_3|count|\n",
      "+------+-----+\n",
      "|   296|  214|\n",
      "|   451|    9|\n",
      "|   919|    3|\n",
      "|250.01|  915|\n",
      "|   591|  140|\n",
      "|   447|   39|\n",
      "|   574|  136|\n",
      "|   307|   16|\n",
      "|   718|    9|\n",
      "|   581|   97|\n",
      "|   577|  149|\n",
      "|   334|    5|\n",
      "|  E816|    9|\n",
      "|   205|   19|\n",
      "|   711|   25|\n",
      "|   272| 1969|\n",
      "|   442|   24|\n",
      "|   647|   12|\n",
      "|   462|   17|\n",
      "|    54|   14|\n",
      "+------+-----+\n",
      "only showing top 20 rows\n"
     ]
    }
   ],
   "source": [
    "df_reduced_with_target.groupby(col('diag_1')).count().show(),\n",
    "df_reduced_with_target.groupby(col('diag_2')).count().show(),\n",
    "df_reduced_with_target.groupby(col('diag_3')).count().show()"
   ]
  },
  {
   "cell_type": "code",
   "execution_count": null,
   "id": "48a339b2-7842-44f4-9e08-0badcbcdf181",
   "metadata": {},
   "outputs": [
    {
     "name": "stdout",
     "output_type": "stream",
     "text": [
      "Creating granular diagnosis group features...\n",
      "New diagnosis group features created:\n",
      "+------------+------------+------------+\n",
      "|diag_1_group|diag_2_group|diag_3_group|\n",
      "+------------+------------+------------+\n",
      "|         250|         UNK|         UNK|\n",
      "|         276|         250|         255|\n",
      "|         648|         250|      V_Code|\n",
      "|           8|         250|         403|\n",
      "|         197|         157|         250|\n",
      "|         414|         411|         250|\n",
      "|         414|         411|      V_Code|\n",
      "|         428|         492|         250|\n",
      "|         398|         427|          38|\n",
      "|         434|         198|         486|\n",
      "|         250|         403|         996|\n",
      "|         157|         288|         197|\n",
      "|         428|         250|         250|\n",
      "|         428|         411|         427|\n",
      "|         518|         998|         627|\n",
      "|         999|         507|         996|\n",
      "|         410|         411|         414|\n",
      "|         682|         174|         250|\n",
      "|         402|         425|         416|\n",
      "|         737|         427|         714|\n",
      "+------------+------------+------------+\n",
      "only showing top 20 rows\n"
     ]
    }
   ],
   "source": [
    "diag_cols = ['diag_1', 'diag_2', 'diag_3']\n",
    "df_with_groups = df_reduced_with_target\n",
    "\n",
    "print(\"Creating granular diagnosis group features...\")\n",
    "\n",
    "# Loop through each diagnosis column to apply the same logic\n",
    "for diag_col in diag_cols:\n",
    "    group_col_name = f\"{diag_col}_group\"\n",
    "    df_with_groups = df_with_groups.withColumn(\n",
    "        group_col_name,\n",
    "        when(col(diag_col).rlike(\"^V\"), \"V_Code\")   # Use rlike for \"starts with\"\n",
    "        .when(col(diag_col).rlike(\"^E\"), \"E_Code\")   # Same for E codes\n",
    "        .when(col(diag_col).isNotNull(), substring(col(diag_col), 1, 3)) # For all other non-null codes\n",
    "        .otherwise(None) # Keep nulls as null for now\n",
    "    )\n",
    "\n",
    "# Now, handle the nulls in our new group columns by filling them with 'UNK'\n",
    "fill_dict = {f\"{c}_group\": \"UNK\" for c in diag_cols}\n",
    "df_engineered = df_with_groups.fillna(fill_dict)\n",
    "\n",
    "# Finally, drop the original, noisy diagnosis columns\n",
    "df_engineered = df_engineered.drop(*diag_cols)\n",
    "\n",
    "print(\"New diagnosis group features created:\")\n",
    "df_engineered.select('diag_1_group', 'diag_2_group', 'diag_3_group').show(20)"
   ]
  },
  {
   "cell_type": "code",
   "execution_count": null,
   "id": "c6a56853",
   "metadata": {},
   "outputs": [
    {
     "name": "stdout",
     "output_type": "stream",
     "text": [
      "+---------------+------+--------+-----------------+------------------------+-------------------+----------------+------------------+--------------+---------------+-----------------+----------------+----------------+----------------+-------------+---------+---------+-----------+-----------+--------------+-----------+-------------+---------+---------+-----------+------------+-------------+--------+--------+------------+----------+-------+-----------+-------+-------------------+-------------------+------------------------+-----------------------+----------------------+------+-----------+-----+------------+------------+------------+\n",
      "|           race|gender|     age|admission_type_id|discharge_disposition_id|admission_source_id|time_in_hospital|num_lab_procedures|num_procedures|num_medications|number_outpatient|number_emergency|number_inpatient|number_diagnoses|max_glu_serum|A1Cresult|metformin|repaglinide|nateglinide|chlorpropamide|glimepiride|acetohexamide|glipizide|glyburide|tolbutamide|pioglitazone|rosiglitazone|acarbose|miglitol|troglitazone|tolazamide|examide|citoglipton|insulin|glyburide-metformin|glipizide-metformin|glimepiride-pioglitazone|metformin-rosiglitazone|metformin-pioglitazone|change|diabetesMed|label|diag_1_group|diag_2_group|diag_3_group|\n",
      "+---------------+------+--------+-----------------+------------------------+-------------------+----------------+------------------+--------------+---------------+-----------------+----------------+----------------+----------------+-------------+---------+---------+-----------+-----------+--------------+-----------+-------------+---------+---------+-----------+------------+-------------+--------+--------+------------+----------+-------+-----------+-------+-------------------+-------------------+------------------------+-----------------------+----------------------+------+-----------+-----+------------+------------+------------+\n",
      "|      Caucasian|Female|  [0-10)|                6|                      25|                  1|               1|                41|             0|              1|                0|               0|               0|               1|         None|     None|       No|         No|         No|            No|         No|           No|       No|       No|         No|          No|           No|      No|      No|          No|        No|     No|         No|     No|                 No|                 No|                      No|                     No|                    No|    No|         No|  0.0|         250|         UNK|         UNK|\n",
      "|      Caucasian|Female| [10-20)|                1|                       1|                  7|               3|                59|             0|             18|                0|               0|               0|               9|         None|     None|       No|         No|         No|            No|         No|           No|       No|       No|         No|          No|           No|      No|      No|          No|        No|     No|         No|     Up|                 No|                 No|                      No|                     No|                    No|    Ch|        Yes|  1.0|         276|         250|         255|\n",
      "|AfricanAmerican|Female| [20-30)|                1|                       1|                  7|               2|                11|             5|             13|                2|               0|               1|               6|         None|     None|       No|         No|         No|            No|         No|           No|   Steady|       No|         No|          No|           No|      No|      No|          No|        No|     No|         No|     No|                 No|                 No|                      No|                     No|                    No|    No|        Yes|  0.0|         648|         250|      V_Code|\n",
      "|      Caucasian|  Male| [30-40)|                1|                       1|                  7|               2|                44|             1|             16|                0|               0|               0|               7|         None|     None|       No|         No|         No|            No|         No|           No|       No|       No|         No|          No|           No|      No|      No|          No|        No|     No|         No|     Up|                 No|                 No|                      No|                     No|                    No|    Ch|        Yes|  0.0|           8|         250|         403|\n",
      "|      Caucasian|  Male| [40-50)|                1|                       1|                  7|               1|                51|             0|              8|                0|               0|               0|               5|         None|     None|       No|         No|         No|            No|         No|           No|   Steady|       No|         No|          No|           No|      No|      No|          No|        No|     No|         No| Steady|                 No|                 No|                      No|                     No|                    No|    Ch|        Yes|  0.0|         197|         157|         250|\n",
      "|      Caucasian|  Male| [50-60)|                2|                       1|                  2|               3|                31|             6|             16|                0|               0|               0|               9|         None|     None|       No|         No|         No|            No|         No|           No|       No|       No|         No|          No|           No|      No|      No|          No|        No|     No|         No| Steady|                 No|                 No|                      No|                     No|                    No|    No|        Yes|  1.0|         414|         411|         250|\n",
      "|      Caucasian|  Male| [60-70)|                3|                       1|                  2|               4|                70|             1|             21|                0|               0|               0|               7|         None|     None|   Steady|         No|         No|            No|     Steady|           No|       No|       No|         No|          No|           No|      No|      No|          No|        No|     No|         No| Steady|                 No|                 No|                      No|                     No|                    No|    Ch|        Yes|  0.0|         414|         411|      V_Code|\n",
      "|      Caucasian|  Male| [70-80)|                1|                       1|                  7|               5|                73|             0|             12|                0|               0|               0|               8|         None|     None|       No|         No|         No|            No|         No|           No|       No|   Steady|         No|          No|           No|      No|      No|          No|        No|     No|         No|     No|                 No|                 No|                      No|                     No|                    No|    No|        Yes|  1.0|         428|         492|         250|\n",
      "|      Caucasian|Female| [80-90)|                2|                       1|                  4|              13|                68|             2|             28|                0|               0|               0|               8|         None|     None|       No|         No|         No|            No|         No|           No|   Steady|       No|         No|          No|           No|      No|      No|          No|        No|     No|         No| Steady|                 No|                 No|                      No|                     No|                    No|    Ch|        Yes|  0.0|         398|         427|          38|\n",
      "|      Caucasian|Female|[90-100)|                3|                       3|                  4|              12|                33|             3|             18|                0|               0|               0|               8|         None|     None|       No|         No|         No|            No|         No|           No|       No|       No|         No|          No|       Steady|      No|      No|          No|        No|     No|         No| Steady|                 No|                 No|                      No|                     No|                    No|    Ch|        Yes|  0.0|         434|         198|         486|\n",
      "|AfricanAmerican|Female| [40-50)|                1|                       1|                  7|               9|                47|             2|             17|                0|               0|               0|               9|         None|     None|       No|         No|         No|            No|         No|           No|       No|       No|         No|          No|           No|      No|      No|          No|        No|     No|         No| Steady|                 No|                 No|                      No|                     No|                    No|    No|        Yes|  1.0|         250|         403|         996|\n",
      "|AfricanAmerican|  Male| [60-70)|                2|                       1|                  4|               7|                62|             0|             11|                0|               0|               0|               7|         None|     None|       No|         No|         No|            No|         No|           No|       No|       Up|         No|          No|           No|      No|      No|          No|        No|     No|         No| Steady|                 No|                 No|                      No|                     No|                    No|    Ch|        Yes|  1.0|         157|         288|         197|\n",
      "|      Caucasian|Female| [40-50)|                1|                       3|                  7|               7|                60|             0|             15|                0|               1|               0|               8|         None|     None|   Steady|         Up|         No|            No|         No|           No|       No|       No|         No|          No|           No|      No|      No|          No|        No|     No|         No|   Down|                 No|                 No|                      No|                     No|                    No|    Ch|        Yes|  1.0|         428|         250|         250|\n",
      "|      Caucasian|  Male| [80-90)|                1|                       6|                  7|              10|                55|             1|             31|                0|               0|               0|               8|         None|     None|       No|         No|         No|            No|         No|           No|       No|       No|         No|          No|           No|      No|      No|          No|        No|     No|         No| Steady|                 No|                 No|                      No|                     No|                    No|    No|        Yes|  0.0|         428|         411|         427|\n",
      "|AfricanAmerican|Female| [60-70)|                3|                       1|                  2|               1|                49|             5|              2|                0|               0|               0|               8|         None|     None|       No|         No|         No|            No|         No|           No|       No|       No|         No|          No|           No|      No|      No|          No|        No|     No|         No| Steady|                 No|                 No|                      No|                     No|                    No|    No|        Yes|  1.0|         518|         998|         627|\n",
      "|AfricanAmerican|  Male| [60-70)|                1|                       3|                  7|              12|                75|             5|             13|                0|               0|               0|               9|         None|     None|       No|         No|         No|            No|         No|           No|       No|       No|         No|          No|           No|      No|      No|          No|        No|     No|         No|     Up|                 No|                 No|                      No|                     No|                    No|    Ch|        Yes|  0.0|         999|         507|         996|\n",
      "|AfricanAmerican|  Male| [50-60)|                1|                       1|                  7|               4|                45|             4|             17|                0|               0|               0|               8|         None|     None|       No|         No|         No|            No|         No|           No|   Steady|       No|         No|          No|           No|      No|      No|          No|        No|     No|         No| Steady|                 No|                 No|                      No|                     No|                    No|    Ch|        Yes|  1.0|         410|         411|         414|\n",
      "|      Caucasian|Female| [50-60)|                1|                       1|                  7|               3|                29|             0|             11|                0|               0|               0|               3|         None|     None|       No|         No|         No|            No|         No|           No|       No|   Steady|         No|          No|           No|      No|      No|          No|        No|     No|         No|     No|                 No|                 No|                      No|                     No|                    No|    No|        Yes|  0.0|         682|         174|         250|\n",
      "|AfricanAmerican|  Male| [70-80)|                1|                       1|                  7|               5|                35|             5|             23|                0|               0|               0|               9|         None|     None|       No|         No|         No|            No|         No|           No|       No|       No|         No|          No|           No|      No|      No|          No|        No|     No|         No| Steady|                 No|                 No|                      No|                     No|                    No|    No|        Yes|  1.0|         402|         425|         416|\n",
      "|           NULL|  Male| [70-80)|                3|                       6|                  2|               6|                42|             2|             23|                0|               0|               0|               8|         None|     None|       No|         No|         No|            No|         No|           No|       No|     Down|         No|          No|           No|      No|      No|          No|        No|     No|         No| Steady|                 No|                 No|                      No|                     No|                    No|    Ch|        Yes|  0.0|         737|         427|         714|\n",
      "+---------------+------+--------+-----------------+------------------------+-------------------+----------------+------------------+--------------+---------------+-----------------+----------------+----------------+----------------+-------------+---------+---------+-----------+-----------+--------------+-----------+-------------+---------+---------+-----------+------------+-------------+--------+--------+------------+----------+-------+-----------+-------+-------------------+-------------------+------------------------+-----------------------+----------------------+------+-----------+-----+------------+------------+------------+\n",
      "only showing top 20 rows\n"
     ]
    }
   ],
   "source": [
    "df_engineered.show()"
   ]
  },
  {
   "cell_type": "code",
   "execution_count": null,
   "id": "ed2587d9-c576-4069-be2a-d74f6d4bb02d",
   "metadata": {},
   "outputs": [
    {
     "data": {
      "application/vnd.microsoft.datawrangler.viewer.v0+json": {
       "columns": [
        {
         "name": "index",
         "rawType": "int64",
         "type": "integer"
        },
        {
         "name": "race",
         "rawType": "float64",
         "type": "float"
        },
        {
         "name": "gender",
         "rawType": "float64",
         "type": "float"
        },
        {
         "name": "age",
         "rawType": "float64",
         "type": "float"
        },
        {
         "name": "admission_type_id",
         "rawType": "float64",
         "type": "float"
        },
        {
         "name": "discharge_disposition_id",
         "rawType": "float64",
         "type": "float"
        },
        {
         "name": "admission_source_id",
         "rawType": "float64",
         "type": "float"
        },
        {
         "name": "time_in_hospital",
         "rawType": "float64",
         "type": "float"
        },
        {
         "name": "num_lab_procedures",
         "rawType": "float64",
         "type": "float"
        },
        {
         "name": "num_procedures",
         "rawType": "float64",
         "type": "float"
        },
        {
         "name": "num_medications",
         "rawType": "float64",
         "type": "float"
        },
        {
         "name": "number_outpatient",
         "rawType": "float64",
         "type": "float"
        },
        {
         "name": "number_emergency",
         "rawType": "float64",
         "type": "float"
        },
        {
         "name": "number_inpatient",
         "rawType": "float64",
         "type": "float"
        },
        {
         "name": "number_diagnoses",
         "rawType": "float64",
         "type": "float"
        },
        {
         "name": "max_glu_serum",
         "rawType": "float64",
         "type": "float"
        },
        {
         "name": "A1Cresult",
         "rawType": "float64",
         "type": "float"
        },
        {
         "name": "metformin",
         "rawType": "float64",
         "type": "float"
        },
        {
         "name": "repaglinide",
         "rawType": "float64",
         "type": "float"
        },
        {
         "name": "nateglinide",
         "rawType": "float64",
         "type": "float"
        },
        {
         "name": "chlorpropamide",
         "rawType": "float64",
         "type": "float"
        },
        {
         "name": "glimepiride",
         "rawType": "float64",
         "type": "float"
        },
        {
         "name": "acetohexamide",
         "rawType": "float64",
         "type": "float"
        },
        {
         "name": "glipizide",
         "rawType": "float64",
         "type": "float"
        },
        {
         "name": "glyburide",
         "rawType": "float64",
         "type": "float"
        },
        {
         "name": "tolbutamide",
         "rawType": "float64",
         "type": "float"
        },
        {
         "name": "pioglitazone",
         "rawType": "float64",
         "type": "float"
        },
        {
         "name": "rosiglitazone",
         "rawType": "float64",
         "type": "float"
        },
        {
         "name": "acarbose",
         "rawType": "float64",
         "type": "float"
        },
        {
         "name": "miglitol",
         "rawType": "float64",
         "type": "float"
        },
        {
         "name": "troglitazone",
         "rawType": "float64",
         "type": "float"
        },
        {
         "name": "tolazamide",
         "rawType": "float64",
         "type": "float"
        },
        {
         "name": "examide",
         "rawType": "float64",
         "type": "float"
        },
        {
         "name": "citoglipton",
         "rawType": "float64",
         "type": "float"
        },
        {
         "name": "insulin",
         "rawType": "float64",
         "type": "float"
        },
        {
         "name": "glyburide-metformin",
         "rawType": "float64",
         "type": "float"
        },
        {
         "name": "glipizide-metformin",
         "rawType": "float64",
         "type": "float"
        },
        {
         "name": "glimepiride-pioglitazone",
         "rawType": "float64",
         "type": "float"
        },
        {
         "name": "metformin-rosiglitazone",
         "rawType": "float64",
         "type": "float"
        },
        {
         "name": "metformin-pioglitazone",
         "rawType": "float64",
         "type": "float"
        },
        {
         "name": "change",
         "rawType": "float64",
         "type": "float"
        },
        {
         "name": "diabetesMed",
         "rawType": "float64",
         "type": "float"
        },
        {
         "name": "label",
         "rawType": "float64",
         "type": "float"
        },
        {
         "name": "diag_1_group",
         "rawType": "float64",
         "type": "float"
        },
        {
         "name": "diag_2_group",
         "rawType": "float64",
         "type": "float"
        },
        {
         "name": "diag_3_group",
         "rawType": "float64",
         "type": "float"
        }
       ],
       "ref": "e5e17aa4-77c5-41e0-8dfc-bac2cb62cc0e",
       "rows": [
        [
         "0",
         "2.2335554114340743",
         "0.0",
         "0.0",
         "0.0",
         "0.0",
         "0.0",
         "0.0",
         "0.0",
         "0.0",
         "0.0",
         "0.0",
         "0.0",
         "0.0",
         "0.0",
         "0.0",
         "0.0",
         "0.0",
         "0.0",
         "0.0",
         "0.0",
         "0.0",
         "0.0",
         "0.0",
         "0.0",
         "0.0",
         "0.0",
         "0.0",
         "0.0",
         "0.0",
         "0.0",
         "0.0",
         "0.0",
         "0.0",
         "0.0",
         "0.0",
         "0.0",
         "0.0",
         "0.0",
         "0.0",
         "0.0",
         "0.0",
         "0.0",
         "0.0",
         "0.0",
         "0.0"
        ]
       ],
       "shape": {
        "columns": 45,
        "rows": 1
       }
      },
      "text/html": [
       "<div>\n",
       "<style scoped>\n",
       "    .dataframe tbody tr th:only-of-type {\n",
       "        vertical-align: middle;\n",
       "    }\n",
       "\n",
       "    .dataframe tbody tr th {\n",
       "        vertical-align: top;\n",
       "    }\n",
       "\n",
       "    .dataframe thead th {\n",
       "        text-align: right;\n",
       "    }\n",
       "</style>\n",
       "<table border=\"1\" class=\"dataframe\">\n",
       "  <thead>\n",
       "    <tr style=\"text-align: right;\">\n",
       "      <th></th>\n",
       "      <th>race</th>\n",
       "      <th>gender</th>\n",
       "      <th>age</th>\n",
       "      <th>admission_type_id</th>\n",
       "      <th>discharge_disposition_id</th>\n",
       "      <th>admission_source_id</th>\n",
       "      <th>time_in_hospital</th>\n",
       "      <th>num_lab_procedures</th>\n",
       "      <th>num_procedures</th>\n",
       "      <th>num_medications</th>\n",
       "      <th>number_outpatient</th>\n",
       "      <th>number_emergency</th>\n",
       "      <th>number_inpatient</th>\n",
       "      <th>number_diagnoses</th>\n",
       "      <th>max_glu_serum</th>\n",
       "      <th>A1Cresult</th>\n",
       "      <th>metformin</th>\n",
       "      <th>repaglinide</th>\n",
       "      <th>nateglinide</th>\n",
       "      <th>chlorpropamide</th>\n",
       "      <th>glimepiride</th>\n",
       "      <th>acetohexamide</th>\n",
       "      <th>glipizide</th>\n",
       "      <th>glyburide</th>\n",
       "      <th>tolbutamide</th>\n",
       "      <th>pioglitazone</th>\n",
       "      <th>rosiglitazone</th>\n",
       "      <th>acarbose</th>\n",
       "      <th>miglitol</th>\n",
       "      <th>troglitazone</th>\n",
       "      <th>tolazamide</th>\n",
       "      <th>examide</th>\n",
       "      <th>citoglipton</th>\n",
       "      <th>insulin</th>\n",
       "      <th>glyburide-metformin</th>\n",
       "      <th>glipizide-metformin</th>\n",
       "      <th>glimepiride-pioglitazone</th>\n",
       "      <th>metformin-rosiglitazone</th>\n",
       "      <th>metformin-pioglitazone</th>\n",
       "      <th>change</th>\n",
       "      <th>diabetesMed</th>\n",
       "      <th>label</th>\n",
       "      <th>diag_1_group</th>\n",
       "      <th>diag_2_group</th>\n",
       "      <th>diag_3_group</th>\n",
       "    </tr>\n",
       "  </thead>\n",
       "  <tbody>\n",
       "    <tr>\n",
       "      <th>0</th>\n",
       "      <td>2.233555</td>\n",
       "      <td>0.0</td>\n",
       "      <td>0.0</td>\n",
       "      <td>0.0</td>\n",
       "      <td>0.0</td>\n",
       "      <td>0.0</td>\n",
       "      <td>0.0</td>\n",
       "      <td>0.0</td>\n",
       "      <td>0.0</td>\n",
       "      <td>0.0</td>\n",
       "      <td>0.0</td>\n",
       "      <td>0.0</td>\n",
       "      <td>0.0</td>\n",
       "      <td>0.0</td>\n",
       "      <td>0.0</td>\n",
       "      <td>0.0</td>\n",
       "      <td>0.0</td>\n",
       "      <td>0.0</td>\n",
       "      <td>0.0</td>\n",
       "      <td>0.0</td>\n",
       "      <td>0.0</td>\n",
       "      <td>0.0</td>\n",
       "      <td>0.0</td>\n",
       "      <td>0.0</td>\n",
       "      <td>0.0</td>\n",
       "      <td>0.0</td>\n",
       "      <td>0.0</td>\n",
       "      <td>0.0</td>\n",
       "      <td>0.0</td>\n",
       "      <td>0.0</td>\n",
       "      <td>0.0</td>\n",
       "      <td>0.0</td>\n",
       "      <td>0.0</td>\n",
       "      <td>0.0</td>\n",
       "      <td>0.0</td>\n",
       "      <td>0.0</td>\n",
       "      <td>0.0</td>\n",
       "      <td>0.0</td>\n",
       "      <td>0.0</td>\n",
       "      <td>0.0</td>\n",
       "      <td>0.0</td>\n",
       "      <td>0.0</td>\n",
       "      <td>0.0</td>\n",
       "      <td>0.0</td>\n",
       "      <td>0.0</td>\n",
       "    </tr>\n",
       "  </tbody>\n",
       "</table>\n",
       "</div>"
      ],
      "text/plain": [
       "       race  gender  age  admission_type_id  discharge_disposition_id  \\\n",
       "0  2.233555     0.0  0.0                0.0                       0.0   \n",
       "\n",
       "   admission_source_id  time_in_hospital  num_lab_procedures  num_procedures  \\\n",
       "0                  0.0               0.0                 0.0             0.0   \n",
       "\n",
       "   num_medications  number_outpatient  number_emergency  number_inpatient  \\\n",
       "0              0.0                0.0               0.0               0.0   \n",
       "\n",
       "   number_diagnoses  max_glu_serum  A1Cresult  metformin  repaglinide  \\\n",
       "0               0.0            0.0        0.0        0.0          0.0   \n",
       "\n",
       "   nateglinide  chlorpropamide  glimepiride  acetohexamide  glipizide  \\\n",
       "0          0.0             0.0          0.0            0.0        0.0   \n",
       "\n",
       "   glyburide  tolbutamide  pioglitazone  rosiglitazone  acarbose  miglitol  \\\n",
       "0        0.0          0.0           0.0            0.0       0.0       0.0   \n",
       "\n",
       "   troglitazone  tolazamide  examide  citoglipton  insulin  \\\n",
       "0           0.0         0.0      0.0          0.0      0.0   \n",
       "\n",
       "   glyburide-metformin  glipizide-metformin  glimepiride-pioglitazone  \\\n",
       "0                  0.0                  0.0                       0.0   \n",
       "\n",
       "   metformin-rosiglitazone  metformin-pioglitazone  change  diabetesMed  \\\n",
       "0                      0.0                     0.0     0.0          0.0   \n",
       "\n",
       "   label  diag_1_group  diag_2_group  diag_3_group  \n",
       "0    0.0           0.0           0.0           0.0  "
      ]
     },
     "execution_count": 17,
     "metadata": {},
     "output_type": "execute_result"
    }
   ],
   "source": [
    "missing = df_engineered.select([(count(when(col(c).isNull(), c))/total_rows*100).alias(c) for c in df_engineered.columns])\n",
    "missing.toPandas()"
   ]
  },
  {
   "cell_type": "markdown",
   "id": "c4821f8c-f450-4431-8e49-c26dd755a2ce",
   "metadata": {},
   "source": [
    "# handle missing values"
   ]
  },
  {
   "cell_type": "code",
   "execution_count": null,
   "id": "cd054309-afef-4ec1-a39f-aa9929300cac",
   "metadata": {},
   "outputs": [
    {
     "name": "stdout",
     "output_type": "stream",
     "text": [
      "The most frequent race is: 'Caucasian'. We will use this to fill missing values.\n"
     ]
    }
   ],
   "source": [
    "# Find the most frequent value (the mode) for the 'race' column\n",
    "mode_race = df_engineered.groupBy('race').count().orderBy('count', ascending=False).first()[0]\n",
    "print(f\"The most frequent race is: '{mode_race}'. We will use this to fill missing values.\")\n",
    "\n",
    "# Fill the nulls with the mode\n",
    "df_engineered = df_engineered.fillna({'race': mode_race})"
   ]
  },
  {
   "cell_type": "markdown",
   "id": "0b7dcd45-6481-4697-8773-8d1ff8ed105e",
   "metadata": {},
   "source": [
    "# more feature engineering"
   ]
  },
  {
   "cell_type": "code",
   "execution_count": null,
   "id": "79c188c6-6c76-4f02-9c24-c726750d9209",
   "metadata": {},
   "outputs": [],
   "source": [
    "major_disease_groups = [\n",
    "    '250', # Diabetes\n",
    "    '428', # Heart Failure\n",
    "    '414', # Ischemic Heart Disease\n",
    "    '401', # Hypertension\n",
    "    '585', # Chronic Kidney Disease\n",
    "    '486', # Pneumonia\n",
    "    '493', # Asthma/COPD\n",
    "    '272'  # Disorders of lipid metabolism\n",
    "]\n",
    "\n",
    "# Create a new column, initializing the count to 0\n",
    "df_engineered = df_engineered.withColumn('comorbidity_count', col('time_in_hospital') * 0) # A trick to create a column of 0s\n",
    "\n",
    "# Loop through the list of major diseases and add 1 to the count if the patient has it\n",
    "for group in major_disease_groups:\n",
    "    df_engineered = df_engineered.withColumn(\n",
    "        'comorbidity_count',\n",
    "        col('comorbidity_count') + \n",
    "        when((col('diag_1_group') == group) | \n",
    "             (col('diag_2_group') == group) | \n",
    "             (col('diag_3_group') == group), 1).otherwise(0)\n",
    "    )"
   ]
  },
  {
   "cell_type": "code",
   "execution_count": null,
   "id": "9d40bb70-2e35-4d3d-a2df-1929292d56b3",
   "metadata": {},
   "outputs": [],
   "source": [
    "numerical_cols = [\n",
    "    'time_in_hospital', 'num_lab_procedures', 'num_procedures',\n",
    "    'num_medications', 'number_outpatient', 'number_emergency',\n",
    "    'number_inpatient', 'number_diagnoses'\n",
    "]\n",
    "\n",
    "df_engineered = df_engineered\n",
    "for c in numerical_cols:\n",
    "    df_engineered = df_engineered.withColumn(c, col(c).cast('integer'))\n",
    "\n",
    "df_engineered = df_engineered.withColumn(\n",
    "    'labs_per_day', col('num_lab_procedures') / col('time_in_hospital')\n",
    ").withColumn(\n",
    "    'meds_per_day', col('num_medications') / col('time_in_hospital')\n",
    ").withColumn(\n",
    "    'procs_per_day', col('num_procedures') / col('time_in_hospital')\n",
    ")"
   ]
  },
  {
   "cell_type": "code",
   "execution_count": null,
   "id": "6bfbc021-5f3d-472b-b6c1-d4210ea64945",
   "metadata": {},
   "outputs": [
    {
     "name": "stdout",
     "output_type": "stream",
     "text": [
      "root\n",
      " |-- race: string (nullable = false)\n",
      " |-- gender: string (nullable = true)\n",
      " |-- age: string (nullable = true)\n",
      " |-- admission_type_id: string (nullable = true)\n",
      " |-- discharge_disposition_id: string (nullable = true)\n",
      " |-- admission_source_id: string (nullable = true)\n",
      " |-- time_in_hospital: integer (nullable = true)\n",
      " |-- num_lab_procedures: integer (nullable = true)\n",
      " |-- num_procedures: integer (nullable = true)\n",
      " |-- num_medications: integer (nullable = true)\n",
      " |-- number_outpatient: integer (nullable = true)\n",
      " |-- number_emergency: integer (nullable = true)\n",
      " |-- number_inpatient: integer (nullable = true)\n",
      " |-- number_diagnoses: integer (nullable = true)\n",
      " |-- max_glu_serum: string (nullable = true)\n",
      " |-- A1Cresult: string (nullable = true)\n",
      " |-- metformin: string (nullable = true)\n",
      " |-- repaglinide: string (nullable = true)\n",
      " |-- nateglinide: string (nullable = true)\n",
      " |-- chlorpropamide: string (nullable = true)\n",
      " |-- glimepiride: string (nullable = true)\n",
      " |-- acetohexamide: string (nullable = true)\n",
      " |-- glipizide: string (nullable = true)\n",
      " |-- glyburide: string (nullable = true)\n",
      " |-- tolbutamide: string (nullable = true)\n",
      " |-- pioglitazone: string (nullable = true)\n",
      " |-- rosiglitazone: string (nullable = true)\n",
      " |-- acarbose: string (nullable = true)\n",
      " |-- miglitol: string (nullable = true)\n",
      " |-- troglitazone: string (nullable = true)\n",
      " |-- tolazamide: string (nullable = true)\n",
      " |-- examide: string (nullable = true)\n",
      " |-- citoglipton: string (nullable = true)\n",
      " |-- insulin: string (nullable = true)\n",
      " |-- glyburide-metformin: string (nullable = true)\n",
      " |-- glipizide-metformin: string (nullable = true)\n",
      " |-- glimepiride-pioglitazone: string (nullable = true)\n",
      " |-- metformin-rosiglitazone: string (nullable = true)\n",
      " |-- metformin-pioglitazone: string (nullable = true)\n",
      " |-- change: string (nullable = true)\n",
      " |-- diabetesMed: string (nullable = true)\n",
      " |-- label: double (nullable = true)\n",
      " |-- diag_1_group: string (nullable = false)\n",
      " |-- diag_2_group: string (nullable = false)\n",
      " |-- diag_3_group: string (nullable = false)\n",
      " |-- comorbidity_count: long (nullable = true)\n",
      " |-- labs_per_day: double (nullable = true)\n",
      " |-- meds_per_day: double (nullable = true)\n",
      " |-- procs_per_day: double (nullable = true)\n",
      " |-- med_change_score: integer (nullable = true)\n",
      "\n"
     ]
    }
   ],
   "source": [
    "# List of the 23 diabetes medication columns\n",
    "med_cols = [\n",
    "    'metformin', 'repaglinide', 'nateglinide', 'chlorpropamide', 'glimepiride',\n",
    "    'acetohexamide', 'glipizide', 'glyburide', 'tolbutamide', 'pioglitazone',\n",
    "    'rosiglitazone', 'acarbose', 'miglitol', 'troglitazone', 'tolazamide',\n",
    "    'examide', 'citoglipton', 'insulin', 'glyburide-metformin', 'glipizide-metformin',\n",
    "    'glimepiride-pioglitazone', 'metformin-rosiglitazone', 'metformin-pioglitazone'\n",
    "]\n",
    "\n",
    "# Let's use the df_with_ratios from the previous step\n",
    "df_final = df_engineered.withColumn('med_change_score', col('time_in_hospital') * 0) # Init with 0s\n",
    "\n",
    "# Loop through the med columns and add 1 if there was a change\n",
    "for med in med_cols:\n",
    "    df_final = df_final.withColumn(\n",
    "        'med_change_score',\n",
    "        col('med_change_score') +\n",
    "        when((col(med) == 'Up') | (col(med) == 'Down'), 1).otherwise(0)\n",
    "    )\n",
    "\n",
    "df_final.printSchema()"
   ]
  },
  {
   "cell_type": "markdown",
   "id": "3bd161ae-1ebc-44ad-99ad-3218a70c8781",
   "metadata": {},
   "source": [
    "# establish pipline"
   ]
  },
  {
   "cell_type": "code",
   "execution_count": null,
   "id": "c991a72f-82ca-48a9-b84a-4d87e8d186e8",
   "metadata": {},
   "outputs": [
    {
     "name": "stdout",
     "output_type": "stream",
     "text": [
      "\n",
      "Final number of columns before modeling: 50\n",
      "root\n",
      " |-- race: string (nullable = false)\n",
      " |-- gender: string (nullable = true)\n",
      " |-- age: string (nullable = true)\n",
      " |-- admission_type_id: string (nullable = true)\n",
      " |-- discharge_disposition_id: string (nullable = true)\n",
      " |-- admission_source_id: string (nullable = true)\n",
      " |-- time_in_hospital: integer (nullable = true)\n",
      " |-- num_lab_procedures: integer (nullable = true)\n",
      " |-- num_procedures: integer (nullable = true)\n",
      " |-- num_medications: integer (nullable = true)\n",
      " |-- number_outpatient: integer (nullable = true)\n",
      " |-- number_emergency: integer (nullable = true)\n",
      " |-- number_inpatient: integer (nullable = true)\n",
      " |-- number_diagnoses: integer (nullable = true)\n",
      " |-- max_glu_serum: string (nullable = true)\n",
      " |-- A1Cresult: string (nullable = true)\n",
      " |-- metformin: string (nullable = true)\n",
      " |-- repaglinide: string (nullable = true)\n",
      " |-- nateglinide: string (nullable = true)\n",
      " |-- chlorpropamide: string (nullable = true)\n",
      " |-- glimepiride: string (nullable = true)\n",
      " |-- acetohexamide: string (nullable = true)\n",
      " |-- glipizide: string (nullable = true)\n",
      " |-- glyburide: string (nullable = true)\n",
      " |-- tolbutamide: string (nullable = true)\n",
      " |-- pioglitazone: string (nullable = true)\n",
      " |-- rosiglitazone: string (nullable = true)\n",
      " |-- acarbose: string (nullable = true)\n",
      " |-- miglitol: string (nullable = true)\n",
      " |-- troglitazone: string (nullable = true)\n",
      " |-- tolazamide: string (nullable = true)\n",
      " |-- examide: string (nullable = true)\n",
      " |-- citoglipton: string (nullable = true)\n",
      " |-- insulin: string (nullable = true)\n",
      " |-- glyburide-metformin: string (nullable = true)\n",
      " |-- glipizide-metformin: string (nullable = true)\n",
      " |-- glimepiride-pioglitazone: string (nullable = true)\n",
      " |-- metformin-rosiglitazone: string (nullable = true)\n",
      " |-- metformin-pioglitazone: string (nullable = true)\n",
      " |-- change: string (nullable = true)\n",
      " |-- diabetesMed: string (nullable = true)\n",
      " |-- label: double (nullable = true)\n",
      " |-- diag_1_group: string (nullable = false)\n",
      " |-- diag_2_group: string (nullable = false)\n",
      " |-- diag_3_group: string (nullable = false)\n",
      " |-- comorbidity_count: long (nullable = true)\n",
      " |-- labs_per_day: double (nullable = true)\n",
      " |-- meds_per_day: double (nullable = true)\n",
      " |-- procs_per_day: double (nullable = true)\n",
      " |-- med_change_score: integer (nullable = true)\n",
      "\n"
     ]
    }
   ],
   "source": [
    "# Separate columns into categorical and numerical lists\n",
    "# The target variable 'readmitted_binary' is separate\n",
    "categorical_cols = [\n",
    "    'race', 'gender', 'age', 'admission_type_id', 'discharge_disposition_id',\n",
    "    'admission_source_id', 'max_glu_serum', 'A1Cresult', 'metformin',\n",
    "    'repaglinide', 'nateglinide', 'chlorpropamide', 'glimepiride',\n",
    "    'acetohexamide', 'glipizide', 'glyburide', 'tolbutamide', 'pioglitazone',\n",
    "    'rosiglitazone', 'acarbose', 'miglitol', 'troglitazone', 'tolazamide',\n",
    "    'examide', 'citoglipton', 'insulin', 'glyburide-metformin', 'glipizide-metformin',\n",
    "    'glimepiride-pioglitazone', 'metformin-rosiglitazone', 'metformin-pioglitazone',\n",
    "    'change', 'diabetesMed', 'diag_1_group', 'diag_2_group', 'diag_3_group'\n",
    "]\n",
    "\n",
    "numerical_cols = [\n",
    "    'time_in_hospital', 'num_lab_procedures', 'num_procedures',\n",
    "    'num_medications', 'number_outpatient', 'number_emergency',\n",
    "    'number_inpatient', 'number_diagnoses', 'comorbidity_count', \n",
    "    'labs_per_day', 'meds_per_day', 'procs_per_day', 'med_change_score'\n",
    "]\n",
    "\n",
    "target_col = 'label'\n",
    "\n",
    "print(\"\\nFinal number of columns before modeling:\", len(df_final.columns))\n",
    "df_final.printSchema()"
   ]
  },
  {
   "cell_type": "code",
   "execution_count": null,
   "id": "8f35ef6f-9555-4157-90e5-448d7ad09b29",
   "metadata": {},
   "outputs": [
    {
     "name": "stdout",
     "output_type": "stream",
     "text": [
      "Pipeline created and data transformed successfully.\n",
      "+-----+------------------------------------------------------------------------------------------------------------------------------------------------------------------------------------------------------------------------------------------------------------------------------------------------------------------------------------------------------------------------------------------------+\n",
      "|label|features                                                                                                                                                                                                                                                                                                                                                                                        |\n",
      "+-----+------------------------------------------------------------------------------------------------------------------------------------------------------------------------------------------------------------------------------------------------------------------------------------------------------------------------------------------------------------------------------------------------+\n",
      "|0.0  |(2093,[0,5,17,21,34,53,69,73,77,81,85,89,93,97,99,103,107,109,113,117,121,125,127,130,131,132,136,140,142,144,146,148,151,152,864,1451,2080,2081,2083,2087,2088,2089,2090],[1.0,1.0,1.0,1.0,1.0,1.0,1.0,1.0,1.0,1.0,1.0,1.0,1.0,1.0,1.0,1.0,1.0,1.0,1.0,1.0,1.0,1.0,1.0,1.0,1.0,1.0,1.0,1.0,1.0,1.0,1.0,1.0,1.0,1.0,1.0,1.0,1.0,41.0,1.0,1.0,1.0,41.0,1.0])                                     |\n",
      "|1.0  |(2093,[0,5,16,18,26,52,69,73,77,81,85,89,93,97,99,103,107,109,113,117,121,125,127,130,131,135,136,140,142,144,146,149,150,165,819,1576,2080,2081,2083,2087,2088,2089,2090,2092],[1.0,1.0,1.0,1.0,1.0,1.0,1.0,1.0,1.0,1.0,1.0,1.0,1.0,1.0,1.0,1.0,1.0,1.0,1.0,1.0,1.0,1.0,1.0,1.0,1.0,1.0,1.0,1.0,1.0,1.0,1.0,1.0,1.0,1.0,1.0,1.0,3.0,59.0,18.0,9.0,1.0,19.666666666666668,6.0,1.0])             |\n",
      "|0.0  |(2093,[1,5,15,18,26,52,69,73,77,81,85,89,93,97,100,103,107,109,113,117,121,125,127,130,131,132,136,140,142,144,146,148,150,212,819,1444,2080,2081,2082,2083,2084,2086,2087,2088,2089,2090,2091],[1.0,1.0,1.0,1.0,1.0,1.0,1.0,1.0,1.0,1.0,1.0,1.0,1.0,1.0,1.0,1.0,1.0,1.0,1.0,1.0,1.0,1.0,1.0,1.0,1.0,1.0,1.0,1.0,1.0,1.0,1.0,1.0,1.0,1.0,1.0,1.0,2.0,11.0,5.0,13.0,2.0,1.0,6.0,1.0,5.5,6.5,2.5])|\n",
      "|0.0  |(2093,[0,6,13,18,26,52,69,73,77,81,85,89,93,97,99,103,107,109,113,117,121,125,127,130,131,135,136,140,142,144,146,149,150,188,819,1447,2080,2081,2082,2083,2087,2088,2089,2090,2091,2092],[1.0,1.0,1.0,1.0,1.0,1.0,1.0,1.0,1.0,1.0,1.0,1.0,1.0,1.0,1.0,1.0,1.0,1.0,1.0,1.0,1.0,1.0,1.0,1.0,1.0,1.0,1.0,1.0,1.0,1.0,1.0,1.0,1.0,1.0,1.0,1.0,2.0,44.0,1.0,16.0,7.0,1.0,22.0,8.0,0.5,1.0])         |\n",
      "|0.0  |(2093,[0,6,12,18,26,52,69,73,77,81,85,89,93,97,100,103,107,109,113,117,121,125,127,130,131,133,136,140,142,144,146,149,150,206,940,1439,2080,2081,2083,2087,2088,2089,2090],[1.0,1.0,1.0,1.0,1.0,1.0,1.0,1.0,1.0,1.0,1.0,1.0,1.0,1.0,1.0,1.0,1.0,1.0,1.0,1.0,1.0,1.0,1.0,1.0,1.0,1.0,1.0,1.0,1.0,1.0,1.0,1.0,1.0,1.0,1.0,1.0,1.0,51.0,8.0,5.0,1.0,51.0,8.0])                                    |\n",
      "+-----+------------------------------------------------------------------------------------------------------------------------------------------------------------------------------------------------------------------------------------------------------------------------------------------------------------------------------------------------------------------------------------------------+\n",
      "only showing top 5 rows\n"
     ]
    }
   ],
   "source": [
    "from pyspark.ml import Pipeline\n",
    "from pyspark.ml.feature import StringIndexer, OneHotEncoder, VectorAssembler\n",
    "\n",
    "# --- STAGE 1 & 2: String Indexing and One-Hot Encoding for Categorical Columns ---\n",
    "# We create a list to hold all the stages of our pipeline\n",
    "stages = []\n",
    "\n",
    "# Loop through each categorical column\n",
    "for col_name in categorical_cols:\n",
    "    # 1. StringIndexer, Rule: StringIndexer orders categories by descending frequency in the dataset.\n",
    "    # That means:The most frequent label gets index 0. The next most frequent gets 1, and so on.\n",
    "\n",
    "    string_indexer = StringIndexer(inputCol=col_name, outputCol=col_name + \"_index\", handleInvalid=\"keep\")\n",
    "    # 2. OneHotEncoder\n",
    "    one_hot_encoder = OneHotEncoder(inputCols=[string_indexer.getOutputCol()], outputCols=[col_name + \"_vec\"])\n",
    "    # Add these two stages to our pipeline\n",
    "    stages += [string_indexer, one_hot_encoder]\n",
    "\n",
    "# --- STAGE 3: Vector Assembly ---\n",
    "# Create a list of all feature columns to be assembled\n",
    "# This includes the one-hot encoded vectors and the original numerical columns\n",
    "assembler_inputs = [c + \"_vec\" for c in categorical_cols] + numerical_cols\n",
    "\n",
    "# Create the VectorAssembler stage\n",
    "vector_assembler = VectorAssembler(inputCols=assembler_inputs, outputCol=\"features\")\n",
    "\n",
    "# Add the assembler to our stages\n",
    "stages += [vector_assembler]\n",
    "\n",
    "# --- Create and Run the Pipeline ---\n",
    "# Define the pipeline with all the stages\n",
    "preprocessing_pipeline = Pipeline(stages=stages)\n",
    "\n",
    "# Fit the pipeline to our data to \"learn\" the transformations\n",
    "pipeline_model = preprocessing_pipeline.fit(df_final)\n",
    "\n",
    "# Transform the data to apply the transformations\n",
    "df_model_ready = pipeline_model.transform(df_final)\n",
    "\n",
    "print(\"Pipeline created and data transformed successfully.\")\n",
    "\n",
    "# --- Inspect the Result ---\n",
    "# Let's look at the final DataFrame. You'll see the new columns,\n",
    "# especially the 'features' vector and our target column.\n",
    "df_model_ready.select(target_col, 'features').show(5, truncate=False)"
   ]
  },
  {
   "cell_type": "code",
   "execution_count": null,
   "id": "97cf9850-34ce-421b-aba1-3dbeece92ada",
   "metadata": {},
   "outputs": [
    {
     "name": "stdout",
     "output_type": "stream",
     "text": [
      "Number of training samples: 81565\n",
      "Number of testing samples: 20201\n"
     ]
    }
   ],
   "source": [
    "(trainingData, testData) = df_model_ready.randomSplit([0.8, 0.2], seed=42)\n",
    "\n",
    "print(f\"Number of training samples: {trainingData.count()}\")\n",
    "print(f\"Number of testing samples: {testData.count()}\")"
   ]
  },
  {
   "cell_type": "markdown",
   "id": "2e71980e-e7f3-499d-baae-794c568e6e2f",
   "metadata": {},
   "source": [
    "# Test_1 logistic regression"
   ]
  },
  {
   "cell_type": "code",
   "execution_count": null,
   "id": "ebad4154-ace2-4b93-86ab-7e04105d6bd3",
   "metadata": {},
   "outputs": [
    {
     "name": "stdout",
     "output_type": "stream",
     "text": [
      "Training the Logistic Regression model...\n",
      "Model training complete.\n"
     ]
    }
   ],
   "source": [
    "from pyspark.ml.classification import LogisticRegression\n",
    "\n",
    "# Instantiate the Logistic Regression model\n",
    "# It will use our 'features' and 'label' columns\n",
    "lr_1 = LogisticRegression(featuresCol='features', labelCol='label')\n",
    "\n",
    "# Train the model by fitting it to the training data\n",
    "print(\"Training the Logistic Regression model...\")\n",
    "lr_model_1 = lr_1.fit(trainingData)\n",
    "print(\"Model training complete.\")"
   ]
  },
  {
   "cell_type": "code",
   "execution_count": null,
   "id": "c98b4094-f354-4033-a66c-fd07765e4a24",
   "metadata": {},
   "outputs": [
    {
     "name": "stdout",
     "output_type": "stream",
     "text": [
      "Sample predictions:\n",
      "+-----+----------+----------------------------------------+\n",
      "|label|prediction|probability                             |\n",
      "+-----+----------+----------------------------------------+\n",
      "|1.0  |0.0       |[0.9173741735148928,0.08262582648510719]|\n",
      "|0.0  |0.0       |[0.6668425230420639,0.33315747695793607]|\n",
      "|0.0  |0.0       |[0.7494673110869254,0.25053268891307456]|\n",
      "|1.0  |0.0       |[0.6873527198893145,0.31264728011068554]|\n",
      "|1.0  |1.0       |[0.34954529648602983,0.6504547035139702]|\n",
      "|0.0  |0.0       |[0.7586286787548977,0.2413713212451023] |\n",
      "|0.0  |0.0       |[0.6298967434161109,0.3701032565838891] |\n",
      "|1.0  |0.0       |[0.7155634611430897,0.28443653885691034]|\n",
      "|1.0  |0.0       |[0.6895710724536535,0.31042892754634654]|\n",
      "|1.0  |0.0       |[0.5931447346649693,0.4068552653350307] |\n",
      "+-----+----------+----------------------------------------+\n",
      "only showing top 10 rows\n"
     ]
    }
   ],
   "source": [
    "# Make predictions on the test data\n",
    "predictions = lr_model_1.transform(testData)\n",
    "\n",
    "# Let's look at the predictions\n",
    "# The 'prediction' column is what the model guessed.\n",
    "print(\"Sample predictions:\")\n",
    "predictions.select('label', 'prediction', 'probability').show(10, truncate=False)"
   ]
  },
  {
   "cell_type": "code",
   "execution_count": null,
   "id": "8a105d6d-8e91-49c5-aaef-7775a3861a84",
   "metadata": {},
   "outputs": [
    {
     "name": "stdout",
     "output_type": "stream",
     "text": [
      "Area Under ROC (AUC) = 0.6893\n",
      "Recall (for Readmitted Class 1.0) = 53.48%\n",
      "Precision (for Readmitted Class 1.0) = 62.92%\n",
      "F1 Score (for Readmitted Class 1.0) = 0.6365\n",
      "\n",
      "Confusion Matrix:\n",
      "prediction   0.0   1.0\n",
      "label                 \n",
      "0.0         7952  2935\n",
      "1.0         4333  4981\n"
     ]
    }
   ],
   "source": [
    "from pyspark.ml.evaluation import MulticlassClassificationEvaluator, BinaryClassificationEvaluator\n",
    "\n",
    "# AUC\n",
    "evaluator_auc = BinaryClassificationEvaluator(labelCol=\"label\", rawPredictionCol=\"rawPrediction\", metricName=\"areaUnderROC\")\n",
    "auc = evaluator_auc.evaluate(predictions)\n",
    "print(f\"Area Under ROC (AUC) = {auc:.4f}\")\n",
    "\n",
    "# Recall\n",
    "evaluator_recall_positive = MulticlassClassificationEvaluator(labelCol=\"label\", predictionCol=\"prediction\",\n",
    "                                                              metricName=\"recallByLabel\", metricLabel=1.0)\n",
    "recall = evaluator_recall_positive.evaluate(predictions)\n",
    "print(f\"Recall (for Readmitted Class 1.0) = {recall:.2%}\")\n",
    "\n",
    "# Precision\n",
    "evaluator_precision_positive = MulticlassClassificationEvaluator(labelCol=\"label\", predictionCol=\"prediction\",\n",
    "                                                                  metricName=\"precisionByLabel\", metricLabel=1.0)\n",
    "precision = evaluator_precision_positive.evaluate(predictions)\n",
    "print(f\"Precision (for Readmitted Class 1.0) = {precision:.2%}\")\n",
    "\n",
    "# F1 score\n",
    "evaluator_f1_positive = MulticlassClassificationEvaluator(labelCol=\"label\", predictionCol=\"prediction\",\n",
    "                                                          metricName=\"f1\", metricLabel=1.0)\n",
    "f1_score = evaluator_f1_positive.evaluate(predictions)\n",
    "print(f\"F1 Score (for Readmitted Class 1.0) = {f1_score:.4f}\")\n",
    "\n",
    "# --- Detailed View: Confusion Matrix ---\n",
    "# Shows how many times the model predicted each class vs. the actual class.\n",
    "print(\"\\nConfusion Matrix:\")\n",
    "# Convert to Pandas for a nice crosstab view\n",
    "preds_and_labels = predictions.select(['prediction', 'label']).toPandas()\n",
    "confusion_matrix = pd.crosstab(preds_and_labels['label'], preds_and_labels['prediction'])\n",
    "print(confusion_matrix)"
   ]
  },
  {
   "cell_type": "markdown",
   "id": "782706ea-69d3-43d5-8360-18c447210d3f",
   "metadata": {},
   "source": [
    "# Test_2 logistic regression with weighted column"
   ]
  },
  {
   "cell_type": "code",
   "execution_count": null,
   "id": "9a995d53-d676-442d-a0bb-b8052a0ec64a",
   "metadata": {},
   "outputs": [
    {
     "name": "stdout",
     "output_type": "stream",
     "text": [
      "Weight for class 0: 0.46\n",
      "Weight for class 1: 0.54\n"
     ]
    }
   ],
   "source": [
    "# Calculate the balance ratio\n",
    "num_positives = df_model_ready.filter(col('label') == 1.0).count()\n",
    "num_negatives = df_model_ready.filter(col('label') == 0.0).count()\n",
    "\n",
    "# The weight for the majority class (0.0) should be smaller\n",
    "weight_for_negatives = num_positives / (num_positives + num_negatives)\n",
    "\n",
    "# The weight for the minority class (1.0) should be larger\n",
    "weight_for_positives = num_negatives / (num_positives + num_negatives)\n",
    "\n",
    "print(f\"Weight for class 0: {weight_for_negatives:.2f}\")\n",
    "print(f\"Weight for class 1: {weight_for_positives:.2f}\")\n",
    "\n",
    "# Add a weight column to the DataFrame\n",
    "df_weighted = df_model_ready.withColumn('classWeight',\n",
    "    when(col('label') == 0.0, weight_for_negatives)\n",
    "    .otherwise(weight_for_positives)\n",
    ")\n",
    "\n",
    "# Split this NEW df_weighted DataFrame\n",
    "(trainingData, testData) = df_weighted.randomSplit([0.8, 0.2], seed=42)\n",
    "\n",
    "# Now, when you instantiate your model, tell it to use this column\n",
    "# If you are using LogisticRegression:\n",
    "lr_2 = LogisticRegression(featuresCol='features', labelCol='label', weightCol='classWeight')\n",
    "lr_model_2 = lr_2.fit(trainingData)\n",
    "predictions = lr_model_2.transform(testData)"
   ]
  },
  {
   "cell_type": "code",
   "execution_count": null,
   "id": "5da41276-9aef-4063-ac23-219669f86af7",
   "metadata": {},
   "outputs": [
    {
     "name": "stdout",
     "output_type": "stream",
     "text": [
      "Area Under ROC (AUC) = 0.6894\n",
      "Recall (for Readmitted Class 1.0) = 62.70%\n",
      "Precision (for Readmitted Class 1.0) = 60.09%\n",
      "F1 Score (for Readmitted Class 1.0) = 0.6364\n",
      "\n",
      "Confusion Matrix:\n",
      "prediction   0.0   1.0\n",
      "label                 \n",
      "0.0         7008  3879\n",
      "1.0         3474  5840\n"
     ]
    }
   ],
   "source": [
    "# AUC\n",
    "evaluator_auc = BinaryClassificationEvaluator(labelCol=\"label\", rawPredictionCol=\"rawPrediction\", metricName=\"areaUnderROC\")\n",
    "auc = evaluator_auc.evaluate(predictions)\n",
    "print(f\"Area Under ROC (AUC) = {auc:.4f}\")\n",
    "\n",
    "# Recall\n",
    "evaluator_recall_positive = MulticlassClassificationEvaluator(labelCol=\"label\", predictionCol=\"prediction\",\n",
    "                                                              metricName=\"recallByLabel\", metricLabel=1.0)\n",
    "recall = evaluator_recall_positive.evaluate(predictions)\n",
    "print(f\"Recall (for Readmitted Class 1.0) = {recall:.2%}\")\n",
    "\n",
    "# Precision\n",
    "evaluator_precision_positive = MulticlassClassificationEvaluator(labelCol=\"label\", predictionCol=\"prediction\",\n",
    "                                                                  metricName=\"precisionByLabel\", metricLabel=1.0)\n",
    "precision = evaluator_precision_positive.evaluate(predictions)\n",
    "print(f\"Precision (for Readmitted Class 1.0) = {precision:.2%}\")\n",
    "\n",
    "# F1 score\n",
    "evaluator_f1_positive = MulticlassClassificationEvaluator(labelCol=\"label\", predictionCol=\"prediction\",\n",
    "                                                          metricName=\"f1\", metricLabel=1.0)\n",
    "f1_score = evaluator_f1_positive.evaluate(predictions)\n",
    "print(f\"F1 Score (for Readmitted Class 1.0) = {f1_score:.4f}\")\n",
    "\n",
    "# --- Detailed View: Confusion Matrix ---\n",
    "# Shows how many times the model predicted each class vs. the actual class.\n",
    "print(\"\\nConfusion Matrix:\")\n",
    "# Convert to Pandas for a nice crosstab view\n",
    "preds_and_labels = predictions.select(['prediction', 'label']).toPandas()\n",
    "confusion_matrix = pd.crosstab(preds_and_labels['label'], preds_and_labels['prediction'])\n",
    "print(confusion_matrix)\n"
   ]
  },
  {
   "cell_type": "markdown",
   "id": "f268b0fc-08a5-4193-a5ea-ea33b0ed14de",
   "metadata": {},
   "source": [
    "# Test_3 random forest with weighted column"
   ]
  },
  {
   "cell_type": "code",
   "execution_count": null,
   "id": "0b27cf9d-7bd2-456b-9cfe-ebda3c70080f",
   "metadata": {},
   "outputs": [
    {
     "name": "stdout",
     "output_type": "stream",
     "text": [
      "Training the weighted RandomForest model...\n",
      "Model training complete.\n",
      "\n",
      "--- Evaluation of RandomForest Model ---\n",
      "Area Under ROC (AUC) = 0.6653\n",
      "Recall (for Readmitted Class 1.0) = 64.99%\n",
      "Precision (for Readmitted Class 1.0) = 58.08%\n",
      "F1 Score (for Readmitted Class 1.0) = 0.6228\n",
      "\n",
      "Confusion Matrix (RandomForest):\n",
      "Predicted   0.0   1.0\n",
      "Actual               \n",
      "0.0        6519  4368\n",
      "1.0        3261  6053\n"
     ]
    }
   ],
   "source": [
    "from pyspark.ml.classification import RandomForestClassifier\n",
    "\n",
    "# 1. Instantiate the RandomForest model, making sure to use the weightCol!\n",
    "rf_1 = RandomForestClassifier(featuresCol='features', \n",
    "                            labelCol='label', \n",
    "                            weightCol='classWeight',  # Crucial to keep this\n",
    "                            seed=42)                 # For reproducibility\n",
    "\n",
    "# 2. Train the model on your weighted training data\n",
    "print(\"Training the weighted RandomForest model...\")\n",
    "rf_model_1 = rf_1.fit(trainingData)\n",
    "print(\"Model training complete.\")\n",
    "\n",
    "# 3. Make predictions on the UNTOUCHED test data\n",
    "predictions_rf = rf_model_1.transform(testData)\n",
    "\n",
    "# 4. Evaluate the new model using your corrected evaluation code\n",
    "print(\"\\n--- Evaluation of RandomForest Model ---\")\n",
    "\n",
    "# --- AUC ---\n",
    "evaluator_auc = BinaryClassificationEvaluator(labelCol=\"label\", rawPredictionCol=\"rawPrediction\", metricName=\"areaUnderROC\")\n",
    "auc = evaluator_auc.evaluate(predictions_rf)\n",
    "print(f\"Area Under ROC (AUC) = {auc:.4f}\")\n",
    "\n",
    "# --- Recall for Positive Class ---\n",
    "evaluator_recall_positive = MulticlassClassificationEvaluator(labelCol=\"label\", predictionCol=\"prediction\", metricName=\"recallByLabel\", metricLabel=1.0)\n",
    "recall = evaluator_recall_positive.evaluate(predictions_rf)\n",
    "print(f\"Recall (for Readmitted Class 1.0) = {recall:.2%}\")\n",
    "\n",
    "# --- Precision for Positive Class ---\n",
    "evaluator_precision_positive = MulticlassClassificationEvaluator(labelCol=\"label\", predictionCol=\"prediction\", metricName=\"precisionByLabel\", metricLabel=1.0)\n",
    "precision = evaluator_precision_positive.evaluate(predictions_rf)\n",
    "print(f\"Precision (for Readmitted Class 1.0) = {precision:.2%}\")\n",
    "\n",
    "# --- F1 Score for Positive Class ---\n",
    "evaluator_f1_positive = MulticlassClassificationEvaluator(labelCol=\"label\", predictionCol=\"prediction\", metricName=\"f1\", metricLabel=1.0)\n",
    "f1_score = evaluator_f1_positive.evaluate(predictions_rf)\n",
    "print(f\"F1 Score (for Readmitted Class 1.0) = {f1_score:.4f}\")\n",
    "\n",
    "# --- Confusion Matrix ---\n",
    "print(\"\\nConfusion Matrix (RandomForest):\")\n",
    "preds_and_labels_rf = predictions_rf.select(['prediction', 'label']).toPandas()\n",
    "confusion_matrix_rf = pd.crosstab(preds_and_labels_rf['label'], preds_and_labels_rf['prediction'], rownames=['Actual'], colnames=['Predicted'])\n",
    "print(confusion_matrix_rf)"
   ]
  },
  {
   "cell_type": "code",
   "execution_count": null,
   "id": "13a072e6-e6ab-4da5-968f-d0e1d42b7b12",
   "metadata": {},
   "outputs": [],
   "source": []
  }
 ],
 "metadata": {
  "kernelspec": {
   "display_name": "env",
   "language": "python",
   "name": "python3"
  },
  "language_info": {
   "codemirror_mode": {
    "name": "ipython",
    "version": 3
   },
   "file_extension": ".py",
   "mimetype": "text/x-python",
   "name": "python",
   "nbconvert_exporter": "python",
   "pygments_lexer": "ipython3",
   "version": "3.10.10"
  }
 },
 "nbformat": 4,
 "nbformat_minor": 5
}
