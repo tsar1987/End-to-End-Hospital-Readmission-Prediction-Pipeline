{
 "cells": [
  {
   "cell_type": "code",
   "execution_count": 1,
   "id": "4e541c85-eae5-4f8c-82fb-2a1009fef79f",
   "metadata": {},
   "outputs": [],
   "source": [
    "import numpy as np\n",
    "import pandas as pd\n",
    "import matplotlib.pyplot as plt\n",
    "import seaborn as sns"
   ]
  },
  {
   "cell_type": "code",
   "execution_count": 2,
   "id": "b2609cf5-5ac1-4912-ab03-7aeab4a764ef",
   "metadata": {},
   "outputs": [],
   "source": [
    "pd.set_option('display.max_columns', None)"
   ]
  },
  {
   "cell_type": "code",
   "execution_count": 3,
   "id": "dc823711-6882-4c60-8089-fae703ad5356",
   "metadata": {},
   "outputs": [],
   "source": [
    "from pyspark.sql import SparkSession"
   ]
  },
  {
   "cell_type": "code",
   "execution_count": 4,
   "id": "1d6b6723-b8bf-436f-b79b-a0012b347324",
   "metadata": {},
   "outputs": [],
   "source": [
    "# create a spark session\n",
    "spark = SparkSession.builder.appName(\"HospitalReadmissionEDA\").getOrCreate()"
   ]
  },
  {
   "cell_type": "code",
   "execution_count": 5,
   "id": "f10adb93-28d5-4181-ac76-f34445a6607a",
   "metadata": {},
   "outputs": [
    {
     "name": "stdout",
     "output_type": "stream",
     "text": [
      "Number of rows: 101766\n",
      "Number of columns: 50\n",
      "+------------+-----------+---------------+------+-------+------+-----------------+------------------------+-------------------+----------------+----------+--------------------+------------------+--------------+---------------+-----------------+----------------+----------------+------+------+------+----------------+-------------+---------+---------+-----------+-----------+--------------+-----------+-------------+---------+---------+-----------+------------+-------------+--------+--------+------------+----------+-------+-----------+-------+-------------------+-------------------+------------------------+-----------------------+----------------------+------+-----------+----------+\n",
      "|encounter_id|patient_nbr|           race|gender|    age|weight|admission_type_id|discharge_disposition_id|admission_source_id|time_in_hospital|payer_code|   medical_specialty|num_lab_procedures|num_procedures|num_medications|number_outpatient|number_emergency|number_inpatient|diag_1|diag_2|diag_3|number_diagnoses|max_glu_serum|A1Cresult|metformin|repaglinide|nateglinide|chlorpropamide|glimepiride|acetohexamide|glipizide|glyburide|tolbutamide|pioglitazone|rosiglitazone|acarbose|miglitol|troglitazone|tolazamide|examide|citoglipton|insulin|glyburide-metformin|glipizide-metformin|glimepiride-pioglitazone|metformin-rosiglitazone|metformin-pioglitazone|change|diabetesMed|readmitted|\n",
      "+------------+-----------+---------------+------+-------+------+-----------------+------------------------+-------------------+----------------+----------+--------------------+------------------+--------------+---------------+-----------------+----------------+----------------+------+------+------+----------------+-------------+---------+---------+-----------+-----------+--------------+-----------+-------------+---------+---------+-----------+------------+-------------+--------+--------+------------+----------+-------+-----------+-------+-------------------+-------------------+------------------------+-----------------------+----------------------+------+-----------+----------+\n",
      "|     2278392|    8222157|      Caucasian|Female| [0-10)|     ?|                6|                      25|                  1|               1|         ?|Pediatrics-Endocr...|                41|             0|              1|                0|               0|               0|250.83|     ?|     ?|               1|         None|     None|       No|         No|         No|            No|         No|           No|       No|       No|         No|          No|           No|      No|      No|          No|        No|     No|         No|     No|                 No|                 No|                      No|                     No|                    No|    No|         No|        NO|\n",
      "|      149190|   55629189|      Caucasian|Female|[10-20)|     ?|                1|                       1|                  7|               3|         ?|                   ?|                59|             0|             18|                0|               0|               0|   276|250.01|   255|               9|         None|     None|       No|         No|         No|            No|         No|           No|       No|       No|         No|          No|           No|      No|      No|          No|        No|     No|         No|     Up|                 No|                 No|                      No|                     No|                    No|    Ch|        Yes|       >30|\n",
      "|       64410|   86047875|AfricanAmerican|Female|[20-30)|     ?|                1|                       1|                  7|               2|         ?|                   ?|                11|             5|             13|                2|               0|               1|   648|   250|   V27|               6|         None|     None|       No|         No|         No|            No|         No|           No|   Steady|       No|         No|          No|           No|      No|      No|          No|        No|     No|         No|     No|                 No|                 No|                      No|                     No|                    No|    No|        Yes|        NO|\n",
      "|      500364|   82442376|      Caucasian|  Male|[30-40)|     ?|                1|                       1|                  7|               2|         ?|                   ?|                44|             1|             16|                0|               0|               0|     8|250.43|   403|               7|         None|     None|       No|         No|         No|            No|         No|           No|       No|       No|         No|          No|           No|      No|      No|          No|        No|     No|         No|     Up|                 No|                 No|                      No|                     No|                    No|    Ch|        Yes|        NO|\n",
      "|       16680|   42519267|      Caucasian|  Male|[40-50)|     ?|                1|                       1|                  7|               1|         ?|                   ?|                51|             0|              8|                0|               0|               0|   197|   157|   250|               5|         None|     None|       No|         No|         No|            No|         No|           No|   Steady|       No|         No|          No|           No|      No|      No|          No|        No|     No|         No| Steady|                 No|                 No|                      No|                     No|                    No|    Ch|        Yes|        NO|\n",
      "+------------+-----------+---------------+------+-------+------+-----------------+------------------------+-------------------+----------------+----------+--------------------+------------------+--------------+---------------+-----------------+----------------+----------------+------+------+------+----------------+-------------+---------+---------+-----------+-----------+--------------+-----------+-------------+---------+---------+-----------+------------+-------------+--------+--------+------------+----------+-------+-----------+-------+-------------------+-------------------+------------------------+-----------------------+----------------------+------+-----------+----------+\n",
      "only showing top 5 rows\n",
      "root\n",
      " |-- encounter_id: string (nullable = true)\n",
      " |-- patient_nbr: string (nullable = true)\n",
      " |-- race: string (nullable = true)\n",
      " |-- gender: string (nullable = true)\n",
      " |-- age: string (nullable = true)\n",
      " |-- weight: string (nullable = true)\n",
      " |-- admission_type_id: string (nullable = true)\n",
      " |-- discharge_disposition_id: string (nullable = true)\n",
      " |-- admission_source_id: string (nullable = true)\n",
      " |-- time_in_hospital: string (nullable = true)\n",
      " |-- payer_code: string (nullable = true)\n",
      " |-- medical_specialty: string (nullable = true)\n",
      " |-- num_lab_procedures: string (nullable = true)\n",
      " |-- num_procedures: string (nullable = true)\n",
      " |-- num_medications: string (nullable = true)\n",
      " |-- number_outpatient: string (nullable = true)\n",
      " |-- number_emergency: string (nullable = true)\n",
      " |-- number_inpatient: string (nullable = true)\n",
      " |-- diag_1: string (nullable = true)\n",
      " |-- diag_2: string (nullable = true)\n",
      " |-- diag_3: string (nullable = true)\n",
      " |-- number_diagnoses: string (nullable = true)\n",
      " |-- max_glu_serum: string (nullable = true)\n",
      " |-- A1Cresult: string (nullable = true)\n",
      " |-- metformin: string (nullable = true)\n",
      " |-- repaglinide: string (nullable = true)\n",
      " |-- nateglinide: string (nullable = true)\n",
      " |-- chlorpropamide: string (nullable = true)\n",
      " |-- glimepiride: string (nullable = true)\n",
      " |-- acetohexamide: string (nullable = true)\n",
      " |-- glipizide: string (nullable = true)\n",
      " |-- glyburide: string (nullable = true)\n",
      " |-- tolbutamide: string (nullable = true)\n",
      " |-- pioglitazone: string (nullable = true)\n",
      " |-- rosiglitazone: string (nullable = true)\n",
      " |-- acarbose: string (nullable = true)\n",
      " |-- miglitol: string (nullable = true)\n",
      " |-- troglitazone: string (nullable = true)\n",
      " |-- tolazamide: string (nullable = true)\n",
      " |-- examide: string (nullable = true)\n",
      " |-- citoglipton: string (nullable = true)\n",
      " |-- insulin: string (nullable = true)\n",
      " |-- glyburide-metformin: string (nullable = true)\n",
      " |-- glipizide-metformin: string (nullable = true)\n",
      " |-- glimepiride-pioglitazone: string (nullable = true)\n",
      " |-- metformin-rosiglitazone: string (nullable = true)\n",
      " |-- metformin-pioglitazone: string (nullable = true)\n",
      " |-- change: string (nullable = true)\n",
      " |-- diabetesMed: string (nullable = true)\n",
      " |-- readmitted: string (nullable = true)\n",
      "\n"
     ]
    }
   ],
   "source": [
    "# Load the Data into a Spark DataFrame\n",
    "data_path = '../data/diabetic_data.csv'\n",
    "df_spark = spark.read.csv(data_path, header=True)\n",
    "\n",
    "# Initial Inspection with PySpark\n",
    "print(f\"Number of rows: {df_spark.count()}\")\n",
    "print(f\"Number of columns: {len(df_spark.columns)}\")\n",
    "\n",
    "# Show the first 5 rows\n",
    "df_spark.show(5)\n",
    "\n",
    "# Print the schema that Spark inferred\n",
    "df_spark.printSchema()"
   ]
  },
  {
   "cell_type": "code",
   "execution_count": 6,
   "id": "48744dc1-9ba3-46af-8e5f-cba8d77c2b8c",
   "metadata": {},
   "outputs": [],
   "source": [
    "from pyspark.sql.functions import col, when"
   ]
  },
  {
   "cell_type": "code",
   "execution_count": 7,
   "id": "8c5fddb0-971a-4484-bce9-ff832e986755",
   "metadata": {},
   "outputs": [],
   "source": [
    "# create a list of all column names\n",
    "all_columns = df_spark.columns"
   ]
  },
  {
   "cell_type": "code",
   "execution_count": 8,
   "id": "59e19c4c-91fd-42ba-8172-134f183e8fcf",
   "metadata": {},
   "outputs": [
    {
     "name": "stdout",
     "output_type": "stream",
     "text": [
      "Replaced '?' with null values.\n"
     ]
    }
   ],
   "source": [
    "# loop through each column to replace? with null\n",
    "df_cleaned = df_spark \n",
    "for column in all_columns:\n",
    "    df_cleaned = df_cleaned.withColumn(column, \n",
    "                                      when(col(column) == \"?\", None).otherwise(col(column))\n",
    "                                      )\n",
    "print(\"Replaced '?' with null values.\")"
   ]
  },
  {
   "cell_type": "code",
   "execution_count": 9,
   "id": "73bd3a44-1149-4a67-9ad4-2ed574f22770",
   "metadata": {},
   "outputs": [
    {
     "name": "stdout",
     "output_type": "stream",
     "text": [
      "+------------+-----------+---------------+------+-------+------+-----------------+------------------------+-------------------+----------------+----------+--------------------+------------------+--------------+---------------+-----------------+----------------+----------------+------+------+------+----------------+-------------+---------+---------+-----------+-----------+--------------+-----------+-------------+---------+---------+-----------+------------+-------------+--------+--------+------------+----------+-------+-----------+-------+-------------------+-------------------+------------------------+-----------------------+----------------------+------+-----------+----------+\n",
      "|encounter_id|patient_nbr|           race|gender|    age|weight|admission_type_id|discharge_disposition_id|admission_source_id|time_in_hospital|payer_code|   medical_specialty|num_lab_procedures|num_procedures|num_medications|number_outpatient|number_emergency|number_inpatient|diag_1|diag_2|diag_3|number_diagnoses|max_glu_serum|A1Cresult|metformin|repaglinide|nateglinide|chlorpropamide|glimepiride|acetohexamide|glipizide|glyburide|tolbutamide|pioglitazone|rosiglitazone|acarbose|miglitol|troglitazone|tolazamide|examide|citoglipton|insulin|glyburide-metformin|glipizide-metformin|glimepiride-pioglitazone|metformin-rosiglitazone|metformin-pioglitazone|change|diabetesMed|readmitted|\n",
      "+------------+-----------+---------------+------+-------+------+-----------------+------------------------+-------------------+----------------+----------+--------------------+------------------+--------------+---------------+-----------------+----------------+----------------+------+------+------+----------------+-------------+---------+---------+-----------+-----------+--------------+-----------+-------------+---------+---------+-----------+------------+-------------+--------+--------+------------+----------+-------+-----------+-------+-------------------+-------------------+------------------------+-----------------------+----------------------+------+-----------+----------+\n",
      "|     2278392|    8222157|      Caucasian|Female| [0-10)|  NULL|                6|                      25|                  1|               1|      NULL|Pediatrics-Endocr...|                41|             0|              1|                0|               0|               0|250.83|  NULL|  NULL|               1|         None|     None|       No|         No|         No|            No|         No|           No|       No|       No|         No|          No|           No|      No|      No|          No|        No|     No|         No|     No|                 No|                 No|                      No|                     No|                    No|    No|         No|        NO|\n",
      "|      149190|   55629189|      Caucasian|Female|[10-20)|  NULL|                1|                       1|                  7|               3|      NULL|                NULL|                59|             0|             18|                0|               0|               0|   276|250.01|   255|               9|         None|     None|       No|         No|         No|            No|         No|           No|       No|       No|         No|          No|           No|      No|      No|          No|        No|     No|         No|     Up|                 No|                 No|                      No|                     No|                    No|    Ch|        Yes|       >30|\n",
      "|       64410|   86047875|AfricanAmerican|Female|[20-30)|  NULL|                1|                       1|                  7|               2|      NULL|                NULL|                11|             5|             13|                2|               0|               1|   648|   250|   V27|               6|         None|     None|       No|         No|         No|            No|         No|           No|   Steady|       No|         No|          No|           No|      No|      No|          No|        No|     No|         No|     No|                 No|                 No|                      No|                     No|                    No|    No|        Yes|        NO|\n",
      "|      500364|   82442376|      Caucasian|  Male|[30-40)|  NULL|                1|                       1|                  7|               2|      NULL|                NULL|                44|             1|             16|                0|               0|               0|     8|250.43|   403|               7|         None|     None|       No|         No|         No|            No|         No|           No|       No|       No|         No|          No|           No|      No|      No|          No|        No|     No|         No|     Up|                 No|                 No|                      No|                     No|                    No|    Ch|        Yes|        NO|\n",
      "|       16680|   42519267|      Caucasian|  Male|[40-50)|  NULL|                1|                       1|                  7|               1|      NULL|                NULL|                51|             0|              8|                0|               0|               0|   197|   157|   250|               5|         None|     None|       No|         No|         No|            No|         No|           No|   Steady|       No|         No|          No|           No|      No|      No|          No|        No|     No|         No| Steady|                 No|                 No|                      No|                     No|                    No|    Ch|        Yes|        NO|\n",
      "+------------+-----------+---------------+------+-------+------+-----------------+------------------------+-------------------+----------------+----------+--------------------+------------------+--------------+---------------+-----------------+----------------+----------------+------+------+------+----------------+-------------+---------+---------+-----------+-----------+--------------+-----------+-------------+---------+---------+-----------+------------+-------------+--------+--------+------------+----------+-------+-----------+-------+-------------------+-------------------+------------------------+-----------------------+----------------------+------+-----------+----------+\n",
      "only showing top 5 rows\n"
     ]
    }
   ],
   "source": [
    "df_cleaned.show(5)"
   ]
  },
  {
   "cell_type": "code",
   "execution_count": 10,
   "id": "6f226a52-11f0-43e6-ab3b-9e03069e4331",
   "metadata": {},
   "outputs": [
    {
     "name": "stdout",
     "output_type": "stream",
     "text": [
      "+---------------+\n",
      "|           race|\n",
      "+---------------+\n",
      "|      Caucasian|\n",
      "|      Caucasian|\n",
      "|AfricanAmerican|\n",
      "|      Caucasian|\n",
      "|      Caucasian|\n",
      "|      Caucasian|\n",
      "|      Caucasian|\n",
      "|      Caucasian|\n",
      "|      Caucasian|\n",
      "|      Caucasian|\n",
      "+---------------+\n",
      "only showing top 10 rows\n"
     ]
    }
   ],
   "source": [
    "df_cleaned.select('race').show(10)"
   ]
  },
  {
   "cell_type": "code",
   "execution_count": 11,
   "id": "cb393aad-62f9-41f2-8a67-57d271c683f0",
   "metadata": {},
   "outputs": [
    {
     "data": {
      "text/plain": [
       "101766"
      ]
     },
     "execution_count": 11,
     "metadata": {},
     "output_type": "execute_result"
    }
   ],
   "source": [
    "from pyspark.sql.functions import count, lit\n",
    "# get total number of rows\n",
    "total_rows = df_cleaned.count()\n",
    "total_rows"
   ]
  },
  {
   "cell_type": "code",
   "execution_count": 12,
   "id": "fe60bbc6-9ed7-4416-9720-2db12209ee3e",
   "metadata": {},
   "outputs": [
    {
     "data": {
      "text/html": [
       "<div>\n",
       "<style scoped>\n",
       "    .dataframe tbody tr th:only-of-type {\n",
       "        vertical-align: middle;\n",
       "    }\n",
       "\n",
       "    .dataframe tbody tr th {\n",
       "        vertical-align: top;\n",
       "    }\n",
       "\n",
       "    .dataframe thead th {\n",
       "        text-align: right;\n",
       "    }\n",
       "</style>\n",
       "<table border=\"1\" class=\"dataframe\">\n",
       "  <thead>\n",
       "    <tr style=\"text-align: right;\">\n",
       "      <th></th>\n",
       "      <th>encounter_id</th>\n",
       "      <th>patient_nbr</th>\n",
       "      <th>race</th>\n",
       "      <th>gender</th>\n",
       "      <th>age</th>\n",
       "      <th>weight</th>\n",
       "      <th>admission_type_id</th>\n",
       "      <th>discharge_disposition_id</th>\n",
       "      <th>admission_source_id</th>\n",
       "      <th>time_in_hospital</th>\n",
       "      <th>payer_code</th>\n",
       "      <th>medical_specialty</th>\n",
       "      <th>num_lab_procedures</th>\n",
       "      <th>num_procedures</th>\n",
       "      <th>num_medications</th>\n",
       "      <th>number_outpatient</th>\n",
       "      <th>number_emergency</th>\n",
       "      <th>number_inpatient</th>\n",
       "      <th>diag_1</th>\n",
       "      <th>diag_2</th>\n",
       "      <th>diag_3</th>\n",
       "      <th>number_diagnoses</th>\n",
       "      <th>max_glu_serum</th>\n",
       "      <th>A1Cresult</th>\n",
       "      <th>metformin</th>\n",
       "      <th>repaglinide</th>\n",
       "      <th>nateglinide</th>\n",
       "      <th>chlorpropamide</th>\n",
       "      <th>glimepiride</th>\n",
       "      <th>acetohexamide</th>\n",
       "      <th>glipizide</th>\n",
       "      <th>glyburide</th>\n",
       "      <th>tolbutamide</th>\n",
       "      <th>pioglitazone</th>\n",
       "      <th>rosiglitazone</th>\n",
       "      <th>acarbose</th>\n",
       "      <th>miglitol</th>\n",
       "      <th>troglitazone</th>\n",
       "      <th>tolazamide</th>\n",
       "      <th>examide</th>\n",
       "      <th>citoglipton</th>\n",
       "      <th>insulin</th>\n",
       "      <th>glyburide-metformin</th>\n",
       "      <th>glipizide-metformin</th>\n",
       "      <th>glimepiride-pioglitazone</th>\n",
       "      <th>metformin-rosiglitazone</th>\n",
       "      <th>metformin-pioglitazone</th>\n",
       "      <th>change</th>\n",
       "      <th>diabetesMed</th>\n",
       "      <th>readmitted</th>\n",
       "    </tr>\n",
       "  </thead>\n",
       "  <tbody>\n",
       "    <tr>\n",
       "      <th>0</th>\n",
       "      <td>0.0</td>\n",
       "      <td>0.0</td>\n",
       "      <td>2.233555</td>\n",
       "      <td>0.0</td>\n",
       "      <td>0.0</td>\n",
       "      <td>96.858479</td>\n",
       "      <td>0.0</td>\n",
       "      <td>0.0</td>\n",
       "      <td>0.0</td>\n",
       "      <td>0.0</td>\n",
       "      <td>39.557416</td>\n",
       "      <td>49.082208</td>\n",
       "      <td>0.0</td>\n",
       "      <td>0.0</td>\n",
       "      <td>0.0</td>\n",
       "      <td>0.0</td>\n",
       "      <td>0.0</td>\n",
       "      <td>0.0</td>\n",
       "      <td>0.020636</td>\n",
       "      <td>0.351787</td>\n",
       "      <td>1.398306</td>\n",
       "      <td>0.0</td>\n",
       "      <td>0.0</td>\n",
       "      <td>0.0</td>\n",
       "      <td>0.0</td>\n",
       "      <td>0.0</td>\n",
       "      <td>0.0</td>\n",
       "      <td>0.0</td>\n",
       "      <td>0.0</td>\n",
       "      <td>0.0</td>\n",
       "      <td>0.0</td>\n",
       "      <td>0.0</td>\n",
       "      <td>0.0</td>\n",
       "      <td>0.0</td>\n",
       "      <td>0.0</td>\n",
       "      <td>0.0</td>\n",
       "      <td>0.0</td>\n",
       "      <td>0.0</td>\n",
       "      <td>0.0</td>\n",
       "      <td>0.0</td>\n",
       "      <td>0.0</td>\n",
       "      <td>0.0</td>\n",
       "      <td>0.0</td>\n",
       "      <td>0.0</td>\n",
       "      <td>0.0</td>\n",
       "      <td>0.0</td>\n",
       "      <td>0.0</td>\n",
       "      <td>0.0</td>\n",
       "      <td>0.0</td>\n",
       "      <td>0.0</td>\n",
       "    </tr>\n",
       "  </tbody>\n",
       "</table>\n",
       "</div>"
      ],
      "text/plain": [
       "   encounter_id  patient_nbr      race  gender  age     weight  \\\n",
       "0           0.0          0.0  2.233555     0.0  0.0  96.858479   \n",
       "\n",
       "   admission_type_id  discharge_disposition_id  admission_source_id  \\\n",
       "0                0.0                       0.0                  0.0   \n",
       "\n",
       "   time_in_hospital  payer_code  medical_specialty  num_lab_procedures  \\\n",
       "0               0.0   39.557416          49.082208                 0.0   \n",
       "\n",
       "   num_procedures  num_medications  number_outpatient  number_emergency  \\\n",
       "0             0.0              0.0                0.0               0.0   \n",
       "\n",
       "   number_inpatient    diag_1    diag_2    diag_3  number_diagnoses  \\\n",
       "0               0.0  0.020636  0.351787  1.398306               0.0   \n",
       "\n",
       "   max_glu_serum  A1Cresult  metformin  repaglinide  nateglinide  \\\n",
       "0            0.0        0.0        0.0          0.0          0.0   \n",
       "\n",
       "   chlorpropamide  glimepiride  acetohexamide  glipizide  glyburide  \\\n",
       "0             0.0          0.0            0.0        0.0        0.0   \n",
       "\n",
       "   tolbutamide  pioglitazone  rosiglitazone  acarbose  miglitol  troglitazone  \\\n",
       "0          0.0           0.0            0.0       0.0       0.0           0.0   \n",
       "\n",
       "   tolazamide  examide  citoglipton  insulin  glyburide-metformin  \\\n",
       "0         0.0      0.0          0.0      0.0                  0.0   \n",
       "\n",
       "   glipizide-metformin  glimepiride-pioglitazone  metformin-rosiglitazone  \\\n",
       "0                  0.0                       0.0                      0.0   \n",
       "\n",
       "   metformin-pioglitazone  change  diabetesMed  readmitted  \n",
       "0                     0.0     0.0          0.0         0.0  "
      ]
     },
     "execution_count": 12,
     "metadata": {},
     "output_type": "execute_result"
    }
   ],
   "source": [
    "# calculate missing values count and percentage for each column\n",
    "missing = df_cleaned.select([(count(when(col(c).isNull(), c))/total_rows*100).alias(c) for c in all_columns])\n",
    "missing.toPandas()"
   ]
  },
  {
   "cell_type": "code",
   "execution_count": 13,
   "id": "073281b3-986b-4441-ab49-072db353a805",
   "metadata": {},
   "outputs": [
    {
     "name": "stdout",
     "output_type": "stream",
     "text": [
      "Original number of columns: 50\n",
      "Number of columns after dropping: 45\n"
     ]
    }
   ],
   "source": [
    "# List of columns to drop\n",
    "cols_to_drop = [\n",
    "    'weight',              # 96.9% missing\n",
    "    'payer_code',          # 39.6% missing\n",
    "    'medical_specialty',   # 49.1% missing\n",
    "    'encounter_id',        # Identifier\n",
    "    'patient_nbr',         # Identifier\n",
    "]\n",
    "\n",
    "# Drop the columns\n",
    "df_reduced = df_cleaned.drop(*cols_to_drop)\n",
    "\n",
    "# Verify the change\n",
    "print(f\"Original number of columns: {len(df_cleaned.columns)}\")\n",
    "print(f\"Number of columns after dropping: {len(df_reduced.columns)}\")"
   ]
  },
  {
   "cell_type": "code",
   "execution_count": 14,
   "id": "520ee168-6636-4d2c-8c87-a5fbac448497",
   "metadata": {},
   "outputs": [
    {
     "name": "stdout",
     "output_type": "stream",
     "text": [
      "+----------+\n",
      "|readmitted|\n",
      "+----------+\n",
      "|       >30|\n",
      "|        NO|\n",
      "|       <30|\n",
      "+----------+\n",
      "\n"
     ]
    }
   ],
   "source": [
    "df_cleaned.select('readmitted').distinct().show()"
   ]
  },
  {
   "cell_type": "code",
   "execution_count": 15,
   "id": "22bd4b01-c021-4b8b-90bf-e43582fe6f46",
   "metadata": {},
   "outputs": [
    {
     "name": "stdout",
     "output_type": "stream",
     "text": [
      "+------+\n",
      "|diag_1|\n",
      "+------+\n",
      "|   296|\n",
      "|   451|\n",
      "|   853|\n",
      "|   800|\n",
      "|250.01|\n",
      "|   447|\n",
      "|   591|\n",
      "|     7|\n",
      "|   574|\n",
      "|   475|\n",
      "|   718|\n",
      "|   307|\n",
      "|   577|\n",
      "|   581|\n",
      "|   205|\n",
      "|   747|\n",
      "|   334|\n",
      "|   462|\n",
      "|   711|\n",
      "|   647|\n",
      "+------+\n",
      "only showing top 20 rows\n"
     ]
    }
   ],
   "source": [
    "df_reduced.select('diag_1').distinct().show()"
   ]
  },
  {
   "cell_type": "code",
   "execution_count": 16,
   "id": "1e0713d4-4250-4bdf-8922-e1df5b652b81",
   "metadata": {},
   "outputs": [
    {
     "name": "stdout",
     "output_type": "stream",
     "text": [
      "Distribution of the new 'diag_1_category' feature:\n",
      "+---------------+-----+\n",
      "|diag_1_category|count|\n",
      "+---------------+-----+\n",
      "|    Circulatory|30490|\n",
      "|          Other|17955|\n",
      "|    Respiratory|14465|\n",
      "|      Digestive| 9543|\n",
      "|       Diabetes| 8757|\n",
      "|         Injury| 7046|\n",
      "|  Genitourinary| 5118|\n",
      "|Musculoskeletal| 4957|\n",
      "|      Neoplasms| 3435|\n",
      "+---------------+-----+\n",
      "\n"
     ]
    }
   ],
   "source": [
    "from pyspark.sql.functions import when, col\n",
    "\n",
    "# We map three strings to three numbers.\n",
    "df_reduced_with_target = df_reduced.withColumn('label',\n",
    "    when(col('readmitted') == 'NO', 0.0)\n",
    "    .when(col('readmitted') == '<30', 1.0)\n",
    "    .when(col('readmitted') == '>30', 2.0)\n",
    "    .otherwise(None) # Should not happen, but good practice\n",
    ").na.drop(subset=[\"label\"]).drop('readmitted')\n",
    "\n",
    "df_reduced_with_target = df_reduced_with_target.withColumn(\"label\", col(\"label\").cast(\"double\"))\n",
    "\n",
    "# Create the new simplified diagnosis category column\n",
    "df_engineered_with_target = df_reduced_with_target.withColumn('diag_1_category',\n",
    "    when(col('diag_1').like('250%'), 'Diabetes')\n",
    "    .when((col('diag_1') >= '390') & (col('diag_1') <= '459') | (col('diag_1') == '785'), 'Circulatory')\n",
    "    .when((col('diag_1') >= '460') & (col('diag_1') <= '519') | (col('diag_1') == '786'), 'Respiratory')\n",
    "    .when((col('diag_1') >= '520') & (col('diag_1') <= '579') | (col('diag_1') == '787'), 'Digestive')\n",
    "    .when((col('diag_1') >= '800') & (col('diag_1') <= '999'), 'Injury')\n",
    "    .when((col('diag_1') >= '710') & (col('diag_1') <= '739'), 'Musculoskeletal')\n",
    "    .when((col('diag_1') >= '580') & (col('diag_1') <= '629') | (col('diag_1') == '788'), 'Genitourinary')\n",
    "    .when((col('diag_1') >= '140') & (col('diag_1') <= '239'), 'Neoplasms')\n",
    "    .otherwise('Other')\n",
    ")\n",
    "\n",
    "# Show the result of our new feature\n",
    "print(\"Distribution of the new 'diag_1_category' feature:\")\n",
    "df_engineered_with_target.groupBy('diag_1_category').count().orderBy('count', ascending=False).show()"
   ]
  },
  {
   "cell_type": "code",
   "execution_count": 17,
   "id": "cd054309-afef-4ec1-a39f-aa9929300cac",
   "metadata": {},
   "outputs": [
    {
     "name": "stdout",
     "output_type": "stream",
     "text": [
      "The most frequent race is: 'Caucasian'. We will use this to fill missing values.\n",
      "root\n",
      " |-- race: string (nullable = false)\n",
      " |-- gender: string (nullable = true)\n",
      " |-- age: string (nullable = true)\n",
      " |-- admission_type_id: string (nullable = true)\n",
      " |-- discharge_disposition_id: string (nullable = true)\n",
      " |-- admission_source_id: string (nullable = true)\n",
      " |-- time_in_hospital: string (nullable = true)\n",
      " |-- num_lab_procedures: string (nullable = true)\n",
      " |-- num_procedures: string (nullable = true)\n",
      " |-- num_medications: string (nullable = true)\n",
      " |-- number_outpatient: string (nullable = true)\n",
      " |-- number_emergency: string (nullable = true)\n",
      " |-- number_inpatient: string (nullable = true)\n",
      " |-- number_diagnoses: string (nullable = true)\n",
      " |-- max_glu_serum: string (nullable = true)\n",
      " |-- A1Cresult: string (nullable = true)\n",
      " |-- metformin: string (nullable = true)\n",
      " |-- repaglinide: string (nullable = true)\n",
      " |-- nateglinide: string (nullable = true)\n",
      " |-- chlorpropamide: string (nullable = true)\n",
      " |-- glimepiride: string (nullable = true)\n",
      " |-- acetohexamide: string (nullable = true)\n",
      " |-- glipizide: string (nullable = true)\n",
      " |-- glyburide: string (nullable = true)\n",
      " |-- tolbutamide: string (nullable = true)\n",
      " |-- pioglitazone: string (nullable = true)\n",
      " |-- rosiglitazone: string (nullable = true)\n",
      " |-- acarbose: string (nullable = true)\n",
      " |-- miglitol: string (nullable = true)\n",
      " |-- troglitazone: string (nullable = true)\n",
      " |-- tolazamide: string (nullable = true)\n",
      " |-- examide: string (nullable = true)\n",
      " |-- citoglipton: string (nullable = true)\n",
      " |-- insulin: string (nullable = true)\n",
      " |-- glyburide-metformin: string (nullable = true)\n",
      " |-- glipizide-metformin: string (nullable = true)\n",
      " |-- glimepiride-pioglitazone: string (nullable = true)\n",
      " |-- metformin-rosiglitazone: string (nullable = true)\n",
      " |-- metformin-pioglitazone: string (nullable = true)\n",
      " |-- change: string (nullable = true)\n",
      " |-- diabetesMed: string (nullable = true)\n",
      " |-- label: double (nullable = true)\n",
      " |-- diag_1_category: string (nullable = false)\n",
      "\n"
     ]
    }
   ],
   "source": [
    "# Find the most frequent value (the mode) for the 'race' column\n",
    "mode_race = df_engineered_with_target.groupBy('race').count().orderBy('count', ascending=False).first()[0]\n",
    "print(f\"The most frequent race is: '{mode_race}'. We will use this to fill missing values.\")\n",
    "\n",
    "# Fill the nulls with the mode\n",
    "df_imputed_with_target = df_engineered_with_target.fillna({'race': mode_race})\n",
    "\n",
    "# We'll also fill nulls in our new diag_1_category with 'Other'. For simplicity, we'll now drop the original diag columns\n",
    "df_imputed_with_target = df_imputed_with_target.fillna({'diag_1_category': 'Other'}).drop('diag_1', 'diag_2', 'diag_3')\n",
    "\n",
    "df_imputed_with_target.printSchema()"
   ]
  },
  {
   "cell_type": "code",
   "execution_count": 18,
   "id": "c991a72f-82ca-48a9-b84a-4d87e8d186e8",
   "metadata": {},
   "outputs": [
    {
     "name": "stdout",
     "output_type": "stream",
     "text": [
      "\n",
      "Final number of columns before modeling: 43\n",
      "root\n",
      " |-- race: string (nullable = false)\n",
      " |-- gender: string (nullable = true)\n",
      " |-- age: string (nullable = true)\n",
      " |-- admission_type_id: string (nullable = true)\n",
      " |-- discharge_disposition_id: string (nullable = true)\n",
      " |-- admission_source_id: string (nullable = true)\n",
      " |-- time_in_hospital: integer (nullable = true)\n",
      " |-- num_lab_procedures: integer (nullable = true)\n",
      " |-- num_procedures: integer (nullable = true)\n",
      " |-- num_medications: integer (nullable = true)\n",
      " |-- number_outpatient: integer (nullable = true)\n",
      " |-- number_emergency: integer (nullable = true)\n",
      " |-- number_inpatient: integer (nullable = true)\n",
      " |-- number_diagnoses: integer (nullable = true)\n",
      " |-- max_glu_serum: string (nullable = true)\n",
      " |-- A1Cresult: string (nullable = true)\n",
      " |-- metformin: string (nullable = true)\n",
      " |-- repaglinide: string (nullable = true)\n",
      " |-- nateglinide: string (nullable = true)\n",
      " |-- chlorpropamide: string (nullable = true)\n",
      " |-- glimepiride: string (nullable = true)\n",
      " |-- acetohexamide: string (nullable = true)\n",
      " |-- glipizide: string (nullable = true)\n",
      " |-- glyburide: string (nullable = true)\n",
      " |-- tolbutamide: string (nullable = true)\n",
      " |-- pioglitazone: string (nullable = true)\n",
      " |-- rosiglitazone: string (nullable = true)\n",
      " |-- acarbose: string (nullable = true)\n",
      " |-- miglitol: string (nullable = true)\n",
      " |-- troglitazone: string (nullable = true)\n",
      " |-- tolazamide: string (nullable = true)\n",
      " |-- examide: string (nullable = true)\n",
      " |-- citoglipton: string (nullable = true)\n",
      " |-- insulin: string (nullable = true)\n",
      " |-- glyburide-metformin: string (nullable = true)\n",
      " |-- glipizide-metformin: string (nullable = true)\n",
      " |-- glimepiride-pioglitazone: string (nullable = true)\n",
      " |-- metformin-rosiglitazone: string (nullable = true)\n",
      " |-- metformin-pioglitazone: string (nullable = true)\n",
      " |-- change: string (nullable = true)\n",
      " |-- diabetesMed: string (nullable = true)\n",
      " |-- label: double (nullable = true)\n",
      " |-- diag_1_category: string (nullable = false)\n",
      "\n"
     ]
    }
   ],
   "source": [
    "# Separate columns into categorical and numerical lists\n",
    "# The target variable 'readmitted_binary' is separate\n",
    "categorical_cols = [\n",
    "    'race', 'gender', 'age', 'admission_type_id', 'discharge_disposition_id',\n",
    "    'admission_source_id', 'max_glu_serum', 'A1Cresult', 'metformin',\n",
    "    'repaglinide', 'nateglinide', 'chlorpropamide', 'glimepiride',\n",
    "    'acetohexamide', 'glipizide', 'glyburide', 'tolbutamide', 'pioglitazone',\n",
    "    'rosiglitazone', 'acarbose', 'miglitol', 'troglitazone', 'tolazamide',\n",
    "    'examide', 'citoglipton', 'insulin', 'glyburide-metformin', 'glipizide-metformin',\n",
    "    'glimepiride-pioglitazone', 'metformin-rosiglitazone', 'metformin-pioglitazone',\n",
    "    'change', 'diabetesMed', 'diag_1_category'\n",
    "]\n",
    "\n",
    "numerical_cols = [\n",
    "    'time_in_hospital', 'num_lab_procedures', 'num_procedures',\n",
    "    'num_medications', 'number_outpatient', 'number_emergency',\n",
    "    'number_inpatient', 'number_diagnoses'\n",
    "]\n",
    "\n",
    "target_col = 'label'\n",
    "\n",
    "# Create a new DataFrame with the correct types since the numerical columns are string\n",
    "df_final = df_imputed_with_target\n",
    "for c in numerical_cols:\n",
    "    df_final = df_final.withColumn(c, col(c).cast('integer'))\n",
    "\n",
    "print(\"\\nFinal number of columns before modeling:\", len(df_final.columns))\n",
    "df_final.printSchema()"
   ]
  },
  {
   "cell_type": "code",
   "execution_count": 19,
   "id": "8f35ef6f-9555-4157-90e5-448d7ad09b29",
   "metadata": {},
   "outputs": [
    {
     "name": "stdout",
     "output_type": "stream",
     "text": [
      "Pipeline created and data transformed successfully.\n",
      "+-----+-----------------------------------------------------------------------------------------------------------------------------------------------------------------------------------------------------------------------------------------------------------------------------------------------------------------------------------+\n",
      "|label|features                                                                                                                                                                                                                                                                                                                           |\n",
      "+-----+-----------------------------------------------------------------------------------------------------------------------------------------------------------------------------------------------------------------------------------------------------------------------------------------------------------------------------------+\n",
      "|0.0  |(169,[0,5,17,21,34,53,69,73,77,81,85,89,93,97,99,103,107,109,113,117,121,125,127,130,131,132,136,140,142,144,146,148,151,156,161,162,164,168],[1.0,1.0,1.0,1.0,1.0,1.0,1.0,1.0,1.0,1.0,1.0,1.0,1.0,1.0,1.0,1.0,1.0,1.0,1.0,1.0,1.0,1.0,1.0,1.0,1.0,1.0,1.0,1.0,1.0,1.0,1.0,1.0,1.0,1.0,1.0,41.0,1.0,1.0])                          |\n",
      "|2.0  |(169,[0,5,16,18,26,52,69,73,77,81,85,89,93,97,99,103,107,109,113,117,121,125,127,130,131,135,136,140,142,144,146,149,150,153,161,162,164,168],[1.0,1.0,1.0,1.0,1.0,1.0,1.0,1.0,1.0,1.0,1.0,1.0,1.0,1.0,1.0,1.0,1.0,1.0,1.0,1.0,1.0,1.0,1.0,1.0,1.0,1.0,1.0,1.0,1.0,1.0,1.0,1.0,1.0,1.0,3.0,59.0,18.0,9.0])                         |\n",
      "|0.0  |(169,[1,5,15,18,26,52,69,73,77,81,85,89,93,97,100,103,107,109,113,117,121,125,127,130,131,132,136,140,142,144,146,148,150,153,161,162,163,164,165,167,168],[1.0,1.0,1.0,1.0,1.0,1.0,1.0,1.0,1.0,1.0,1.0,1.0,1.0,1.0,1.0,1.0,1.0,1.0,1.0,1.0,1.0,1.0,1.0,1.0,1.0,1.0,1.0,1.0,1.0,1.0,1.0,1.0,1.0,1.0,2.0,11.0,5.0,13.0,2.0,1.0,6.0])|\n",
      "|0.0  |(169,[0,6,13,18,26,52,69,73,77,81,85,89,93,97,99,103,107,109,113,117,121,125,127,130,131,135,136,140,142,144,146,149,150,153,161,162,163,164,168],[1.0,1.0,1.0,1.0,1.0,1.0,1.0,1.0,1.0,1.0,1.0,1.0,1.0,1.0,1.0,1.0,1.0,1.0,1.0,1.0,1.0,1.0,1.0,1.0,1.0,1.0,1.0,1.0,1.0,1.0,1.0,1.0,1.0,1.0,2.0,44.0,1.0,16.0,7.0])                 |\n",
      "|0.0  |(169,[0,6,12,18,26,52,69,73,77,81,85,89,93,97,100,103,107,109,113,117,121,125,127,130,131,133,136,140,142,144,146,149,150,160,161,162,164,168],[1.0,1.0,1.0,1.0,1.0,1.0,1.0,1.0,1.0,1.0,1.0,1.0,1.0,1.0,1.0,1.0,1.0,1.0,1.0,1.0,1.0,1.0,1.0,1.0,1.0,1.0,1.0,1.0,1.0,1.0,1.0,1.0,1.0,1.0,1.0,51.0,8.0,5.0])                         |\n",
      "+-----+-----------------------------------------------------------------------------------------------------------------------------------------------------------------------------------------------------------------------------------------------------------------------------------------------------------------------------------+\n",
      "only showing top 5 rows\n"
     ]
    }
   ],
   "source": [
    "from pyspark.ml import Pipeline\n",
    "from pyspark.ml.feature import StringIndexer, OneHotEncoder, VectorAssembler\n",
    "\n",
    "# --- STAGE 1 & 2: String Indexing and One-Hot Encoding for Categorical Columns ---\n",
    "# We create a list to hold all the stages of our pipeline\n",
    "stages = []\n",
    "\n",
    "# Loop through each categorical column\n",
    "for col_name in categorical_cols:\n",
    "    # 1. StringIndexer\n",
    "    string_indexer = StringIndexer(inputCol=col_name, outputCol=col_name + \"_index\", handleInvalid=\"keep\")\n",
    "    # 2. OneHotEncoder\n",
    "    one_hot_encoder = OneHotEncoder(inputCols=[string_indexer.getOutputCol()], outputCols=[col_name + \"_vec\"])\n",
    "    # Add these two stages to our pipeline\n",
    "    stages += [string_indexer, one_hot_encoder]\n",
    "\n",
    "# --- STAGE 3: Vector Assembly ---\n",
    "# Create a list of all feature columns to be assembled\n",
    "# This includes the one-hot encoded vectors and the original numerical columns\n",
    "assembler_inputs = [c + \"_vec\" for c in categorical_cols] + numerical_cols\n",
    "\n",
    "# Create the VectorAssembler stage\n",
    "vector_assembler = VectorAssembler(inputCols=assembler_inputs, outputCol=\"features\")\n",
    "\n",
    "# Add the assembler to our stages\n",
    "stages += [vector_assembler]\n",
    "\n",
    "# --- Create and Run the Pipeline ---\n",
    "# Define the pipeline with all the stages\n",
    "preprocessing_pipeline = Pipeline(stages=stages)\n",
    "\n",
    "# Fit the pipeline to our data to \"learn\" the transformations\n",
    "pipeline_model = preprocessing_pipeline.fit(df_final)\n",
    "\n",
    "# Transform the data to apply the transformations\n",
    "df_model_ready = pipeline_model.transform(df_final)\n",
    "\n",
    "print(\"Pipeline created and data transformed successfully.\")\n",
    "\n",
    "# --- Inspect the Result ---\n",
    "# Let's look at the final DataFrame. You'll see the new columns,\n",
    "# especially the 'features' vector and our target column.\n",
    "df_model_ready.select(target_col, 'features').show(5, truncate=False)"
   ]
  },
  {
   "cell_type": "code",
   "execution_count": 20,
   "id": "53e9fa77-3c99-4800-b1ea-a7149d0b498e",
   "metadata": {},
   "outputs": [
    {
     "name": "stdout",
     "output_type": "stream",
     "text": [
      "+-----+-----+\n",
      "|label|count|\n",
      "+-----+-----+\n",
      "|  0.0|54864|\n",
      "|  1.0|11357|\n",
      "|  2.0|35545|\n",
      "+-----+-----+\n",
      "\n"
     ]
    }
   ],
   "source": [
    "df_model_ready.groupBy('label').count().show()"
   ]
  },
  {
   "cell_type": "code",
   "execution_count": 21,
   "id": "97cf9850-34ce-421b-aba1-3dbeece92ada",
   "metadata": {},
   "outputs": [
    {
     "name": "stdout",
     "output_type": "stream",
     "text": [
      "Number of training samples: 81565\n",
      "Number of testing samples: 20201\n"
     ]
    }
   ],
   "source": [
    "(trainingData, testData) = df_model_ready.randomSplit([0.8, 0.2], seed=42)\n",
    "\n",
    "# Cache the data to speed up repeated access\n",
    "trainingData.cache()\n",
    "testData.cache()\n",
    "\n",
    "print(f\"Number of training samples: {trainingData.count()}\")\n",
    "print(f\"Number of testing samples: {testData.count()}\")"
   ]
  },
  {
   "cell_type": "code",
   "execution_count": 22,
   "id": "ebad4154-ace2-4b93-86ab-7e04105d6bd3",
   "metadata": {},
   "outputs": [
    {
     "name": "stdout",
     "output_type": "stream",
     "text": [
      "Training the Logistic Regression model...\n",
      "Model training complete.\n"
     ]
    }
   ],
   "source": [
    "from pyspark.ml.classification import LogisticRegression\n",
    "\n",
    "# Instantiate the Logistic Regression model\n",
    "# It will use our 'features' and 'label' columns\n",
    "lr = LogisticRegression(featuresCol='features', labelCol='label')\n",
    "\n",
    "# Train the model by fitting it to the training data\n",
    "print(\"Training the Logistic Regression model...\")\n",
    "lr_model = lr.fit(trainingData)\n",
    "print(\"Model training complete.\")"
   ]
  },
  {
   "cell_type": "code",
   "execution_count": 24,
   "id": "c98b4094-f354-4033-a66c-fd07765e4a24",
   "metadata": {},
   "outputs": [
    {
     "name": "stdout",
     "output_type": "stream",
     "text": [
      "Sample predictions:\n",
      "+-----+----------+-------------------------------------------------------------+\n",
      "|label|prediction|probability                                                  |\n",
      "+-----+----------+-------------------------------------------------------------+\n",
      "|2.0  |0.0       |[0.9172633011526374,0.013758167024229419,0.06897853182313325]|\n",
      "|0.0  |0.0       |[0.6364394544351407,0.08360657131193892,0.2799539742529205]  |\n",
      "|0.0  |0.0       |[0.7125058977114047,0.034925253653600594,0.2525688486349947] |\n",
      "|2.0  |0.0       |[0.6676560094028694,0.04553025426885506,0.2868137363282756]  |\n",
      "|2.0  |2.0       |[0.40163273076289696,0.1152128564755154,0.4831544127615876]  |\n",
      "|0.0  |0.0       |[0.7325772684209156,0.03522576309317734,0.2321969684859071]  |\n",
      "|0.0  |0.0       |[0.6295071708913154,0.054447426242994985,0.3160454028656896] |\n",
      "|2.0  |0.0       |[0.6746278811526313,0.045122881108826625,0.28024923773854205]|\n",
      "|2.0  |0.0       |[0.7163222352788102,0.044348244826413,0.23932951989477688]   |\n",
      "|2.0  |0.0       |[0.6495217348228915,0.05990340775568456,0.29057485742142397] |\n",
      "+-----+----------+-------------------------------------------------------------+\n",
      "only showing top 10 rows\n"
     ]
    }
   ],
   "source": [
    "# Make predictions on the test data\n",
    "predictions = lr_model.transform(testData)\n",
    "\n",
    "# Let's look at the predictions\n",
    "# The 'prediction' column is what the model guessed.\n",
    "print(\"Sample predictions:\")\n",
    "predictions.select('label', 'prediction', 'probability').show(10, truncate=False)"
   ]
  },
  {
   "cell_type": "code",
   "execution_count": 25,
   "id": "8a105d6d-8e91-49c5-aaef-7775a3861a84",
   "metadata": {},
   "outputs": [
    {
     "name": "stdout",
     "output_type": "stream",
     "text": [
      "Accuracy = 58.42%\n",
      "F1 Score = 0.5259\n",
      "\n",
      "Confusion Matrix:\n",
      "prediction   0.0  1.0   2.0\n",
      "label                      \n",
      "0.0         9532   25  1330\n",
      "1.0         1480   38   779\n",
      "2.0         4733   52  2232\n"
     ]
    }
   ],
   "source": [
    "from pyspark.ml.evaluation import MulticlassClassificationEvaluator\n",
    "import pandas as pd\n",
    "\n",
    "# --- Metric 1: Accuracy ---\n",
    "# \"Out of all predictions, how many were correct?\"\n",
    "evaluator_acc = MulticlassClassificationEvaluator(labelCol=\"label\", predictionCol=\"prediction\", metricName=\"accuracy\")\n",
    "accuracy = evaluator_acc.evaluate(predictions)\n",
    "print(f\"Accuracy = {accuracy:.2%}\")\n",
    "\n",
    "# --- Metric 2: F1-Score ---\n",
    "# A weighted average of precision and recall. A good overall measure.\n",
    "evaluator_f1 = MulticlassClassificationEvaluator(labelCol=\"label\", predictionCol=\"prediction\", metricName=\"f1\")\n",
    "f1_score = evaluator_f1.evaluate(predictions)\n",
    "print(f\"F1 Score = {f1_score:.4f}\")\n",
    "\n",
    "# --- Detailed View: Confusion Matrix ---\n",
    "# Shows how many times the model predicted each class vs. the actual class.\n",
    "print(\"\\nConfusion Matrix:\")\n",
    "# Convert to Pandas for a nice crosstab view\n",
    "preds_and_labels = predictions.select(['prediction', 'label']).toPandas()\n",
    "confusion_matrix = pd.crosstab(preds_and_labels['label'], preds_and_labels['prediction'])\n",
    "print(confusion_matrix)\n",
    "\n",
    "# Remember our mapping: 0.0 = 'NO', 1.0 = '<30', 2.0 = '>30'"
   ]
  },
  {
   "cell_type": "code",
   "execution_count": null,
   "id": "9a995d53-d676-442d-a0bb-b8052a0ec64a",
   "metadata": {},
   "outputs": [],
   "source": []
  }
 ],
 "metadata": {
  "kernelspec": {
   "display_name": "Python 3 (ipykernel)",
   "language": "python",
   "name": "python3"
  },
  "language_info": {
   "codemirror_mode": {
    "name": "ipython",
    "version": 3
   },
   "file_extension": ".py",
   "mimetype": "text/x-python",
   "name": "python",
   "nbconvert_exporter": "python",
   "pygments_lexer": "ipython3",
   "version": "3.10.10"
  }
 },
 "nbformat": 4,
 "nbformat_minor": 5
}
