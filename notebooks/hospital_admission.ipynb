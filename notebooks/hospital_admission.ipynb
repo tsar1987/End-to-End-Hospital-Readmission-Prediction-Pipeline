{
 "cells": [
  {
   "cell_type": "markdown",
   "id": "ee91117f-270f-4dbe-84af-9cd94517ad1d",
   "metadata": {},
   "source": [
    "# load packages"
   ]
  },
  {
   "cell_type": "code",
   "execution_count": 1,
   "id": "4e541c85-eae5-4f8c-82fb-2a1009fef79f",
   "metadata": {},
   "outputs": [],
   "source": [
    "import numpy as np\n",
    "import pandas as pd\n",
    "import matplotlib.pyplot as plt\n",
    "import seaborn as sns"
   ]
  },
  {
   "cell_type": "code",
   "execution_count": 2,
   "id": "b2609cf5-5ac1-4912-ab03-7aeab4a764ef",
   "metadata": {},
   "outputs": [],
   "source": [
    "pd.set_option('display.max_columns', None)"
   ]
  },
  {
   "cell_type": "code",
   "execution_count": 3,
   "id": "dc823711-6882-4c60-8089-fae703ad5356",
   "metadata": {},
   "outputs": [],
   "source": [
    "from pyspark.sql import SparkSession\n",
    "from pyspark.sql.functions import when, col, count, lit"
   ]
  },
  {
   "cell_type": "code",
   "execution_count": 4,
   "id": "1d6b6723-b8bf-436f-b79b-a0012b347324",
   "metadata": {},
   "outputs": [],
   "source": [
    "# create a spark session\n",
    "spark = SparkSession.builder.appName(\"HospitalReadmissionEDA\").getOrCreate()"
   ]
  },
  {
   "cell_type": "markdown",
   "id": "df36154a-854a-499b-9769-f1701739e7d2",
   "metadata": {},
   "source": [
    "# load data"
   ]
  },
  {
   "cell_type": "code",
   "execution_count": 5,
   "id": "f10adb93-28d5-4181-ac76-f34445a6607a",
   "metadata": {},
   "outputs": [
    {
     "name": "stdout",
     "output_type": "stream",
     "text": [
      "Number of rows: 101766\n",
      "Number of columns: 50\n",
      "+------------+-----------+---------------+------+-------+------+-----------------+------------------------+-------------------+----------------+----------+--------------------+------------------+--------------+---------------+-----------------+----------------+----------------+------+------+------+----------------+-------------+---------+---------+-----------+-----------+--------------+-----------+-------------+---------+---------+-----------+------------+-------------+--------+--------+------------+----------+-------+-----------+-------+-------------------+-------------------+------------------------+-----------------------+----------------------+------+-----------+----------+\n",
      "|encounter_id|patient_nbr|           race|gender|    age|weight|admission_type_id|discharge_disposition_id|admission_source_id|time_in_hospital|payer_code|   medical_specialty|num_lab_procedures|num_procedures|num_medications|number_outpatient|number_emergency|number_inpatient|diag_1|diag_2|diag_3|number_diagnoses|max_glu_serum|A1Cresult|metformin|repaglinide|nateglinide|chlorpropamide|glimepiride|acetohexamide|glipizide|glyburide|tolbutamide|pioglitazone|rosiglitazone|acarbose|miglitol|troglitazone|tolazamide|examide|citoglipton|insulin|glyburide-metformin|glipizide-metformin|glimepiride-pioglitazone|metformin-rosiglitazone|metformin-pioglitazone|change|diabetesMed|readmitted|\n",
      "+------------+-----------+---------------+------+-------+------+-----------------+------------------------+-------------------+----------------+----------+--------------------+------------------+--------------+---------------+-----------------+----------------+----------------+------+------+------+----------------+-------------+---------+---------+-----------+-----------+--------------+-----------+-------------+---------+---------+-----------+------------+-------------+--------+--------+------------+----------+-------+-----------+-------+-------------------+-------------------+------------------------+-----------------------+----------------------+------+-----------+----------+\n",
      "|     2278392|    8222157|      Caucasian|Female| [0-10)|     ?|                6|                      25|                  1|               1|         ?|Pediatrics-Endocr...|                41|             0|              1|                0|               0|               0|250.83|     ?|     ?|               1|         None|     None|       No|         No|         No|            No|         No|           No|       No|       No|         No|          No|           No|      No|      No|          No|        No|     No|         No|     No|                 No|                 No|                      No|                     No|                    No|    No|         No|        NO|\n",
      "|      149190|   55629189|      Caucasian|Female|[10-20)|     ?|                1|                       1|                  7|               3|         ?|                   ?|                59|             0|             18|                0|               0|               0|   276|250.01|   255|               9|         None|     None|       No|         No|         No|            No|         No|           No|       No|       No|         No|          No|           No|      No|      No|          No|        No|     No|         No|     Up|                 No|                 No|                      No|                     No|                    No|    Ch|        Yes|       >30|\n",
      "|       64410|   86047875|AfricanAmerican|Female|[20-30)|     ?|                1|                       1|                  7|               2|         ?|                   ?|                11|             5|             13|                2|               0|               1|   648|   250|   V27|               6|         None|     None|       No|         No|         No|            No|         No|           No|   Steady|       No|         No|          No|           No|      No|      No|          No|        No|     No|         No|     No|                 No|                 No|                      No|                     No|                    No|    No|        Yes|        NO|\n",
      "|      500364|   82442376|      Caucasian|  Male|[30-40)|     ?|                1|                       1|                  7|               2|         ?|                   ?|                44|             1|             16|                0|               0|               0|     8|250.43|   403|               7|         None|     None|       No|         No|         No|            No|         No|           No|       No|       No|         No|          No|           No|      No|      No|          No|        No|     No|         No|     Up|                 No|                 No|                      No|                     No|                    No|    Ch|        Yes|        NO|\n",
      "|       16680|   42519267|      Caucasian|  Male|[40-50)|     ?|                1|                       1|                  7|               1|         ?|                   ?|                51|             0|              8|                0|               0|               0|   197|   157|   250|               5|         None|     None|       No|         No|         No|            No|         No|           No|   Steady|       No|         No|          No|           No|      No|      No|          No|        No|     No|         No| Steady|                 No|                 No|                      No|                     No|                    No|    Ch|        Yes|        NO|\n",
      "+------------+-----------+---------------+------+-------+------+-----------------+------------------------+-------------------+----------------+----------+--------------------+------------------+--------------+---------------+-----------------+----------------+----------------+------+------+------+----------------+-------------+---------+---------+-----------+-----------+--------------+-----------+-------------+---------+---------+-----------+------------+-------------+--------+--------+------------+----------+-------+-----------+-------+-------------------+-------------------+------------------------+-----------------------+----------------------+------+-----------+----------+\n",
      "only showing top 5 rows\n",
      "root\n",
      " |-- encounter_id: string (nullable = true)\n",
      " |-- patient_nbr: string (nullable = true)\n",
      " |-- race: string (nullable = true)\n",
      " |-- gender: string (nullable = true)\n",
      " |-- age: string (nullable = true)\n",
      " |-- weight: string (nullable = true)\n",
      " |-- admission_type_id: string (nullable = true)\n",
      " |-- discharge_disposition_id: string (nullable = true)\n",
      " |-- admission_source_id: string (nullable = true)\n",
      " |-- time_in_hospital: string (nullable = true)\n",
      " |-- payer_code: string (nullable = true)\n",
      " |-- medical_specialty: string (nullable = true)\n",
      " |-- num_lab_procedures: string (nullable = true)\n",
      " |-- num_procedures: string (nullable = true)\n",
      " |-- num_medications: string (nullable = true)\n",
      " |-- number_outpatient: string (nullable = true)\n",
      " |-- number_emergency: string (nullable = true)\n",
      " |-- number_inpatient: string (nullable = true)\n",
      " |-- diag_1: string (nullable = true)\n",
      " |-- diag_2: string (nullable = true)\n",
      " |-- diag_3: string (nullable = true)\n",
      " |-- number_diagnoses: string (nullable = true)\n",
      " |-- max_glu_serum: string (nullable = true)\n",
      " |-- A1Cresult: string (nullable = true)\n",
      " |-- metformin: string (nullable = true)\n",
      " |-- repaglinide: string (nullable = true)\n",
      " |-- nateglinide: string (nullable = true)\n",
      " |-- chlorpropamide: string (nullable = true)\n",
      " |-- glimepiride: string (nullable = true)\n",
      " |-- acetohexamide: string (nullable = true)\n",
      " |-- glipizide: string (nullable = true)\n",
      " |-- glyburide: string (nullable = true)\n",
      " |-- tolbutamide: string (nullable = true)\n",
      " |-- pioglitazone: string (nullable = true)\n",
      " |-- rosiglitazone: string (nullable = true)\n",
      " |-- acarbose: string (nullable = true)\n",
      " |-- miglitol: string (nullable = true)\n",
      " |-- troglitazone: string (nullable = true)\n",
      " |-- tolazamide: string (nullable = true)\n",
      " |-- examide: string (nullable = true)\n",
      " |-- citoglipton: string (nullable = true)\n",
      " |-- insulin: string (nullable = true)\n",
      " |-- glyburide-metformin: string (nullable = true)\n",
      " |-- glipizide-metformin: string (nullable = true)\n",
      " |-- glimepiride-pioglitazone: string (nullable = true)\n",
      " |-- metformin-rosiglitazone: string (nullable = true)\n",
      " |-- metformin-pioglitazone: string (nullable = true)\n",
      " |-- change: string (nullable = true)\n",
      " |-- diabetesMed: string (nullable = true)\n",
      " |-- readmitted: string (nullable = true)\n",
      "\n"
     ]
    }
   ],
   "source": [
    "# Load the Data into a Spark DataFrame\n",
    "data_path = '../data/diabetic_data.csv'\n",
    "df_spark = spark.read.csv(data_path, header=True)\n",
    "\n",
    "# Initial Inspection with PySpark\n",
    "print(f\"Number of rows: {df_spark.count()}\")\n",
    "print(f\"Number of columns: {len(df_spark.columns)}\")\n",
    "\n",
    "# Show the first 5 rows\n",
    "df_spark.show(5)\n",
    "\n",
    "# Print the schema that Spark inferred\n",
    "df_spark.printSchema()"
   ]
  },
  {
   "cell_type": "markdown",
   "id": "4b5d4e40-dc94-4e42-9e9c-f81c3cf279a0",
   "metadata": {},
   "source": [
    "# clean data"
   ]
  },
  {
   "cell_type": "code",
   "execution_count": 6,
   "id": "8c5fddb0-971a-4484-bce9-ff832e986755",
   "metadata": {},
   "outputs": [],
   "source": [
    "# create a list of all column names\n",
    "all_columns = df_spark.columns"
   ]
  },
  {
   "cell_type": "code",
   "execution_count": 7,
   "id": "59e19c4c-91fd-42ba-8172-134f183e8fcf",
   "metadata": {},
   "outputs": [
    {
     "name": "stdout",
     "output_type": "stream",
     "text": [
      "Replaced '?' with null values.\n"
     ]
    }
   ],
   "source": [
    "# loop through each column to replace? with null\n",
    "df_cleaned = df_spark \n",
    "for column in all_columns:\n",
    "    df_cleaned = df_cleaned.withColumn(column, \n",
    "                                      when(col(column) == \"?\", None).otherwise(col(column))\n",
    "                                      )\n",
    "print(\"Replaced '?' with null values.\")"
   ]
  },
  {
   "cell_type": "code",
   "execution_count": 8,
   "id": "73bd3a44-1149-4a67-9ad4-2ed574f22770",
   "metadata": {},
   "outputs": [
    {
     "name": "stdout",
     "output_type": "stream",
     "text": [
      "+------------+-----------+---------------+------+-------+------+-----------------+------------------------+-------------------+----------------+----------+--------------------+------------------+--------------+---------------+-----------------+----------------+----------------+------+------+------+----------------+-------------+---------+---------+-----------+-----------+--------------+-----------+-------------+---------+---------+-----------+------------+-------------+--------+--------+------------+----------+-------+-----------+-------+-------------------+-------------------+------------------------+-----------------------+----------------------+------+-----------+----------+\n",
      "|encounter_id|patient_nbr|           race|gender|    age|weight|admission_type_id|discharge_disposition_id|admission_source_id|time_in_hospital|payer_code|   medical_specialty|num_lab_procedures|num_procedures|num_medications|number_outpatient|number_emergency|number_inpatient|diag_1|diag_2|diag_3|number_diagnoses|max_glu_serum|A1Cresult|metformin|repaglinide|nateglinide|chlorpropamide|glimepiride|acetohexamide|glipizide|glyburide|tolbutamide|pioglitazone|rosiglitazone|acarbose|miglitol|troglitazone|tolazamide|examide|citoglipton|insulin|glyburide-metformin|glipizide-metformin|glimepiride-pioglitazone|metformin-rosiglitazone|metformin-pioglitazone|change|diabetesMed|readmitted|\n",
      "+------------+-----------+---------------+------+-------+------+-----------------+------------------------+-------------------+----------------+----------+--------------------+------------------+--------------+---------------+-----------------+----------------+----------------+------+------+------+----------------+-------------+---------+---------+-----------+-----------+--------------+-----------+-------------+---------+---------+-----------+------------+-------------+--------+--------+------------+----------+-------+-----------+-------+-------------------+-------------------+------------------------+-----------------------+----------------------+------+-----------+----------+\n",
      "|     2278392|    8222157|      Caucasian|Female| [0-10)|  NULL|                6|                      25|                  1|               1|      NULL|Pediatrics-Endocr...|                41|             0|              1|                0|               0|               0|250.83|  NULL|  NULL|               1|         None|     None|       No|         No|         No|            No|         No|           No|       No|       No|         No|          No|           No|      No|      No|          No|        No|     No|         No|     No|                 No|                 No|                      No|                     No|                    No|    No|         No|        NO|\n",
      "|      149190|   55629189|      Caucasian|Female|[10-20)|  NULL|                1|                       1|                  7|               3|      NULL|                NULL|                59|             0|             18|                0|               0|               0|   276|250.01|   255|               9|         None|     None|       No|         No|         No|            No|         No|           No|       No|       No|         No|          No|           No|      No|      No|          No|        No|     No|         No|     Up|                 No|                 No|                      No|                     No|                    No|    Ch|        Yes|       >30|\n",
      "|       64410|   86047875|AfricanAmerican|Female|[20-30)|  NULL|                1|                       1|                  7|               2|      NULL|                NULL|                11|             5|             13|                2|               0|               1|   648|   250|   V27|               6|         None|     None|       No|         No|         No|            No|         No|           No|   Steady|       No|         No|          No|           No|      No|      No|          No|        No|     No|         No|     No|                 No|                 No|                      No|                     No|                    No|    No|        Yes|        NO|\n",
      "|      500364|   82442376|      Caucasian|  Male|[30-40)|  NULL|                1|                       1|                  7|               2|      NULL|                NULL|                44|             1|             16|                0|               0|               0|     8|250.43|   403|               7|         None|     None|       No|         No|         No|            No|         No|           No|       No|       No|         No|          No|           No|      No|      No|          No|        No|     No|         No|     Up|                 No|                 No|                      No|                     No|                    No|    Ch|        Yes|        NO|\n",
      "|       16680|   42519267|      Caucasian|  Male|[40-50)|  NULL|                1|                       1|                  7|               1|      NULL|                NULL|                51|             0|              8|                0|               0|               0|   197|   157|   250|               5|         None|     None|       No|         No|         No|            No|         No|           No|   Steady|       No|         No|          No|           No|      No|      No|          No|        No|     No|         No| Steady|                 No|                 No|                      No|                     No|                    No|    Ch|        Yes|        NO|\n",
      "+------------+-----------+---------------+------+-------+------+-----------------+------------------------+-------------------+----------------+----------+--------------------+------------------+--------------+---------------+-----------------+----------------+----------------+------+------+------+----------------+-------------+---------+---------+-----------+-----------+--------------+-----------+-------------+---------+---------+-----------+------------+-------------+--------+--------+------------+----------+-------+-----------+-------+-------------------+-------------------+------------------------+-----------------------+----------------------+------+-----------+----------+\n",
      "only showing top 5 rows\n"
     ]
    }
   ],
   "source": [
    "df_cleaned.show(5)"
   ]
  },
  {
   "cell_type": "code",
   "execution_count": 9,
   "id": "6f226a52-11f0-43e6-ab3b-9e03069e4331",
   "metadata": {},
   "outputs": [
    {
     "name": "stdout",
     "output_type": "stream",
     "text": [
      "+---------------+\n",
      "|           race|\n",
      "+---------------+\n",
      "|      Caucasian|\n",
      "|      Caucasian|\n",
      "|AfricanAmerican|\n",
      "|      Caucasian|\n",
      "|      Caucasian|\n",
      "|      Caucasian|\n",
      "|      Caucasian|\n",
      "|      Caucasian|\n",
      "|      Caucasian|\n",
      "|      Caucasian|\n",
      "+---------------+\n",
      "only showing top 10 rows\n"
     ]
    }
   ],
   "source": [
    "df_cleaned.select('race').show(10)"
   ]
  },
  {
   "cell_type": "code",
   "execution_count": 10,
   "id": "cb393aad-62f9-41f2-8a67-57d271c683f0",
   "metadata": {},
   "outputs": [
    {
     "data": {
      "text/plain": [
       "101766"
      ]
     },
     "execution_count": 10,
     "metadata": {},
     "output_type": "execute_result"
    }
   ],
   "source": [
    "# get total number of rows\n",
    "total_rows = df_cleaned.count()\n",
    "total_rows"
   ]
  },
  {
   "cell_type": "code",
   "execution_count": 11,
   "id": "fe60bbc6-9ed7-4416-9720-2db12209ee3e",
   "metadata": {},
   "outputs": [
    {
     "data": {
      "text/html": [
       "<div>\n",
       "<style scoped>\n",
       "    .dataframe tbody tr th:only-of-type {\n",
       "        vertical-align: middle;\n",
       "    }\n",
       "\n",
       "    .dataframe tbody tr th {\n",
       "        vertical-align: top;\n",
       "    }\n",
       "\n",
       "    .dataframe thead th {\n",
       "        text-align: right;\n",
       "    }\n",
       "</style>\n",
       "<table border=\"1\" class=\"dataframe\">\n",
       "  <thead>\n",
       "    <tr style=\"text-align: right;\">\n",
       "      <th></th>\n",
       "      <th>encounter_id</th>\n",
       "      <th>patient_nbr</th>\n",
       "      <th>race</th>\n",
       "      <th>gender</th>\n",
       "      <th>age</th>\n",
       "      <th>weight</th>\n",
       "      <th>admission_type_id</th>\n",
       "      <th>discharge_disposition_id</th>\n",
       "      <th>admission_source_id</th>\n",
       "      <th>time_in_hospital</th>\n",
       "      <th>payer_code</th>\n",
       "      <th>medical_specialty</th>\n",
       "      <th>num_lab_procedures</th>\n",
       "      <th>num_procedures</th>\n",
       "      <th>num_medications</th>\n",
       "      <th>number_outpatient</th>\n",
       "      <th>number_emergency</th>\n",
       "      <th>number_inpatient</th>\n",
       "      <th>diag_1</th>\n",
       "      <th>diag_2</th>\n",
       "      <th>diag_3</th>\n",
       "      <th>number_diagnoses</th>\n",
       "      <th>max_glu_serum</th>\n",
       "      <th>A1Cresult</th>\n",
       "      <th>metformin</th>\n",
       "      <th>repaglinide</th>\n",
       "      <th>nateglinide</th>\n",
       "      <th>chlorpropamide</th>\n",
       "      <th>glimepiride</th>\n",
       "      <th>acetohexamide</th>\n",
       "      <th>glipizide</th>\n",
       "      <th>glyburide</th>\n",
       "      <th>tolbutamide</th>\n",
       "      <th>pioglitazone</th>\n",
       "      <th>rosiglitazone</th>\n",
       "      <th>acarbose</th>\n",
       "      <th>miglitol</th>\n",
       "      <th>troglitazone</th>\n",
       "      <th>tolazamide</th>\n",
       "      <th>examide</th>\n",
       "      <th>citoglipton</th>\n",
       "      <th>insulin</th>\n",
       "      <th>glyburide-metformin</th>\n",
       "      <th>glipizide-metformin</th>\n",
       "      <th>glimepiride-pioglitazone</th>\n",
       "      <th>metformin-rosiglitazone</th>\n",
       "      <th>metformin-pioglitazone</th>\n",
       "      <th>change</th>\n",
       "      <th>diabetesMed</th>\n",
       "      <th>readmitted</th>\n",
       "    </tr>\n",
       "  </thead>\n",
       "  <tbody>\n",
       "    <tr>\n",
       "      <th>0</th>\n",
       "      <td>0.0</td>\n",
       "      <td>0.0</td>\n",
       "      <td>2.233555</td>\n",
       "      <td>0.0</td>\n",
       "      <td>0.0</td>\n",
       "      <td>96.858479</td>\n",
       "      <td>0.0</td>\n",
       "      <td>0.0</td>\n",
       "      <td>0.0</td>\n",
       "      <td>0.0</td>\n",
       "      <td>39.557416</td>\n",
       "      <td>49.082208</td>\n",
       "      <td>0.0</td>\n",
       "      <td>0.0</td>\n",
       "      <td>0.0</td>\n",
       "      <td>0.0</td>\n",
       "      <td>0.0</td>\n",
       "      <td>0.0</td>\n",
       "      <td>0.020636</td>\n",
       "      <td>0.351787</td>\n",
       "      <td>1.398306</td>\n",
       "      <td>0.0</td>\n",
       "      <td>0.0</td>\n",
       "      <td>0.0</td>\n",
       "      <td>0.0</td>\n",
       "      <td>0.0</td>\n",
       "      <td>0.0</td>\n",
       "      <td>0.0</td>\n",
       "      <td>0.0</td>\n",
       "      <td>0.0</td>\n",
       "      <td>0.0</td>\n",
       "      <td>0.0</td>\n",
       "      <td>0.0</td>\n",
       "      <td>0.0</td>\n",
       "      <td>0.0</td>\n",
       "      <td>0.0</td>\n",
       "      <td>0.0</td>\n",
       "      <td>0.0</td>\n",
       "      <td>0.0</td>\n",
       "      <td>0.0</td>\n",
       "      <td>0.0</td>\n",
       "      <td>0.0</td>\n",
       "      <td>0.0</td>\n",
       "      <td>0.0</td>\n",
       "      <td>0.0</td>\n",
       "      <td>0.0</td>\n",
       "      <td>0.0</td>\n",
       "      <td>0.0</td>\n",
       "      <td>0.0</td>\n",
       "      <td>0.0</td>\n",
       "    </tr>\n",
       "  </tbody>\n",
       "</table>\n",
       "</div>"
      ],
      "text/plain": [
       "   encounter_id  patient_nbr      race  gender  age     weight  \\\n",
       "0           0.0          0.0  2.233555     0.0  0.0  96.858479   \n",
       "\n",
       "   admission_type_id  discharge_disposition_id  admission_source_id  \\\n",
       "0                0.0                       0.0                  0.0   \n",
       "\n",
       "   time_in_hospital  payer_code  medical_specialty  num_lab_procedures  \\\n",
       "0               0.0   39.557416          49.082208                 0.0   \n",
       "\n",
       "   num_procedures  num_medications  number_outpatient  number_emergency  \\\n",
       "0             0.0              0.0                0.0               0.0   \n",
       "\n",
       "   number_inpatient    diag_1    diag_2    diag_3  number_diagnoses  \\\n",
       "0               0.0  0.020636  0.351787  1.398306               0.0   \n",
       "\n",
       "   max_glu_serum  A1Cresult  metformin  repaglinide  nateglinide  \\\n",
       "0            0.0        0.0        0.0          0.0          0.0   \n",
       "\n",
       "   chlorpropamide  glimepiride  acetohexamide  glipizide  glyburide  \\\n",
       "0             0.0          0.0            0.0        0.0        0.0   \n",
       "\n",
       "   tolbutamide  pioglitazone  rosiglitazone  acarbose  miglitol  troglitazone  \\\n",
       "0          0.0           0.0            0.0       0.0       0.0           0.0   \n",
       "\n",
       "   tolazamide  examide  citoglipton  insulin  glyburide-metformin  \\\n",
       "0         0.0      0.0          0.0      0.0                  0.0   \n",
       "\n",
       "   glipizide-metformin  glimepiride-pioglitazone  metformin-rosiglitazone  \\\n",
       "0                  0.0                       0.0                      0.0   \n",
       "\n",
       "   metformin-pioglitazone  change  diabetesMed  readmitted  \n",
       "0                     0.0     0.0          0.0         0.0  "
      ]
     },
     "execution_count": 11,
     "metadata": {},
     "output_type": "execute_result"
    }
   ],
   "source": [
    "# calculate missing values count and percentage for each column\n",
    "missing = df_cleaned.select([(count(when(col(c).isNull(), c))/total_rows*100).alias(c) for c in all_columns])\n",
    "missing.toPandas()"
   ]
  },
  {
   "cell_type": "code",
   "execution_count": 12,
   "id": "073281b3-986b-4441-ab49-072db353a805",
   "metadata": {},
   "outputs": [
    {
     "name": "stdout",
     "output_type": "stream",
     "text": [
      "Original number of columns: 50\n",
      "Number of columns after dropping: 45\n"
     ]
    }
   ],
   "source": [
    "# List of columns to drop\n",
    "cols_to_drop = [\n",
    "    'weight',              # 96.9% missing\n",
    "    'payer_code',          # 39.6% missing\n",
    "    'medical_specialty',   # 49.1% missing\n",
    "    'encounter_id',        # Identifier\n",
    "    'patient_nbr',         # Identifier\n",
    "]\n",
    "\n",
    "# Drop the columns\n",
    "df_reduced = df_cleaned.drop(*cols_to_drop)\n",
    "\n",
    "# Verify the change\n",
    "print(f\"Original number of columns: {len(df_cleaned.columns)}\")\n",
    "print(f\"Number of columns after dropping: {len(df_reduced.columns)}\")"
   ]
  },
  {
   "cell_type": "markdown",
   "id": "d67232d2-0f9e-460c-81c4-cc0f66bd9103",
   "metadata": {},
   "source": [
    "# check target variable"
   ]
  },
  {
   "cell_type": "code",
   "execution_count": 13,
   "id": "520ee168-6636-4d2c-8c87-a5fbac448497",
   "metadata": {},
   "outputs": [
    {
     "name": "stdout",
     "output_type": "stream",
     "text": [
      "+----------+\n",
      "|readmitted|\n",
      "+----------+\n",
      "|       >30|\n",
      "|        NO|\n",
      "|       <30|\n",
      "+----------+\n",
      "\n"
     ]
    }
   ],
   "source": [
    "df_reduced.select('readmitted').distinct().show()"
   ]
  },
  {
   "cell_type": "code",
   "execution_count": 14,
   "id": "9527581b-8fd5-42ef-86a1-c6ca4cc0956d",
   "metadata": {},
   "outputs": [],
   "source": [
    "df_resuced_pandas = df_reduced.groupby('readmitted').count().toPandas()"
   ]
  },
  {
   "cell_type": "code",
   "execution_count": 15,
   "id": "a26d98ca-9285-4f4e-addc-2c43c54368f1",
   "metadata": {},
   "outputs": [
    {
     "data": {
      "image/png": "[encoded data removed]",
      "text/plain": [
       "<Figure size 640x480 with 1 Axes>"
      ]
     },
     "metadata": {},
     "output_type": "display_data"
    }
   ],
   "source": [
    "sns.barplot(data = df_resuced_pandas, x = 'readmitted', y = 'count')\n",
    "plt.title(\"The number entries for each class\")\n",
    "plt.show()"
   ]
  },
  {
   "cell_type": "markdown",
   "id": "5c661c90-e286-434e-9b58-473a3b5ec99c",
   "metadata": {},
   "source": [
    "<font color=red>The dataset is imbalanced if we investigate 3 classes."
   ]
  },
  {
   "cell_type": "code",
   "execution_count": 16,
   "id": "1e0713d4-4250-4bdf-8922-e1df5b652b81",
   "metadata": {},
   "outputs": [],
   "source": [
    "# We map three strings to three numbers.\n",
    "df_reduced_with_target = df_reduced.withColumn('label',\n",
    "    when(col('readmitted') == 'NO', 0.0)\n",
    "    .when(col('readmitted') == '<30', 1.0)\n",
    "    .when(col('readmitted') == '>30', 1.0)\n",
    "    .otherwise(None) # Should not happen, but good practice\n",
    ").na.drop(subset=[\"label\"]).drop('readmitted')\n",
    "\n",
    "df_reduced_with_target = df_reduced_with_target.withColumn(\"label\", col(\"label\").cast(\"double\"))"
   ]
  },
  {
   "cell_type": "code",
   "execution_count": 17,
   "id": "6a1398c2-0735-47a4-a675-53d320b494a3",
   "metadata": {},
   "outputs": [
    {
     "data": {
      "image/png": "[encoded data removed]",
      "text/plain": [
       "<Figure size 640x480 with 1 Axes>"
      ]
     },
     "metadata": {},
     "output_type": "display_data"
    }
   ],
   "source": [
    "df_reduced_with_target_pandas = df_reduced_with_target.groupby('label').count().toPandas()\n",
    "sns.barplot(data = df_reduced_with_target_pandas, x = 'label', y = 'count')\n",
    "plt.title(\"The number entries for each class\")\n",
    "plt.show()"
   ]
  },
  {
   "cell_type": "markdown",
   "id": "1ebfb565-8951-490c-9ee9-541fd885c03a",
   "metadata": {},
   "source": [
    "<font color=red>Now, investigate 2 classes, the dataset balance looks much better."
   ]
  },
  {
   "cell_type": "markdown",
   "id": "69d4cdc1-c660-4793-ab25-377a2ffdfe68",
   "metadata": {},
   "source": [
    "# categorize diag_1"
   ]
  },
  {
   "cell_type": "code",
   "execution_count": 18,
   "id": "954a5eb3-62a5-4a1f-965d-f7433d360c9f",
   "metadata": {},
   "outputs": [
    {
     "name": "stdout",
     "output_type": "stream",
     "text": [
      "+------+-----+\n",
      "|diag_1|count|\n",
      "+------+-----+\n",
      "|   296|  896|\n",
      "|   451|   40|\n",
      "|   853|   18|\n",
      "|   800|    6|\n",
      "|250.01|   61|\n",
      "|   447|   63|\n",
      "|   591|   19|\n",
      "|     7|    2|\n",
      "|   574|  965|\n",
      "|   475|   14|\n",
      "|   718|   17|\n",
      "|   307|   25|\n",
      "|   577| 1057|\n",
      "|   581|   19|\n",
      "|   205|   27|\n",
      "|   747|    7|\n",
      "|   334|    2|\n",
      "|   462|   11|\n",
      "|   711|   66|\n",
      "|   647|    5|\n",
      "+------+-----+\n",
      "only showing top 20 rows\n"
     ]
    }
   ],
   "source": [
    "df_reduced_with_target.groupby('diag_1').count().show()"
   ]
  },
  {
   "cell_type": "code",
   "execution_count": 19,
   "id": "48a339b2-7842-44f4-9e08-0badcbcdf181",
   "metadata": {},
   "outputs": [
    {
     "name": "stdout",
     "output_type": "stream",
     "text": [
      "Distribution of the new 'diag_1_category' feature:\n",
      "+---------------+-----+\n",
      "|diag_1_category|count|\n",
      "+---------------+-----+\n",
      "|    Circulatory|30490|\n",
      "|          Other|17955|\n",
      "|    Respiratory|14465|\n",
      "|      Digestive| 9543|\n",
      "|       Diabetes| 8757|\n",
      "|         Injury| 7046|\n",
      "|  Genitourinary| 5118|\n",
      "|Musculoskeletal| 4957|\n",
      "|      Neoplasms| 3435|\n",
      "+---------------+-----+\n",
      "\n"
     ]
    }
   ],
   "source": [
    "# Create the new simplified diagnosis category column\n",
    "df_engineered_with_target = df_reduced_with_target.withColumn('diag_1_category',\n",
    "    when(col('diag_1').like('250%'), 'Diabetes')\n",
    "    .when((col('diag_1') >= '390') & (col('diag_1') <= '459') | (col('diag_1') == '785'), 'Circulatory')\n",
    "    .when((col('diag_1') >= '460') & (col('diag_1') <= '519') | (col('diag_1') == '786'), 'Respiratory')\n",
    "    .when((col('diag_1') >= '520') & (col('diag_1') <= '579') | (col('diag_1') == '787'), 'Digestive')\n",
    "    .when((col('diag_1') >= '800') & (col('diag_1') <= '999'), 'Injury')\n",
    "    .when((col('diag_1') >= '710') & (col('diag_1') <= '739'), 'Musculoskeletal')\n",
    "    .when((col('diag_1') >= '580') & (col('diag_1') <= '629') | (col('diag_1') == '788'), 'Genitourinary')\n",
    "    .when((col('diag_1') >= '140') & (col('diag_1') <= '239'), 'Neoplasms')\n",
    "    .otherwise('Other')\n",
    ")\n",
    "\n",
    "# Show the result of our new feature\n",
    "print(\"Distribution of the new 'diag_1_category' feature:\")\n",
    "df_engineered_with_target.groupBy('diag_1_category').count().orderBy('count', ascending=False).show()"
   ]
  },
  {
   "cell_type": "markdown",
   "id": "c4821f8c-f450-4431-8e49-c26dd755a2ce",
   "metadata": {},
   "source": [
    "# handle missing values"
   ]
  },
  {
   "cell_type": "code",
   "execution_count": 20,
   "id": "cd054309-afef-4ec1-a39f-aa9929300cac",
   "metadata": {},
   "outputs": [
    {
     "name": "stdout",
     "output_type": "stream",
     "text": [
      "The most frequent race is: 'Caucasian'. We will use this to fill missing values.\n",
      "root\n",
      " |-- race: string (nullable = false)\n",
      " |-- gender: string (nullable = true)\n",
      " |-- age: string (nullable = true)\n",
      " |-- admission_type_id: string (nullable = true)\n",
      " |-- discharge_disposition_id: string (nullable = true)\n",
      " |-- admission_source_id: string (nullable = true)\n",
      " |-- time_in_hospital: string (nullable = true)\n",
      " |-- num_lab_procedures: string (nullable = true)\n",
      " |-- num_procedures: string (nullable = true)\n",
      " |-- num_medications: string (nullable = true)\n",
      " |-- number_outpatient: string (nullable = true)\n",
      " |-- number_emergency: string (nullable = true)\n",
      " |-- number_inpatient: string (nullable = true)\n",
      " |-- number_diagnoses: string (nullable = true)\n",
      " |-- max_glu_serum: string (nullable = true)\n",
      " |-- A1Cresult: string (nullable = true)\n",
      " |-- metformin: string (nullable = true)\n",
      " |-- repaglinide: string (nullable = true)\n",
      " |-- nateglinide: string (nullable = true)\n",
      " |-- chlorpropamide: string (nullable = true)\n",
      " |-- glimepiride: string (nullable = true)\n",
      " |-- acetohexamide: string (nullable = true)\n",
      " |-- glipizide: string (nullable = true)\n",
      " |-- glyburide: string (nullable = true)\n",
      " |-- tolbutamide: string (nullable = true)\n",
      " |-- pioglitazone: string (nullable = true)\n",
      " |-- rosiglitazone: string (nullable = true)\n",
      " |-- acarbose: string (nullable = true)\n",
      " |-- miglitol: string (nullable = true)\n",
      " |-- troglitazone: string (nullable = true)\n",
      " |-- tolazamide: string (nullable = true)\n",
      " |-- examide: string (nullable = true)\n",
      " |-- citoglipton: string (nullable = true)\n",
      " |-- insulin: string (nullable = true)\n",
      " |-- glyburide-metformin: string (nullable = true)\n",
      " |-- glipizide-metformin: string (nullable = true)\n",
      " |-- glimepiride-pioglitazone: string (nullable = true)\n",
      " |-- metformin-rosiglitazone: string (nullable = true)\n",
      " |-- metformin-pioglitazone: string (nullable = true)\n",
      " |-- change: string (nullable = true)\n",
      " |-- diabetesMed: string (nullable = true)\n",
      " |-- label: double (nullable = true)\n",
      " |-- diag_1_category: string (nullable = false)\n",
      "\n"
     ]
    }
   ],
   "source": [
    "# Find the most frequent value (the mode) for the 'race' column\n",
    "mode_race = df_engineered_with_target.groupBy('race').count().orderBy('count', ascending=False).first()[0]\n",
    "print(f\"The most frequent race is: '{mode_race}'. We will use this to fill missing values.\")\n",
    "\n",
    "# Fill the nulls with the mode\n",
    "df_imputed_with_target = df_engineered_with_target.fillna({'race': mode_race})\n",
    "\n",
    "# We'll also fill nulls in our new diag_1_category with 'Other'. For simplicity, we'll now drop the original diag columns\n",
    "df_imputed_with_target = df_imputed_with_target.fillna({'diag_1_category': 'Other'}).drop('diag_1', 'diag_2', 'diag_3')\n",
    "\n",
    "df_imputed_with_target.printSchema()"
   ]
  },
  {
   "cell_type": "markdown",
   "id": "3bd161ae-1ebc-44ad-99ad-3218a70c8781",
   "metadata": {},
   "source": [
    "# establish pipline"
   ]
  },
  {
   "cell_type": "code",
   "execution_count": 21,
   "id": "c991a72f-82ca-48a9-b84a-4d87e8d186e8",
   "metadata": {},
   "outputs": [
    {
     "name": "stdout",
     "output_type": "stream",
     "text": [
      "\n",
      "Final number of columns before modeling: 43\n",
      "root\n",
      " |-- race: string (nullable = false)\n",
      " |-- gender: string (nullable = true)\n",
      " |-- age: string (nullable = true)\n",
      " |-- admission_type_id: string (nullable = true)\n",
      " |-- discharge_disposition_id: string (nullable = true)\n",
      " |-- admission_source_id: string (nullable = true)\n",
      " |-- time_in_hospital: integer (nullable = true)\n",
      " |-- num_lab_procedures: integer (nullable = true)\n",
      " |-- num_procedures: integer (nullable = true)\n",
      " |-- num_medications: integer (nullable = true)\n",
      " |-- number_outpatient: integer (nullable = true)\n",
      " |-- number_emergency: integer (nullable = true)\n",
      " |-- number_inpatient: integer (nullable = true)\n",
      " |-- number_diagnoses: integer (nullable = true)\n",
      " |-- max_glu_serum: string (nullable = true)\n",
      " |-- A1Cresult: string (nullable = true)\n",
      " |-- metformin: string (nullable = true)\n",
      " |-- repaglinide: string (nullable = true)\n",
      " |-- nateglinide: string (nullable = true)\n",
      " |-- chlorpropamide: string (nullable = true)\n",
      " |-- glimepiride: string (nullable = true)\n",
      " |-- acetohexamide: string (nullable = true)\n",
      " |-- glipizide: string (nullable = true)\n",
      " |-- glyburide: string (nullable = true)\n",
      " |-- tolbutamide: string (nullable = true)\n",
      " |-- pioglitazone: string (nullable = true)\n",
      " |-- rosiglitazone: string (nullable = true)\n",
      " |-- acarbose: string (nullable = true)\n",
      " |-- miglitol: string (nullable = true)\n",
      " |-- troglitazone: string (nullable = true)\n",
      " |-- tolazamide: string (nullable = true)\n",
      " |-- examide: string (nullable = true)\n",
      " |-- citoglipton: string (nullable = true)\n",
      " |-- insulin: string (nullable = true)\n",
      " |-- glyburide-metformin: string (nullable = true)\n",
      " |-- glipizide-metformin: string (nullable = true)\n",
      " |-- glimepiride-pioglitazone: string (nullable = true)\n",
      " |-- metformin-rosiglitazone: string (nullable = true)\n",
      " |-- metformin-pioglitazone: string (nullable = true)\n",
      " |-- change: string (nullable = true)\n",
      " |-- diabetesMed: string (nullable = true)\n",
      " |-- label: double (nullable = true)\n",
      " |-- diag_1_category: string (nullable = false)\n",
      "\n"
     ]
    }
   ],
   "source": [
    "# Separate columns into categorical and numerical lists\n",
    "# The target variable 'readmitted_binary' is separate\n",
    "categorical_cols = [\n",
    "    'race', 'gender', 'age', 'admission_type_id', 'discharge_disposition_id',\n",
    "    'admission_source_id', 'max_glu_serum', 'A1Cresult', 'metformin',\n",
    "    'repaglinide', 'nateglinide', 'chlorpropamide', 'glimepiride',\n",
    "    'acetohexamide', 'glipizide', 'glyburide', 'tolbutamide', 'pioglitazone',\n",
    "    'rosiglitazone', 'acarbose', 'miglitol', 'troglitazone', 'tolazamide',\n",
    "    'examide', 'citoglipton', 'insulin', 'glyburide-metformin', 'glipizide-metformin',\n",
    "    'glimepiride-pioglitazone', 'metformin-rosiglitazone', 'metformin-pioglitazone',\n",
    "    'change', 'diabetesMed', 'diag_1_category'\n",
    "]\n",
    "\n",
    "numerical_cols = [\n",
    "    'time_in_hospital', 'num_lab_procedures', 'num_procedures',\n",
    "    'num_medications', 'number_outpatient', 'number_emergency',\n",
    "    'number_inpatient', 'number_diagnoses'\n",
    "]\n",
    "\n",
    "target_col = 'label'\n",
    "\n",
    "# Create a new DataFrame with the correct types since the numerical columns are string\n",
    "df_final = df_imputed_with_target\n",
    "for c in numerical_cols:\n",
    "    df_final = df_final.withColumn(c, col(c).cast('integer'))\n",
    "\n",
    "print(\"\\nFinal number of columns before modeling:\", len(df_final.columns))\n",
    "df_final.printSchema()"
   ]
  },
  {
   "cell_type": "code",
   "execution_count": 22,
   "id": "8f35ef6f-9555-4157-90e5-448d7ad09b29",
   "metadata": {},
   "outputs": [
    {
     "name": "stdout",
     "output_type": "stream",
     "text": [
      "Pipeline created and data transformed successfully.\n",
      "+-----+-----------------------------------------------------------------------------------------------------------------------------------------------------------------------------------------------------------------------------------------------------------------------------------------------------------------------------------+\n",
      "|label|features                                                                                                                                                                                                                                                                                                                           |\n",
      "+-----+-----------------------------------------------------------------------------------------------------------------------------------------------------------------------------------------------------------------------------------------------------------------------------------------------------------------------------------+\n",
      "|0.0  |(169,[0,5,17,21,34,53,69,73,77,81,85,89,93,97,99,103,107,109,113,117,121,125,127,130,131,132,136,140,142,144,146,148,151,156,161,162,164,168],[1.0,1.0,1.0,1.0,1.0,1.0,1.0,1.0,1.0,1.0,1.0,1.0,1.0,1.0,1.0,1.0,1.0,1.0,1.0,1.0,1.0,1.0,1.0,1.0,1.0,1.0,1.0,1.0,1.0,1.0,1.0,1.0,1.0,1.0,1.0,41.0,1.0,1.0])                          |\n",
      "|1.0  |(169,[0,5,16,18,26,52,69,73,77,81,85,89,93,97,99,103,107,109,113,117,121,125,127,130,131,135,136,140,142,144,146,149,150,153,161,162,164,168],[1.0,1.0,1.0,1.0,1.0,1.0,1.0,1.0,1.0,1.0,1.0,1.0,1.0,1.0,1.0,1.0,1.0,1.0,1.0,1.0,1.0,1.0,1.0,1.0,1.0,1.0,1.0,1.0,1.0,1.0,1.0,1.0,1.0,1.0,3.0,59.0,18.0,9.0])                         |\n",
      "|0.0  |(169,[1,5,15,18,26,52,69,73,77,81,85,89,93,97,100,103,107,109,113,117,121,125,127,130,131,132,136,140,142,144,146,148,150,153,161,162,163,164,165,167,168],[1.0,1.0,1.0,1.0,1.0,1.0,1.0,1.0,1.0,1.0,1.0,1.0,1.0,1.0,1.0,1.0,1.0,1.0,1.0,1.0,1.0,1.0,1.0,1.0,1.0,1.0,1.0,1.0,1.0,1.0,1.0,1.0,1.0,1.0,2.0,11.0,5.0,13.0,2.0,1.0,6.0])|\n",
      "|0.0  |(169,[0,6,13,18,26,52,69,73,77,81,85,89,93,97,99,103,107,109,113,117,121,125,127,130,131,135,136,140,142,144,146,149,150,153,161,162,163,164,168],[1.0,1.0,1.0,1.0,1.0,1.0,1.0,1.0,1.0,1.0,1.0,1.0,1.0,1.0,1.0,1.0,1.0,1.0,1.0,1.0,1.0,1.0,1.0,1.0,1.0,1.0,1.0,1.0,1.0,1.0,1.0,1.0,1.0,1.0,2.0,44.0,1.0,16.0,7.0])                 |\n",
      "|0.0  |(169,[0,6,12,18,26,52,69,73,77,81,85,89,93,97,100,103,107,109,113,117,121,125,127,130,131,133,136,140,142,144,146,149,150,160,161,162,164,168],[1.0,1.0,1.0,1.0,1.0,1.0,1.0,1.0,1.0,1.0,1.0,1.0,1.0,1.0,1.0,1.0,1.0,1.0,1.0,1.0,1.0,1.0,1.0,1.0,1.0,1.0,1.0,1.0,1.0,1.0,1.0,1.0,1.0,1.0,1.0,51.0,8.0,5.0])                         |\n",
      "+-----+-----------------------------------------------------------------------------------------------------------------------------------------------------------------------------------------------------------------------------------------------------------------------------------------------------------------------------------+\n",
      "only showing top 5 rows\n"
     ]
    }
   ],
   "source": [
    "from pyspark.ml import Pipeline\n",
    "from pyspark.ml.feature import StringIndexer, OneHotEncoder, VectorAssembler\n",
    "\n",
    "# --- STAGE 1 & 2: String Indexing and One-Hot Encoding for Categorical Columns ---\n",
    "# We create a list to hold all the stages of our pipeline\n",
    "stages = []\n",
    "\n",
    "# Loop through each categorical column\n",
    "for col_name in categorical_cols:\n",
    "    # 1. StringIndexer, Rule: StringIndexer orders categories by descending frequency in the dataset.\n",
    "    # That means:The most frequent label gets index 0. The next most frequent gets 1, and so on.\n",
    "\n",
    "    string_indexer = StringIndexer(inputCol=col_name, outputCol=col_name + \"_index\", handleInvalid=\"keep\")\n",
    "    # 2. OneHotEncoder\n",
    "    one_hot_encoder = OneHotEncoder(inputCols=[string_indexer.getOutputCol()], outputCols=[col_name + \"_vec\"])\n",
    "    # Add these two stages to our pipeline\n",
    "    stages += [string_indexer, one_hot_encoder]\n",
    "\n",
    "# --- STAGE 3: Vector Assembly ---\n",
    "# Create a list of all feature columns to be assembled\n",
    "# This includes the one-hot encoded vectors and the original numerical columns\n",
    "assembler_inputs = [c + \"_vec\" for c in categorical_cols] + numerical_cols\n",
    "\n",
    "# Create the VectorAssembler stage\n",
    "vector_assembler = VectorAssembler(inputCols=assembler_inputs, outputCol=\"features\")\n",
    "\n",
    "# Add the assembler to our stages\n",
    "stages += [vector_assembler]\n",
    "\n",
    "# --- Create and Run the Pipeline ---\n",
    "# Define the pipeline with all the stages\n",
    "preprocessing_pipeline = Pipeline(stages=stages)\n",
    "\n",
    "# Fit the pipeline to our data to \"learn\" the transformations\n",
    "pipeline_model = preprocessing_pipeline.fit(df_final)\n",
    "\n",
    "# Transform the data to apply the transformations\n",
    "df_model_ready = pipeline_model.transform(df_final)\n",
    "\n",
    "print(\"Pipeline created and data transformed successfully.\")\n",
    "\n",
    "# --- Inspect the Result ---\n",
    "# Let's look at the final DataFrame. You'll see the new columns,\n",
    "# especially the 'features' vector and our target column.\n",
    "df_model_ready.select(target_col, 'features').show(5, truncate=False)"
   ]
  },
  {
   "cell_type": "code",
   "execution_count": 23,
   "id": "97cf9850-34ce-421b-aba1-3dbeece92ada",
   "metadata": {},
   "outputs": [
    {
     "name": "stdout",
     "output_type": "stream",
     "text": [
      "Number of training samples: 81565\n",
      "Number of testing samples: 20201\n"
     ]
    }
   ],
   "source": [
    "(trainingData, testData) = df_model_ready.randomSplit([0.8, 0.2], seed=42)\n",
    "\n",
    "# Cache the data to speed up repeated access\n",
    "trainingData.cache()\n",
    "testData.cache()\n",
    "\n",
    "print(f\"Number of training samples: {trainingData.count()}\")\n",
    "print(f\"Number of testing samples: {testData.count()}\")"
   ]
  },
  {
   "cell_type": "markdown",
   "id": "2e71980e-e7f3-499d-baae-794c568e6e2f",
   "metadata": {},
   "source": [
    "# Test_1 logistic regression"
   ]
  },
  {
   "cell_type": "code",
   "execution_count": 24,
   "id": "ebad4154-ace2-4b93-86ab-7e04105d6bd3",
   "metadata": {},
   "outputs": [
    {
     "name": "stdout",
     "output_type": "stream",
     "text": [
      "Training the Logistic Regression model...\n",
      "Model training complete.\n"
     ]
    }
   ],
   "source": [
    "from pyspark.ml.classification import LogisticRegression\n",
    "\n",
    "# Instantiate the Logistic Regression model\n",
    "# It will use our 'features' and 'label' columns\n",
    "lr_1 = LogisticRegression(featuresCol='features', labelCol='label')\n",
    "\n",
    "# Train the model by fitting it to the training data\n",
    "print(\"Training the Logistic Regression model...\")\n",
    "lr_model_1 = lr_1.fit(trainingData)\n",
    "print(\"Model training complete.\")"
   ]
  },
  {
   "cell_type": "code",
   "execution_count": 25,
   "id": "c98b4094-f354-4033-a66c-fd07765e4a24",
   "metadata": {},
   "outputs": [
    {
     "name": "stdout",
     "output_type": "stream",
     "text": [
      "Sample predictions:\n",
      "+-----+----------+----------------------------------------+\n",
      "|label|prediction|probability                             |\n",
      "+-----+----------+----------------------------------------+\n",
      "|1.0  |0.0       |[0.9135530478917262,0.0864469521082738] |\n",
      "|0.0  |0.0       |[0.6215651277872323,0.3784348722127677] |\n",
      "|0.0  |0.0       |[0.7176504937220364,0.2823495062779636] |\n",
      "|1.0  |0.0       |[0.6701461833734644,0.32985381662653557]|\n",
      "|1.0  |1.0       |[0.3941754870746486,0.6058245129253514] |\n",
      "|0.0  |0.0       |[0.735584179743722,0.26441582025627797] |\n",
      "|0.0  |0.0       |[0.6307591230999106,0.36924087690008944]|\n",
      "|1.0  |0.0       |[0.6768202941542021,0.3231797058457979] |\n",
      "|1.0  |0.0       |[0.7169111179262376,0.28308888207376237]|\n",
      "|1.0  |0.0       |[0.6487159264231362,0.35128407357686375]|\n",
      "+-----+----------+----------------------------------------+\n",
      "only showing top 10 rows\n"
     ]
    }
   ],
   "source": [
    "# Make predictions on the test data\n",
    "predictions = lr_model_1.transform(testData)\n",
    "\n",
    "# Let's look at the predictions\n",
    "# The 'prediction' column is what the model guessed.\n",
    "print(\"Sample predictions:\")\n",
    "predictions.select('label', 'prediction', 'probability').show(10, truncate=False)"
   ]
  },
  {
   "cell_type": "code",
   "execution_count": 26,
   "id": "e3f0768f-0e2e-4d4e-a7bb-46a39e2d5aca",
   "metadata": {},
   "outputs": [
    {
     "data": {
      "text/plain": [
       "['race',\n",
       " 'gender',\n",
       " 'age',\n",
       " 'admission_type_id',\n",
       " 'discharge_disposition_id',\n",
       " 'admission_source_id',\n",
       " 'time_in_hospital',\n",
       " 'num_lab_procedures',\n",
       " 'num_procedures',\n",
       " 'num_medications',\n",
       " 'number_outpatient',\n",
       " 'number_emergency',\n",
       " 'number_inpatient',\n",
       " 'number_diagnoses',\n",
       " 'max_glu_serum',\n",
       " 'A1Cresult',\n",
       " 'metformin',\n",
       " 'repaglinide',\n",
       " 'nateglinide',\n",
       " 'chlorpropamide',\n",
       " 'glimepiride',\n",
       " 'acetohexamide',\n",
       " 'glipizide',\n",
       " 'glyburide',\n",
       " 'tolbutamide',\n",
       " 'pioglitazone',\n",
       " 'rosiglitazone',\n",
       " 'acarbose',\n",
       " 'miglitol',\n",
       " 'troglitazone',\n",
       " 'tolazamide',\n",
       " 'examide',\n",
       " 'citoglipton',\n",
       " 'insulin',\n",
       " 'glyburide-metformin',\n",
       " 'glipizide-metformin',\n",
       " 'glimepiride-pioglitazone',\n",
       " 'metformin-rosiglitazone',\n",
       " 'metformin-pioglitazone',\n",
       " 'change',\n",
       " 'diabetesMed',\n",
       " 'label',\n",
       " 'diag_1_category',\n",
       " 'race_index',\n",
       " 'race_vec',\n",
       " 'gender_index',\n",
       " 'gender_vec',\n",
       " 'age_index',\n",
       " 'age_vec',\n",
       " 'admission_type_id_index',\n",
       " 'admission_type_id_vec',\n",
       " 'discharge_disposition_id_index',\n",
       " 'discharge_disposition_id_vec',\n",
       " 'admission_source_id_index',\n",
       " 'admission_source_id_vec',\n",
       " 'max_glu_serum_index',\n",
       " 'max_glu_serum_vec',\n",
       " 'A1Cresult_index',\n",
       " 'A1Cresult_vec',\n",
       " 'metformin_index',\n",
       " 'metformin_vec',\n",
       " 'repaglinide_index',\n",
       " 'repaglinide_vec',\n",
       " 'nateglinide_index',\n",
       " 'nateglinide_vec',\n",
       " 'chlorpropamide_index',\n",
       " 'chlorpropamide_vec',\n",
       " 'glimepiride_index',\n",
       " 'glimepiride_vec',\n",
       " 'acetohexamide_index',\n",
       " 'acetohexamide_vec',\n",
       " 'glipizide_index',\n",
       " 'glipizide_vec',\n",
       " 'glyburide_index',\n",
       " 'glyburide_vec',\n",
       " 'tolbutamide_index',\n",
       " 'tolbutamide_vec',\n",
       " 'pioglitazone_index',\n",
       " 'pioglitazone_vec',\n",
       " 'rosiglitazone_index',\n",
       " 'rosiglitazone_vec',\n",
       " 'acarbose_index',\n",
       " 'acarbose_vec',\n",
       " 'miglitol_index',\n",
       " 'miglitol_vec',\n",
       " 'troglitazone_index',\n",
       " 'troglitazone_vec',\n",
       " 'tolazamide_index',\n",
       " 'tolazamide_vec',\n",
       " 'examide_index',\n",
       " 'examide_vec',\n",
       " 'citoglipton_index',\n",
       " 'citoglipton_vec',\n",
       " 'insulin_index',\n",
       " 'insulin_vec',\n",
       " 'glyburide-metformin_index',\n",
       " 'glyburide-metformin_vec',\n",
       " 'glipizide-metformin_index',\n",
       " 'glipizide-metformin_vec',\n",
       " 'glimepiride-pioglitazone_index',\n",
       " 'glimepiride-pioglitazone_vec',\n",
       " 'metformin-rosiglitazone_index',\n",
       " 'metformin-rosiglitazone_vec',\n",
       " 'metformin-pioglitazone_index',\n",
       " 'metformin-pioglitazone_vec',\n",
       " 'change_index',\n",
       " 'change_vec',\n",
       " 'diabetesMed_index',\n",
       " 'diabetesMed_vec',\n",
       " 'diag_1_category_index',\n",
       " 'diag_1_category_vec',\n",
       " 'features',\n",
       " 'rawPrediction',\n",
       " 'probability',\n",
       " 'prediction']"
      ]
     },
     "execution_count": 26,
     "metadata": {},
     "output_type": "execute_result"
    }
   ],
   "source": [
    "predictions.columns"
   ]
  },
  {
   "cell_type": "code",
   "execution_count": 27,
   "id": "8a105d6d-8e91-49c5-aaef-7775a3861a84",
   "metadata": {},
   "outputs": [
    {
     "name": "stdout",
     "output_type": "stream",
     "text": [
      "Area Under ROC (AUC) = 0.6891\n",
      "Recall (for Readmitted Class 1.0) = 48.83%\n",
      "Precision (for Readmitted Class 1.0) = 64.05%\n",
      "F1 Score (for Readmitted Class 1.0) = 0.6300\n",
      "\n",
      "Confusion Matrix:\n",
      "prediction   0.0   1.0\n",
      "label                 \n",
      "0.0         8334  2553\n",
      "1.0         4766  4548\n"
     ]
    }
   ],
   "source": [
    "from pyspark.ml.evaluation import MulticlassClassificationEvaluator, BinaryClassificationEvaluator\n",
    "\n",
    "# AUC\n",
    "evaluator_auc = BinaryClassificationEvaluator(labelCol=\"label\", rawPredictionCol=\"rawPrediction\", metricName=\"areaUnderROC\")\n",
    "auc = evaluator_auc.evaluate(predictions)\n",
    "print(f\"Area Under ROC (AUC) = {auc:.4f}\")\n",
    "\n",
    "# Recall\n",
    "evaluator_recall_positive = MulticlassClassificationEvaluator(labelCol=\"label\", predictionCol=\"prediction\",\n",
    "                                                              metricName=\"recallByLabel\", metricLabel=1.0)\n",
    "recall = evaluator_recall_positive.evaluate(predictions)\n",
    "print(f\"Recall (for Readmitted Class 1.0) = {recall:.2%}\")\n",
    "\n",
    "# Precision\n",
    "evaluator_precision_positive = MulticlassClassificationEvaluator(labelCol=\"label\", predictionCol=\"prediction\",\n",
    "                                                                  metricName=\"precisionByLabel\", metricLabel=1.0)\n",
    "precision = evaluator_precision_positive.evaluate(predictions)\n",
    "print(f\"Precision (for Readmitted Class 1.0) = {precision:.2%}\")\n",
    "\n",
    "# F1 score\n",
    "evaluator_f1_positive = MulticlassClassificationEvaluator(labelCol=\"label\", predictionCol=\"prediction\",\n",
    "                                                          metricName=\"f1\", metricLabel=1.0)\n",
    "f1_score = evaluator_f1_positive.evaluate(predictions)\n",
    "print(f\"F1 Score (for Readmitted Class 1.0) = {f1_score:.4f}\")\n",
    "\n",
    "# --- Detailed View: Confusion Matrix ---\n",
    "# Shows how many times the model predicted each class vs. the actual class.\n",
    "print(\"\\nConfusion Matrix:\")\n",
    "# Convert to Pandas for a nice crosstab view\n",
    "preds_and_labels = predictions.select(['prediction', 'label']).toPandas()\n",
    "confusion_matrix = pd.crosstab(preds_and_labels['label'], preds_and_labels['prediction'])\n",
    "print(confusion_matrix)"
   ]
  },
  {
   "cell_type": "markdown",
   "id": "782706ea-69d3-43d5-8360-18c447210d3f",
   "metadata": {},
   "source": [
    "# Test_2 logistic regression with weighted column"
   ]
  },
  {
   "cell_type": "code",
   "execution_count": 28,
   "id": "9a995d53-d676-442d-a0bb-b8052a0ec64a",
   "metadata": {},
   "outputs": [
    {
     "name": "stdout",
     "output_type": "stream",
     "text": [
      "Weight for class 0: 0.46\n",
      "Weight for class 1: 0.54\n"
     ]
    }
   ],
   "source": [
    "# Calculate the balance ratio\n",
    "num_positives = df_model_ready.filter(col('label') == 1.0).count()\n",
    "num_negatives = df_model_ready.filter(col('label') == 0.0).count()\n",
    "\n",
    "# The weight for the majority class (0.0) should be smaller\n",
    "weight_for_negatives = num_positives / (num_positives + num_negatives)\n",
    "\n",
    "# The weight for the minority class (1.0) should be larger\n",
    "weight_for_positives = num_negatives / (num_positives + num_negatives)\n",
    "\n",
    "print(f\"Weight for class 0: {weight_for_negatives:.2f}\")\n",
    "print(f\"Weight for class 1: {weight_for_positives:.2f}\")\n",
    "\n",
    "# Add a weight column to the DataFrame\n",
    "df_weighted = df_model_ready.withColumn('classWeight',\n",
    "    when(col('label') == 0.0, weight_for_negatives)\n",
    "    .otherwise(weight_for_positives)\n",
    ")\n",
    "\n",
    "# Split this NEW df_weighted DataFrame\n",
    "(trainingData, testData) = df_weighted.randomSplit([0.8, 0.2], seed=42)\n",
    "\n",
    "# Now, when you instantiate your model, tell it to use this column\n",
    "# If you are using LogisticRegression:\n",
    "lr_2 = LogisticRegression(featuresCol='features', labelCol='label', weightCol='classWeight')\n",
    "lr_model_2 = lr_2.fit(trainingData)\n",
    "predictions = lr_model_2.transform(testData)"
   ]
  },
  {
   "cell_type": "code",
   "execution_count": 29,
   "id": "5da41276-9aef-4063-ac23-219669f86af7",
   "metadata": {},
   "outputs": [
    {
     "name": "stdout",
     "output_type": "stream",
     "text": [
      "Area Under ROC (AUC) = 0.6892\n",
      "Recall (for Readmitted Class 1.0) = 60.15%\n",
      "Precision (for Readmitted Class 1.0) = 60.55%\n",
      "F1 Score (for Readmitted Class 1.0) = 0.6355\n",
      "\n",
      "Confusion Matrix:\n",
      "prediction   0.0   1.0\n",
      "label                 \n",
      "0.0         7237  3650\n",
      "1.0         3712  5602\n"
     ]
    }
   ],
   "source": [
    "# AUC\n",
    "evaluator_auc = BinaryClassificationEvaluator(labelCol=\"label\", rawPredictionCol=\"rawPrediction\", metricName=\"areaUnderROC\")\n",
    "auc = evaluator_auc.evaluate(predictions)\n",
    "print(f\"Area Under ROC (AUC) = {auc:.4f}\")\n",
    "\n",
    "# Recall\n",
    "evaluator_recall_positive = MulticlassClassificationEvaluator(labelCol=\"label\", predictionCol=\"prediction\",\n",
    "                                                              metricName=\"recallByLabel\", metricLabel=1.0)\n",
    "recall = evaluator_recall_positive.evaluate(predictions)\n",
    "print(f\"Recall (for Readmitted Class 1.0) = {recall:.2%}\")\n",
    "\n",
    "# Precision\n",
    "evaluator_precision_positive = MulticlassClassificationEvaluator(labelCol=\"label\", predictionCol=\"prediction\",\n",
    "                                                                  metricName=\"precisionByLabel\", metricLabel=1.0)\n",
    "precision = evaluator_precision_positive.evaluate(predictions)\n",
    "print(f\"Precision (for Readmitted Class 1.0) = {precision:.2%}\")\n",
    "\n",
    "# F1 score\n",
    "evaluator_f1_positive = MulticlassClassificationEvaluator(labelCol=\"label\", predictionCol=\"prediction\",\n",
    "                                                          metricName=\"f1\", metricLabel=1.0)\n",
    "f1_score = evaluator_f1_positive.evaluate(predictions)\n",
    "print(f\"F1 Score (for Readmitted Class 1.0) = {f1_score:.4f}\")\n",
    "\n",
    "# --- Detailed View: Confusion Matrix ---\n",
    "# Shows how many times the model predicted each class vs. the actual class.\n",
    "print(\"\\nConfusion Matrix:\")\n",
    "# Convert to Pandas for a nice crosstab view\n",
    "preds_and_labels = predictions.select(['prediction', 'label']).toPandas()\n",
    "confusion_matrix = pd.crosstab(preds_and_labels['label'], preds_and_labels['prediction'])\n",
    "print(confusion_matrix)\n"
   ]
  },
  {
   "cell_type": "markdown",
   "id": "f268b0fc-08a5-4193-a5ea-ea33b0ed14de",
   "metadata": {},
   "source": [
    "# Test_3 random forest with weighted column"
   ]
  },
  {
   "cell_type": "code",
   "execution_count": 30,
   "id": "0b27cf9d-7bd2-456b-9cfe-ebda3c70080f",
   "metadata": {},
   "outputs": [
    {
     "name": "stdout",
     "output_type": "stream",
     "text": [
      "Training the weighted RandomForest model...\n",
      "Model training complete.\n",
      "\n",
      "--- Evaluation of RandomForest Model ---\n",
      "Area Under ROC (AUC) = 0.6690\n",
      "Recall (for Readmitted Class 1.0) = 57.76%\n",
      "Precision (for Readmitted Class 1.0) = 59.72%\n",
      "F1 Score (for Readmitted Class 1.0) = 0.6251\n",
      "\n",
      "Confusion Matrix (RandomForest):\n",
      "Predicted   0.0   1.0\n",
      "Actual               \n",
      "0.0        7258  3629\n",
      "1.0        3934  5380\n"
     ]
    }
   ],
   "source": [
    "from pyspark.ml.classification import RandomForestClassifier\n",
    "\n",
    "# 1. Instantiate the RandomForest model, making sure to use the weightCol!\n",
    "rf_1 = RandomForestClassifier(featuresCol='features', \n",
    "                            labelCol='label', \n",
    "                            weightCol='classWeight',  # Crucial to keep this\n",
    "                            seed=42)                 # For reproducibility\n",
    "\n",
    "# 2. Train the model on your weighted training data\n",
    "print(\"Training the weighted RandomForest model...\")\n",
    "rf_model_1 = rf_1.fit(trainingData)\n",
    "print(\"Model training complete.\")\n",
    "\n",
    "# 3. Make predictions on the UNTOUCHED test data\n",
    "predictions_rf = rf_model_1.transform(testData)\n",
    "\n",
    "# 4. Evaluate the new model using your corrected evaluation code\n",
    "print(\"\\n--- Evaluation of RandomForest Model ---\")\n",
    "\n",
    "# --- AUC ---\n",
    "evaluator_auc = BinaryClassificationEvaluator(labelCol=\"label\", rawPredictionCol=\"rawPrediction\", metricName=\"areaUnderROC\")\n",
    "auc = evaluator_auc.evaluate(predictions_rf)\n",
    "print(f\"Area Under ROC (AUC) = {auc:.4f}\")\n",
    "\n",
    "# --- Recall for Positive Class ---\n",
    "evaluator_recall_positive = MulticlassClassificationEvaluator(labelCol=\"label\", predictionCol=\"prediction\", metricName=\"recallByLabel\", metricLabel=1.0)\n",
    "recall = evaluator_recall_positive.evaluate(predictions_rf)\n",
    "print(f\"Recall (for Readmitted Class 1.0) = {recall:.2%}\")\n",
    "\n",
    "# --- Precision for Positive Class ---\n",
    "evaluator_precision_positive = MulticlassClassificationEvaluator(labelCol=\"label\", predictionCol=\"prediction\", metricName=\"precisionByLabel\", metricLabel=1.0)\n",
    "precision = evaluator_precision_positive.evaluate(predictions_rf)\n",
    "print(f\"Precision (for Readmitted Class 1.0) = {precision:.2%}\")\n",
    "\n",
    "# --- F1 Score for Positive Class ---\n",
    "evaluator_f1_positive = MulticlassClassificationEvaluator(labelCol=\"label\", predictionCol=\"prediction\", metricName=\"f1\", metricLabel=1.0)\n",
    "f1_score = evaluator_f1_positive.evaluate(predictions_rf)\n",
    "print(f\"F1 Score (for Readmitted Class 1.0) = {f1_score:.4f}\")\n",
    "\n",
    "# --- Confusion Matrix ---\n",
    "print(\"\\nConfusion Matrix (RandomForest):\")\n",
    "preds_and_labels_rf = predictions_rf.select(['prediction', 'label']).toPandas()\n",
    "confusion_matrix_rf = pd.crosstab(preds_and_labels_rf['label'], preds_and_labels_rf['prediction'], rownames=['Actual'], colnames=['Predicted'])\n",
    "print(confusion_matrix_rf)"
   ]
  },
  {
   "cell_type": "markdown",
   "id": "f592d468-9ded-49ba-8bf4-9126b8dcf0c6",
   "metadata": {},
   "source": [
    "# Test_4 tune random forest with weighted column"
   ]
  },
  {
   "cell_type": "code",
   "execution_count": 31,
   "id": "0804b878-c6b6-449e-ae6c-5742564e60a6",
   "metadata": {},
   "outputs": [
    {
     "name": "stdout",
     "output_type": "stream",
     "text": [
      "Starting hyperparameter tuning for RandomForest...\n",
      "Tuning complete.\n",
      "\n",
      "--- Evaluation of TUNED RandomForest Model ---\n",
      "Area Under ROC (AUC) = 0.6964\n",
      "Recall (for Readmitted Class 1.0) = 60.29%\n",
      "Precision (for Readmitted Class 1.0) = 61.37%\n",
      "F1 Score (for Readmitted Class 1.0) = 0.6416\n",
      "\n",
      "Confusion Matrix (RandomForest):\n",
      "Predicted   0.0   1.0\n",
      "Actual               \n",
      "0.0        7352  3535\n",
      "1.0        3699  5615\n"
     ]
    }
   ],
   "source": [
    "from pyspark.ml.tuning import ParamGridBuilder, CrossValidator\n",
    "\n",
    "rf_2 = RandomForestClassifier(featuresCol='features', \n",
    "                            labelCol='label', \n",
    "                            weightCol='classWeight',  # Keep using the weights!\n",
    "                            seed=42)\n",
    "\n",
    "# --- Define a grid of hyperparameters to search ---\n",
    "# We will test combinations of these settings.\n",
    "paramGrid = (ParamGridBuilder()\n",
    "             .addGrid(rf_2.maxDepth, [5, 10, 15])         # Test shallow and medium-depth trees\n",
    "             .addGrid(rf_2.numTrees, [50, 100])           # Test a reasonable number of trees\n",
    "             .addGrid(rf_2.minInstancesPerNode, [10, 20]) # Prevent splits on tiny nodes\n",
    "             .build())\n",
    "\n",
    "# --- Set up the evaluator ---\n",
    "# We want to optimize for the best overall model, so AUC is the best metric.\n",
    "# It will find the model that is fundamentally best at separating the classes.\n",
    "evaluator = BinaryClassificationEvaluator(labelCol=\"label\", \n",
    "                                          rawPredictionCol=\"rawPrediction\", \n",
    "                                          metricName=\"areaUnderROC\")\n",
    "\n",
    "# --- Set up the CrossValidator ---\n",
    "cv = CrossValidator(estimator=rf_2,\n",
    "                    estimatorParamMaps=paramGrid,\n",
    "                    evaluator=evaluator,\n",
    "                    numFolds=3,  # Use 3 folds for speed. Can increase to 5 for more robustness.\n",
    "                    parallelism=4) # Speeds up training if your machine has the cores\n",
    "\n",
    "# --- Run the tuning process ---\n",
    "# This is the most computationally expensive step. It will take time!\n",
    "print(\"Starting hyperparameter tuning for RandomForest...\")\n",
    "cv_model = cv.fit(trainingData)\n",
    "print(\"Tuning complete.\")\n",
    "\n",
    "# --- Get the best model and make predictions ---\n",
    "best_rf_model = cv_model.bestModel\n",
    "predictions_tuned = best_rf_model.transform(testData)\n",
    "\n",
    "# --- Finally, evaluate the new, TUNED model ---\n",
    "print(\"\\n--- Evaluation of TUNED RandomForest Model ---\")\n",
    "\n",
    "# --- AUC ---\n",
    "evaluator_auc = BinaryClassificationEvaluator(labelCol=\"label\", rawPredictionCol=\"rawPrediction\", metricName=\"areaUnderROC\")\n",
    "auc = evaluator_auc.evaluate(predictions_tuned)\n",
    "print(f\"Area Under ROC (AUC) = {auc:.4f}\")\n",
    "\n",
    "# --- Recall for Positive Class ---\n",
    "evaluator_recall_positive = MulticlassClassificationEvaluator(labelCol=\"label\", predictionCol=\"prediction\", metricName=\"recallByLabel\", metricLabel=1.0)\n",
    "recall = evaluator_recall_positive.evaluate(predictions_tuned)\n",
    "print(f\"Recall (for Readmitted Class 1.0) = {recall:.2%}\")\n",
    "\n",
    "# --- Precision for Positive Class ---\n",
    "evaluator_precision_positive = MulticlassClassificationEvaluator(labelCol=\"label\", predictionCol=\"prediction\", metricName=\"precisionByLabel\", metricLabel=1.0)\n",
    "precision = evaluator_precision_positive.evaluate(predictions_tuned)\n",
    "print(f\"Precision (for Readmitted Class 1.0) = {precision:.2%}\")\n",
    "\n",
    "# --- F1 Score for Positive Class ---\n",
    "evaluator_f1_positive = MulticlassClassificationEvaluator(labelCol=\"label\", predictionCol=\"prediction\", metricName=\"f1\", metricLabel=1.0)\n",
    "f1_score = evaluator_f1_positive.evaluate(predictions_tuned)\n",
    "print(f\"F1 Score (for Readmitted Class 1.0) = {f1_score:.4f}\")\n",
    "\n",
    "# --- Confusion Matrix ---\n",
    "print(\"\\nConfusion Matrix (RandomForest):\")\n",
    "preds_and_labels_rf = predictions_tuned.select(['prediction', 'label']).toPandas()\n",
    "confusion_matrix_rf = pd.crosstab(preds_and_labels_rf['label'], preds_and_labels_rf['prediction'], rownames=['Actual'], colnames=['Predicted'])\n",
    "print(confusion_matrix_rf)"
   ]
  },
  {
   "cell_type": "markdown",
   "id": "060bb3bd-9b88-4b9d-97d4-24977b38e2cd",
   "metadata": {},
   "source": [
    "# Test_5 tune gradient boost with weighted column"
   ]
  },
  {
   "cell_type": "code",
   "execution_count": 32,
   "id": "a105a12f-8313-4147-834d-5dadb9530b15",
   "metadata": {},
   "outputs": [
    {
     "name": "stdout",
     "output_type": "stream",
     "text": [
      "Starting hyperparameter tuning for GradientBoost...\n",
      "Tuning complete.\n",
      "Training the GBTClassifier model...\n",
      "Model training complete.\n",
      "\n",
      "--- Evaluation of GBTClassifier Model ---\n",
      "Area Under ROC (AUC) = 0.6876\n",
      "Recall (for Readmitted Class 1.0) = 57.04%\n",
      "Precision (for Readmitted Class 1.0) = 61.28%\n",
      "F1 Score (for Readmitted Class 1.0) = 0.6345\n",
      "\n",
      "Confusion Matrix (GradientBoost):\n",
      "Predicted   0.0   1.0\n",
      "Actual               \n",
      "0.0        7530  3357\n",
      "1.0        4001  5313\n"
     ]
    }
   ],
   "source": [
    "from pyspark.ml.classification import GBTClassifier\n",
    "\n",
    "# 1. Instantiate the GBTClassifier\n",
    "# Make sure to use the 'weightCol' to handle class imbalance.\n",
    "gbt = GBTClassifier(\n",
    "    featuresCol='features',\n",
    "    labelCol='label',\n",
    "    weightCol='classWeight', # Use the same weight column!\n",
    "    seed=42\n",
    ")\n",
    "\n",
    "# --- Define a grid of hyperparameters to search ---\n",
    "# We will test combinations of these settings.\n",
    "paramGrid = (ParamGridBuilder()\n",
    "             .addGrid(gbt.maxDepth, [5, 10])               # Test shallow vs. medium trees. GBTs are often shallower than RF.\n",
    "             .addGrid(gbt.maxIter, [20, 50])               # Test default vs. more iterations.\n",
    "             .addGrid(gbt.stepSize, [0.1, 0.05])           # Test default learning rate vs. a smaller, more robust one.\n",
    "             .addGrid(gbt.minInstancesPerNode, [10, 20])   # This is still a great parameter to control overfitting.\n",
    "             .build())\n",
    "\n",
    "# --- Set up the evaluator ---\n",
    "# We want to optimize for the best overall model, so AUC is the best metric.\n",
    "# It will find the model that is fundamentally best at separating the classes.\n",
    "evaluator = BinaryClassificationEvaluator(labelCol=\"label\", \n",
    "                                          rawPredictionCol=\"rawPrediction\", \n",
    "                                          metricName=\"areaUnderROC\")\n",
    "\n",
    "# --- Set up the CrossValidator ---\n",
    "cv = CrossValidator(estimator=gbt,\n",
    "                    estimatorParamMaps=paramGrid,\n",
    "                    evaluator=evaluator,\n",
    "                    numFolds=3,  # Use 3 folds for speed. Can increase to 5 for more robustness.\n",
    "                    parallelism=4) # Speeds up training if your machine has the cores\n",
    "\n",
    "# --- Run the tuning process ---\n",
    "# This is the most computationally expensive step. It will take time!\n",
    "print(\"Starting hyperparameter tuning for GradientBoost...\")\n",
    "cv_model = cv.fit(trainingData)\n",
    "print(\"Tuning complete.\")\n",
    "\n",
    "\n",
    "# 2. Train the model\n",
    "print(\"Training the GBTClassifier model...\")\n",
    "gbt_model = gbt.fit(trainingData)\n",
    "print(\"Model training complete.\")\n",
    "\n",
    "# 3. Make predictions\n",
    "predictions_gbt = gbt_model.transform(testData)\n",
    "\n",
    "# 4. Evaluate the GBT model's performance\n",
    "# You can use your exact same evaluation code block here.\n",
    "print(\"\\n--- Evaluation of GBTClassifier Model ---\")\n",
    "\n",
    "# --- AUC ---\n",
    "evaluator_auc = BinaryClassificationEvaluator(labelCol=\"label\", rawPredictionCol=\"rawPrediction\", metricName=\"areaUnderROC\")\n",
    "auc = evaluator_auc.evaluate(predictions_gbt)\n",
    "print(f\"Area Under ROC (AUC) = {auc:.4f}\")\n",
    "\n",
    "# --- Recall for Positive Class ---\n",
    "evaluator_recall_positive = MulticlassClassificationEvaluator(labelCol=\"label\", predictionCol=\"prediction\", metricName=\"recallByLabel\", metricLabel=1.0)\n",
    "recall = evaluator_recall_positive.evaluate(predictions_gbt)\n",
    "print(f\"Recall (for Readmitted Class 1.0) = {recall:.2%}\")\n",
    "\n",
    "# --- Precision for Positive Class ---\n",
    "evaluator_precision_positive = MulticlassClassificationEvaluator(labelCol=\"label\", predictionCol=\"prediction\", metricName=\"precisionByLabel\", metricLabel=1.0)\n",
    "precision = evaluator_precision_positive.evaluate(predictions_gbt)\n",
    "print(f\"Precision (for Readmitted Class 1.0) = {precision:.2%}\")\n",
    "\n",
    "# --- F1 Score for Positive Class ---\n",
    "evaluator_f1_positive = MulticlassClassificationEvaluator(labelCol=\"label\", predictionCol=\"prediction\", metricName=\"f1\", metricLabel=1.0)\n",
    "f1_score = evaluator_f1_positive.evaluate(predictions_gbt)\n",
    "print(f\"F1 Score (for Readmitted Class 1.0) = {f1_score:.4f}\")\n",
    "\n",
    "# --- Confusion Matrix ---\n",
    "print(\"\\nConfusion Matrix (GradientBoost):\")\n",
    "preds_and_labels_gbt = predictions_gbt.select(['prediction', 'label']).toPandas()\n",
    "confusion_matrix_gbt = pd.crosstab(preds_and_labels_gbt['label'], preds_and_labels_gbt['prediction'], rownames=['Actual'], colnames=['Predicted'])\n",
    "print(confusion_matrix_gbt)"
   ]
  },
  {
   "cell_type": "markdown",
   "id": "51ad1888-cd66-466e-b596-4470b362b0f5",
   "metadata": {},
   "source": [
    "<font color=red>**There is no bug difference between random forest, tuned random forest and tuned gradient boost method. Maybe more feature engineering is helpful**"
   ]
  },
  {
   "cell_type": "code",
   "execution_count": null,
   "id": "13a072e6-e6ab-4da5-968f-d0e1d42b7b12",
   "metadata": {},
   "outputs": [],
   "source": []
  }
 ],
 "metadata": {
  "kernelspec": {
   "display_name": "Python 3 (ipykernel)",
   "language": "python",
   "name": "python3"
  },
  "language_info": {
   "codemirror_mode": {
    "name": "ipython",
    "version": 3
   },
   "file_extension": ".py",
   "mimetype": "text/x-python",
   "name": "python",
   "nbconvert_exporter": "python",
   "pygments_lexer": "ipython3",
   "version": "3.10.10"
  }
 },
 "nbformat": 4,
 "nbformat_minor": 5
}
